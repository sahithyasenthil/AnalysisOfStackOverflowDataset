{
  "nbformat": 4,
  "nbformat_minor": 0,
  "metadata": {
    "colab": {
      "provenance": [],
      "toc_visible": true
    },
    "kernelspec": {
      "name": "python3",
      "display_name": "Python 3"
    }
  },
  "cells": [
    {
      "cell_type": "markdown",
      "metadata": {
        "id": "5ZHOrXO3yb9Z"
      },
      "source": [
        "##Dataset Preprocessing and Visualization"
      ]
    },
    {
      "cell_type": "code",
      "metadata": {
        "id": "CAfhxiTbEapA"
      },
      "source": [
        " import pandas as pd\n",
        "import numpy as np\n",
        "import matplotlib as mpl\n",
        "import matplotlib.pyplot as plt\n",
        "import seaborn as sns\n",
        "import warnings\n",
        "warnings.filterwarnings('ignore')\n",
        "from sklearn import preprocessing\n",
        "import matplotlib.animation as animation\n",
        "%matplotlib inline\n"
      ],
      "execution_count": null,
      "outputs": []
    },
    {
      "cell_type": "code",
      "metadata": {
        "id": "_61HKCnjEiV4"
      },
      "source": [
        "url='https://raw.githubusercontent.com/roma27/Stack-overflow-FODS/master/survey_results_public.csv'"
      ],
      "execution_count": null,
      "outputs": []
    },
    {
      "cell_type": "code",
      "metadata": {
        "id": "gi4OtD5mEla3"
      },
      "source": [
        "df=pd.read_csv(url)"
      ],
      "execution_count": null,
      "outputs": []
    },
    {
      "cell_type": "code",
      "metadata": {
        "id": "w5lhwjaeI2u1"
      },
      "source": [
        "dataset=df.copy()"
      ],
      "execution_count": null,
      "outputs": []
    },
    {
      "cell_type": "markdown",
      "metadata": {
        "id": "8iyVBs8SMsDW"
      },
      "source": [
        "Datatype of each columns"
      ]
    },
    {
      "cell_type": "code",
      "metadata": {
        "id": "UUMcxMrfMv3n",
        "outputId": "cb53d324-c1bc-46c6-d9cd-62ad594f8b78",
        "colab": {
          "base_uri": "https://localhost:8080/",
          "height": 230
        }
      },
      "source": [
        "df.dtypes"
      ],
      "execution_count": null,
      "outputs": [
        {
          "output_type": "execute_result",
          "data": {
            "text/plain": [
              "Respondent              int64\n",
              "MainBranch             object\n",
              "Hobbyist               object\n",
              "Age                   float64\n",
              "Age1stCode             object\n",
              "                       ...   \n",
              "WebframeWorkedWith     object\n",
              "WelcomeChange          object\n",
              "WorkWeekHrs           float64\n",
              "YearsCode              object\n",
              "YearsCodePro           object\n",
              "Length: 61, dtype: object"
            ]
          },
          "metadata": {
            "tags": []
          },
          "execution_count": 6
        }
      ]
    },
    {
      "cell_type": "markdown",
      "metadata": {
        "id": "NirM2a9rFIft"
      },
      "source": [
        "Checking for null values in each column"
      ]
    },
    {
      "cell_type": "code",
      "metadata": {
        "id": "Rku5IB0DFFRP",
        "outputId": "55e9bc46-0b17-41b5-dfe7-f6b8209784ac",
        "colab": {
          "base_uri": "https://localhost:8080/",
          "height": 230
        }
      },
      "source": [
        "df.isnull().sum()"
      ],
      "execution_count": null,
      "outputs": [
        {
          "output_type": "execute_result",
          "data": {
            "text/plain": [
              "Respondent                0\n",
              "MainBranch              299\n",
              "Hobbyist                 45\n",
              "Age                   19015\n",
              "Age1stCode             6561\n",
              "                      ...  \n",
              "WebframeWorkedWith    22182\n",
              "WelcomeChange         11778\n",
              "WorkWeekHrs           23310\n",
              "YearsCode              6777\n",
              "YearsCodePro          18112\n",
              "Length: 61, dtype: int64"
            ]
          },
          "metadata": {
            "tags": []
          },
          "execution_count": 7
        }
      ]
    },
    {
      "cell_type": "markdown",
      "metadata": {
        "id": "zxPhSCTSI-uW"
      },
      "source": [
        "**Main Branch column**"
      ]
    },
    {
      "cell_type": "code",
      "metadata": {
        "id": "O043Hf5zHQxF",
        "outputId": "06952f69-7848-4c58-9f38-81ede2793e3c",
        "colab": {
          "base_uri": "https://localhost:8080/",
          "height": 124
        }
      },
      "source": [
        "df['MainBranch'].value_counts()"
      ],
      "execution_count": null,
      "outputs": [
        {
          "output_type": "execute_result",
          "data": {
            "text/plain": [
              "I am a developer by profession                                                   47193\n",
              "I am a student who is learning to code                                            7970\n",
              "I am not primarily a developer, but I write code sometimes as part of my work     5502\n",
              "I code primarily as a hobby                                                       2314\n",
              "I used to be a developer by profession, but no longer am                          1183\n",
              "Name: MainBranch, dtype: int64"
            ]
          },
          "metadata": {
            "tags": []
          },
          "execution_count": 8
        }
      ]
    },
    {
      "cell_type": "code",
      "metadata": {
        "id": "x9bkm25DM5c7"
      },
      "source": [
        "df['MainBranch'].fillna(method='ffill',inplace=True)"
      ],
      "execution_count": null,
      "outputs": []
    },
    {
      "cell_type": "code",
      "metadata": {
        "id": "jS01R5ZYNIje",
        "outputId": "84650d33-599a-474a-d062-8739cd46fc15",
        "colab": {
          "base_uri": "https://localhost:8080/",
          "height": 230
        }
      },
      "source": [
        "df['MainBranch']"
      ],
      "execution_count": null,
      "outputs": [
        {
          "output_type": "execute_result",
          "data": {
            "text/plain": [
              "0                           I am a developer by profession\n",
              "1                           I am a developer by profession\n",
              "2                              I code primarily as a hobby\n",
              "3                           I am a developer by profession\n",
              "4        I used to be a developer by profession, but no...\n",
              "                               ...                        \n",
              "64456               I am a student who is learning to code\n",
              "64457               I am a student who is learning to code\n",
              "64458               I am a student who is learning to code\n",
              "64459               I am a student who is learning to code\n",
              "64460               I am a student who is learning to code\n",
              "Name: MainBranch, Length: 64461, dtype: object"
            ]
          },
          "metadata": {
            "tags": []
          },
          "execution_count": 10
        }
      ]
    },
    {
      "cell_type": "code",
      "metadata": {
        "id": "sT8LvQs7JVxa"
      },
      "source": [
        "label_encoder = preprocessing.LabelEncoder()\n",
        "df['MainBranch']= label_encoder.fit_transform(df['MainBranch'])"
      ],
      "execution_count": null,
      "outputs": []
    },
    {
      "cell_type": "code",
      "metadata": {
        "id": "Tr_FDc8nMPHV",
        "outputId": "a3d8b942-d65f-417a-f8ac-a39395c8c57a",
        "colab": {
          "base_uri": "https://localhost:8080/",
          "height": 124
        }
      },
      "source": [
        "\n",
        "df['MainBranch'].value_counts()"
      ],
      "execution_count": null,
      "outputs": [
        {
          "output_type": "execute_result",
          "data": {
            "text/plain": [
              "0    47193\n",
              "1     8269\n",
              "2     5502\n",
              "3     2314\n",
              "4     1183\n",
              "Name: MainBranch, dtype: int64"
            ]
          },
          "metadata": {
            "tags": []
          },
          "execution_count": 12
        }
      ]
    },
    {
      "cell_type": "markdown",
      "metadata": {
        "id": "4ZhKePmTN2YW"
      },
      "source": [
        "**Hobbyist column preprocessing**"
      ]
    },
    {
      "cell_type": "code",
      "metadata": {
        "id": "Al2U7tcROCVe",
        "outputId": "05037fba-72aa-4d93-cc99-2982e0de5856",
        "colab": {
          "base_uri": "https://localhost:8080/",
          "height": 70
        }
      },
      "source": [
        "df['Hobbyist'].value_counts()"
      ],
      "execution_count": null,
      "outputs": [
        {
          "output_type": "execute_result",
          "data": {
            "text/plain": [
              "Yes    50388\n",
              "No     14028\n",
              "Name: Hobbyist, dtype: int64"
            ]
          },
          "metadata": {
            "tags": []
          },
          "execution_count": 13
        }
      ]
    },
    {
      "cell_type": "code",
      "metadata": {
        "id": "KzfZeI9UOCqS"
      },
      "source": [
        "df['Hobbyist'].fillna(method='bfill',inplace=True)"
      ],
      "execution_count": null,
      "outputs": []
    },
    {
      "cell_type": "code",
      "metadata": {
        "id": "VItYamq4QoKv",
        "outputId": "09f4a393-06c3-4ad0-cc6a-dd1d6b5738a1",
        "colab": {
          "base_uri": "https://localhost:8080/",
          "height": 70
        }
      },
      "source": [
        "df['Hobbyist'].value_counts()"
      ],
      "execution_count": null,
      "outputs": [
        {
          "output_type": "execute_result",
          "data": {
            "text/plain": [
              "Yes    50426\n",
              "No     14035\n",
              "Name: Hobbyist, dtype: int64"
            ]
          },
          "metadata": {
            "tags": []
          },
          "execution_count": 15
        }
      ]
    },
    {
      "cell_type": "code",
      "metadata": {
        "id": "wK0R1EOgRfr9"
      },
      "source": [
        "label_encoder = preprocessing.LabelEncoder()\n",
        "df['Hobbyist']= label_encoder.fit_transform(df['Hobbyist'])"
      ],
      "execution_count": null,
      "outputs": []
    },
    {
      "cell_type": "code",
      "metadata": {
        "id": "ATEowaOLRE0z",
        "outputId": "02c6266e-4fd7-4aa9-f096-2fc5f520e6d0",
        "colab": {
          "base_uri": "https://localhost:8080/",
          "height": 230
        }
      },
      "source": [
        "df['Age'].value_counts()"
      ],
      "execution_count": null,
      "outputs": [
        {
          "output_type": "execute_result",
          "data": {
            "text/plain": [
              "25.0    2693\n",
              "28.0    2412\n",
              "30.0    2406\n",
              "26.0    2391\n",
              "27.0    2338\n",
              "        ... \n",
              "23.8       1\n",
              "95.0       1\n",
              "31.5       1\n",
              "20.5       1\n",
              "16.5       1\n",
              "Name: Age, Length: 110, dtype: int64"
            ]
          },
          "metadata": {
            "tags": []
          },
          "execution_count": 17
        }
      ]
    },
    {
      "cell_type": "code",
      "metadata": {
        "id": "TCPVUGjBRE-T"
      },
      "source": [
        "df['Age'].fillna(df['Age'].mean(),inplace=True)"
      ],
      "execution_count": null,
      "outputs": []
    },
    {
      "cell_type": "markdown",
      "metadata": {
        "id": "iB2cftwdSB14"
      },
      "source": [
        "**Age1stCode column preprocessing**"
      ]
    },
    {
      "cell_type": "code",
      "metadata": {
        "id": "M_0dxozWSAVP",
        "outputId": "a110b627-5a0b-4486-d4ef-b736a4b7c2d0",
        "colab": {
          "base_uri": "https://localhost:8080/",
          "height": 230
        }
      },
      "source": [
        "df['Age1stCode'].value_counts()"
      ],
      "execution_count": null,
      "outputs": [
        {
          "output_type": "execute_result",
          "data": {
            "text/plain": [
              "15    5618\n",
              "14    5514\n",
              "16    5463\n",
              "18    5382\n",
              "12    5081\n",
              "      ... \n",
              "68       1\n",
              "83       1\n",
              "76       1\n",
              "63       1\n",
              "72       1\n",
              "Name: Age1stCode, Length: 63, dtype: int64"
            ]
          },
          "metadata": {
            "tags": []
          },
          "execution_count": 19
        }
      ]
    },
    {
      "cell_type": "code",
      "metadata": {
        "id": "C_WT_WafS1_O",
        "outputId": "540b9749-7bb4-41d2-e0ee-5e34aae337bf",
        "colab": {
          "base_uri": "https://localhost:8080/"
        }
      },
      "source": [
        "df['Age1stCode'].isnull().sum()"
      ],
      "execution_count": null,
      "outputs": [
        {
          "output_type": "execute_result",
          "data": {
            "text/plain": [
              "6561"
            ]
          },
          "metadata": {
            "tags": []
          },
          "execution_count": 20
        }
      ]
    },
    {
      "cell_type": "code",
      "metadata": {
        "id": "SWNf5BHeVuDP"
      },
      "source": [
        "df['Age1stCode'].fillna('-1',inplace=True)"
      ],
      "execution_count": null,
      "outputs": []
    },
    {
      "cell_type": "code",
      "metadata": {
        "id": "OxXXr7XIXvNS"
      },
      "source": [
        "df['Age1stCode'].replace('Younger than 5 years', '0',inplace =True)"
      ],
      "execution_count": null,
      "outputs": []
    },
    {
      "cell_type": "code",
      "metadata": {
        "id": "2gT1f1gmZM2h"
      },
      "source": [
        "df['Age1stCode'].replace('Older than 85', '85',inplace =True)"
      ],
      "execution_count": null,
      "outputs": []
    },
    {
      "cell_type": "code",
      "metadata": {
        "id": "tbbdXy7sYLQo",
        "outputId": "1d261439-9b4d-4d9d-a3fb-9fb7357f552a",
        "colab": {
          "base_uri": "https://localhost:8080/"
        }
      },
      "source": [
        "df['Age1stCode'].isnull().sum()"
      ],
      "execution_count": null,
      "outputs": [
        {
          "output_type": "execute_result",
          "data": {
            "text/plain": [
              "0"
            ]
          },
          "metadata": {
            "tags": []
          },
          "execution_count": 24
        }
      ]
    },
    {
      "cell_type": "code",
      "metadata": {
        "id": "YntYB6KgYeWd",
        "outputId": "276dd810-81bf-48f7-cc43-26113f2fc44f",
        "colab": {
          "base_uri": "https://localhost:8080/"
        }
      },
      "source": [
        "df[df['Age1stCode']=='Younger than 5 years']"
      ],
      "execution_count": null,
      "outputs": [
        {
          "output_type": "execute_result",
          "data": {
            "text/html": [
              "<div>\n",
              "<style scoped>\n",
              "    .dataframe tbody tr th:only-of-type {\n",
              "        vertical-align: middle;\n",
              "    }\n",
              "\n",
              "    .dataframe tbody tr th {\n",
              "        vertical-align: top;\n",
              "    }\n",
              "\n",
              "    .dataframe thead th {\n",
              "        text-align: right;\n",
              "    }\n",
              "</style>\n",
              "<table border=\"1\" class=\"dataframe\">\n",
              "  <thead>\n",
              "    <tr style=\"text-align: right;\">\n",
              "      <th></th>\n",
              "      <th>Respondent</th>\n",
              "      <th>MainBranch</th>\n",
              "      <th>Hobbyist</th>\n",
              "      <th>Age</th>\n",
              "      <th>Age1stCode</th>\n",
              "      <th>CompFreq</th>\n",
              "      <th>CompTotal</th>\n",
              "      <th>ConvertedComp</th>\n",
              "      <th>Country</th>\n",
              "      <th>CurrencyDesc</th>\n",
              "      <th>CurrencySymbol</th>\n",
              "      <th>DatabaseDesireNextYear</th>\n",
              "      <th>DatabaseWorkedWith</th>\n",
              "      <th>DevType</th>\n",
              "      <th>EdLevel</th>\n",
              "      <th>Employment</th>\n",
              "      <th>Ethnicity</th>\n",
              "      <th>Gender</th>\n",
              "      <th>JobFactors</th>\n",
              "      <th>JobSat</th>\n",
              "      <th>JobSeek</th>\n",
              "      <th>LanguageDesireNextYear</th>\n",
              "      <th>LanguageWorkedWith</th>\n",
              "      <th>MiscTechDesireNextYear</th>\n",
              "      <th>MiscTechWorkedWith</th>\n",
              "      <th>NEWCollabToolsDesireNextYear</th>\n",
              "      <th>NEWCollabToolsWorkedWith</th>\n",
              "      <th>NEWDevOps</th>\n",
              "      <th>NEWDevOpsImpt</th>\n",
              "      <th>NEWEdImpt</th>\n",
              "      <th>NEWJobHunt</th>\n",
              "      <th>NEWJobHuntResearch</th>\n",
              "      <th>NEWLearn</th>\n",
              "      <th>NEWOffTopic</th>\n",
              "      <th>NEWOnboardGood</th>\n",
              "      <th>NEWOtherComms</th>\n",
              "      <th>NEWOvertime</th>\n",
              "      <th>NEWPurchaseResearch</th>\n",
              "      <th>NEWPurpleLink</th>\n",
              "      <th>NEWSOSites</th>\n",
              "      <th>NEWStuck</th>\n",
              "      <th>OpSys</th>\n",
              "      <th>OrgSize</th>\n",
              "      <th>PlatformDesireNextYear</th>\n",
              "      <th>PlatformWorkedWith</th>\n",
              "      <th>PurchaseWhat</th>\n",
              "      <th>Sexuality</th>\n",
              "      <th>SOAccount</th>\n",
              "      <th>SOComm</th>\n",
              "      <th>SOPartFreq</th>\n",
              "      <th>SOVisitFreq</th>\n",
              "      <th>SurveyEase</th>\n",
              "      <th>SurveyLength</th>\n",
              "      <th>Trans</th>\n",
              "      <th>UndergradMajor</th>\n",
              "      <th>WebframeDesireNextYear</th>\n",
              "      <th>WebframeWorkedWith</th>\n",
              "      <th>WelcomeChange</th>\n",
              "      <th>WorkWeekHrs</th>\n",
              "      <th>YearsCode</th>\n",
              "      <th>YearsCodePro</th>\n",
              "    </tr>\n",
              "  </thead>\n",
              "  <tbody>\n",
              "  </tbody>\n",
              "</table>\n",
              "</div>"
            ],
            "text/plain": [
              "Empty DataFrame\n",
              "Columns: [Respondent, MainBranch, Hobbyist, Age, Age1stCode, CompFreq, CompTotal, ConvertedComp, Country, CurrencyDesc, CurrencySymbol, DatabaseDesireNextYear, DatabaseWorkedWith, DevType, EdLevel, Employment, Ethnicity, Gender, JobFactors, JobSat, JobSeek, LanguageDesireNextYear, LanguageWorkedWith, MiscTechDesireNextYear, MiscTechWorkedWith, NEWCollabToolsDesireNextYear, NEWCollabToolsWorkedWith, NEWDevOps, NEWDevOpsImpt, NEWEdImpt, NEWJobHunt, NEWJobHuntResearch, NEWLearn, NEWOffTopic, NEWOnboardGood, NEWOtherComms, NEWOvertime, NEWPurchaseResearch, NEWPurpleLink, NEWSOSites, NEWStuck, OpSys, OrgSize, PlatformDesireNextYear, PlatformWorkedWith, PurchaseWhat, Sexuality, SOAccount, SOComm, SOPartFreq, SOVisitFreq, SurveyEase, SurveyLength, Trans, UndergradMajor, WebframeDesireNextYear, WebframeWorkedWith, WelcomeChange, WorkWeekHrs, YearsCode, YearsCodePro]\n",
              "Index: []"
            ]
          },
          "metadata": {
            "tags": []
          },
          "execution_count": 25
        }
      ]
    },
    {
      "cell_type": "code",
      "metadata": {
        "id": "3RvRxBKtZ9J2",
        "outputId": "7daa6f0f-107b-4cf9-ebc1-e1030c2e581d",
        "colab": {
          "base_uri": "https://localhost:8080/"
        }
      },
      "source": [
        "df[df['Age1stCode']=='Older than 85']\n"
      ],
      "execution_count": null,
      "outputs": [
        {
          "output_type": "execute_result",
          "data": {
            "text/html": [
              "<div>\n",
              "<style scoped>\n",
              "    .dataframe tbody tr th:only-of-type {\n",
              "        vertical-align: middle;\n",
              "    }\n",
              "\n",
              "    .dataframe tbody tr th {\n",
              "        vertical-align: top;\n",
              "    }\n",
              "\n",
              "    .dataframe thead th {\n",
              "        text-align: right;\n",
              "    }\n",
              "</style>\n",
              "<table border=\"1\" class=\"dataframe\">\n",
              "  <thead>\n",
              "    <tr style=\"text-align: right;\">\n",
              "      <th></th>\n",
              "      <th>Respondent</th>\n",
              "      <th>MainBranch</th>\n",
              "      <th>Hobbyist</th>\n",
              "      <th>Age</th>\n",
              "      <th>Age1stCode</th>\n",
              "      <th>CompFreq</th>\n",
              "      <th>CompTotal</th>\n",
              "      <th>ConvertedComp</th>\n",
              "      <th>Country</th>\n",
              "      <th>CurrencyDesc</th>\n",
              "      <th>CurrencySymbol</th>\n",
              "      <th>DatabaseDesireNextYear</th>\n",
              "      <th>DatabaseWorkedWith</th>\n",
              "      <th>DevType</th>\n",
              "      <th>EdLevel</th>\n",
              "      <th>Employment</th>\n",
              "      <th>Ethnicity</th>\n",
              "      <th>Gender</th>\n",
              "      <th>JobFactors</th>\n",
              "      <th>JobSat</th>\n",
              "      <th>JobSeek</th>\n",
              "      <th>LanguageDesireNextYear</th>\n",
              "      <th>LanguageWorkedWith</th>\n",
              "      <th>MiscTechDesireNextYear</th>\n",
              "      <th>MiscTechWorkedWith</th>\n",
              "      <th>NEWCollabToolsDesireNextYear</th>\n",
              "      <th>NEWCollabToolsWorkedWith</th>\n",
              "      <th>NEWDevOps</th>\n",
              "      <th>NEWDevOpsImpt</th>\n",
              "      <th>NEWEdImpt</th>\n",
              "      <th>NEWJobHunt</th>\n",
              "      <th>NEWJobHuntResearch</th>\n",
              "      <th>NEWLearn</th>\n",
              "      <th>NEWOffTopic</th>\n",
              "      <th>NEWOnboardGood</th>\n",
              "      <th>NEWOtherComms</th>\n",
              "      <th>NEWOvertime</th>\n",
              "      <th>NEWPurchaseResearch</th>\n",
              "      <th>NEWPurpleLink</th>\n",
              "      <th>NEWSOSites</th>\n",
              "      <th>NEWStuck</th>\n",
              "      <th>OpSys</th>\n",
              "      <th>OrgSize</th>\n",
              "      <th>PlatformDesireNextYear</th>\n",
              "      <th>PlatformWorkedWith</th>\n",
              "      <th>PurchaseWhat</th>\n",
              "      <th>Sexuality</th>\n",
              "      <th>SOAccount</th>\n",
              "      <th>SOComm</th>\n",
              "      <th>SOPartFreq</th>\n",
              "      <th>SOVisitFreq</th>\n",
              "      <th>SurveyEase</th>\n",
              "      <th>SurveyLength</th>\n",
              "      <th>Trans</th>\n",
              "      <th>UndergradMajor</th>\n",
              "      <th>WebframeDesireNextYear</th>\n",
              "      <th>WebframeWorkedWith</th>\n",
              "      <th>WelcomeChange</th>\n",
              "      <th>WorkWeekHrs</th>\n",
              "      <th>YearsCode</th>\n",
              "      <th>YearsCodePro</th>\n",
              "    </tr>\n",
              "  </thead>\n",
              "  <tbody>\n",
              "  </tbody>\n",
              "</table>\n",
              "</div>"
            ],
            "text/plain": [
              "Empty DataFrame\n",
              "Columns: [Respondent, MainBranch, Hobbyist, Age, Age1stCode, CompFreq, CompTotal, ConvertedComp, Country, CurrencyDesc, CurrencySymbol, DatabaseDesireNextYear, DatabaseWorkedWith, DevType, EdLevel, Employment, Ethnicity, Gender, JobFactors, JobSat, JobSeek, LanguageDesireNextYear, LanguageWorkedWith, MiscTechDesireNextYear, MiscTechWorkedWith, NEWCollabToolsDesireNextYear, NEWCollabToolsWorkedWith, NEWDevOps, NEWDevOpsImpt, NEWEdImpt, NEWJobHunt, NEWJobHuntResearch, NEWLearn, NEWOffTopic, NEWOnboardGood, NEWOtherComms, NEWOvertime, NEWPurchaseResearch, NEWPurpleLink, NEWSOSites, NEWStuck, OpSys, OrgSize, PlatformDesireNextYear, PlatformWorkedWith, PurchaseWhat, Sexuality, SOAccount, SOComm, SOPartFreq, SOVisitFreq, SurveyEase, SurveyLength, Trans, UndergradMajor, WebframeDesireNextYear, WebframeWorkedWith, WelcomeChange, WorkWeekHrs, YearsCode, YearsCodePro]\n",
              "Index: []"
            ]
          },
          "metadata": {
            "tags": []
          },
          "execution_count": 26
        }
      ]
    },
    {
      "cell_type": "code",
      "metadata": {
        "id": "QISu8MCIT_w3"
      },
      "source": [
        "df['Age1stCode']=df['Age1stCode'].astype(int)"
      ],
      "execution_count": null,
      "outputs": []
    },
    {
      "cell_type": "code",
      "metadata": {
        "id": "rHHo4NaJS8GX"
      },
      "source": [
        "import math\n",
        "df['Age1stCode'].replace(-1,math.floor(df['Age1stCode'].mean()),inplace=True)"
      ],
      "execution_count": null,
      "outputs": []
    },
    {
      "cell_type": "code",
      "metadata": {
        "id": "inqcE1FTbAdQ",
        "outputId": "94b6b5f4-7382-4aa3-ac51-e5b9d406f221",
        "colab": {
          "base_uri": "https://localhost:8080/"
        }
      },
      "source": [
        "df['Age1stCode'].value_counts()"
      ],
      "execution_count": null,
      "outputs": [
        {
          "output_type": "execute_result",
          "data": {
            "text/plain": [
              "13    10748\n",
              "15     5618\n",
              "14     5514\n",
              "16     5463\n",
              "18     5382\n",
              "      ...  \n",
              "72        1\n",
              "76        1\n",
              "83        1\n",
              "68        1\n",
              "63        1\n",
              "Name: Age1stCode, Length: 62, dtype: int64"
            ]
          },
          "metadata": {
            "tags": []
          },
          "execution_count": 29
        }
      ]
    },
    {
      "cell_type": "markdown",
      "metadata": {
        "id": "37Rdu_TcdPKZ"
      },
      "source": [
        "**CompFreq column preprocessing**"
      ]
    },
    {
      "cell_type": "code",
      "metadata": {
        "id": "jTRdQ3kLfy1m",
        "outputId": "53397fb9-aec2-4c40-ec55-980164e087f3",
        "colab": {
          "base_uri": "https://localhost:8080/"
        }
      },
      "source": [
        "df['CompFreq'].value_counts()"
      ],
      "execution_count": null,
      "outputs": [
        {
          "output_type": "execute_result",
          "data": {
            "text/plain": [
              "Yearly     19818\n",
              "Monthly    18899\n",
              "Weekly      1352\n",
              "Name: CompFreq, dtype: int64"
            ]
          },
          "metadata": {
            "tags": []
          },
          "execution_count": 4
        }
      ]
    },
    {
      "cell_type": "code",
      "metadata": {
        "id": "tdQPZtE8dLFQ",
        "outputId": "61f8f633-109c-478e-f929-95949c456286",
        "colab": {
          "base_uri": "https://localhost:8080/"
        }
      },
      "source": [
        "df['CompFreq'].isnull().sum()"
      ],
      "execution_count": null,
      "outputs": [
        {
          "output_type": "execute_result",
          "data": {
            "text/plain": [
              "24392"
            ]
          },
          "metadata": {
            "tags": []
          },
          "execution_count": 5
        }
      ]
    },
    {
      "cell_type": "code",
      "metadata": {
        "id": "LmFFVPzEefIU"
      },
      "source": [
        "df['CompFreq'].fillna(method='ffill',inplace=True)"
      ],
      "execution_count": null,
      "outputs": []
    },
    {
      "cell_type": "code",
      "metadata": {
        "id": "kg6ln1PBgPgB",
        "outputId": "76e79840-c6c4-47f4-9d5d-2b93d4344f52",
        "colab": {
          "base_uri": "https://localhost:8080/"
        }
      },
      "source": [
        "df['CompFreq'].unique()"
      ],
      "execution_count": null,
      "outputs": [
        {
          "output_type": "execute_result",
          "data": {
            "text/plain": [
              "array(['Monthly', 'Yearly', 'Weekly'], dtype=object)"
            ]
          },
          "metadata": {
            "tags": []
          },
          "execution_count": 7
        }
      ]
    },
    {
      "cell_type": "code",
      "metadata": {
        "id": "R4WONnBOfKXS"
      },
      "source": [
        "label_encoder = preprocessing.LabelEncoder()\n",
        "df['CompFreq']= label_encoder.fit_transform(df['CompFreq'])"
      ],
      "execution_count": null,
      "outputs": []
    },
    {
      "cell_type": "markdown",
      "metadata": {
        "id": "WsOtoWTGoqq5"
      },
      "source": [
        "**CompTotal column preprocessing**"
      ]
    },
    {
      "cell_type": "code",
      "metadata": {
        "id": "AAGJOXgLnP33",
        "outputId": "108e2804-b2ee-4a20-caa9-5ae1968b4fd0",
        "colab": {
          "base_uri": "https://localhost:8080/"
        }
      },
      "source": [
        "df['CompTotal'].value_counts()"
      ],
      "execution_count": null,
      "outputs": [
        {
          "output_type": "execute_result",
          "data": {
            "text/plain": [
              "100000.0       769\n",
              "60000.0        735\n",
              "50000.0        717\n",
              "120000.0       660\n",
              "70000.0        617\n",
              "              ... \n",
              "1940000.0        1\n",
              "232500000.0      1\n",
              "11770.0          1\n",
              "77777.0          1\n",
              "49150.0          1\n",
              "Name: CompTotal, Length: 3003, dtype: int64"
            ]
          },
          "metadata": {
            "tags": []
          },
          "execution_count": 9
        }
      ]
    },
    {
      "cell_type": "code",
      "metadata": {
        "id": "fOQY4o7foI-G",
        "outputId": "74592291-71fe-43cf-96b5-9d295a9500d6",
        "colab": {
          "base_uri": "https://localhost:8080/"
        }
      },
      "source": [
        "df['CompTotal'].isnull().sum()"
      ],
      "execution_count": null,
      "outputs": [
        {
          "output_type": "execute_result",
          "data": {
            "text/plain": [
              "29635"
            ]
          },
          "metadata": {
            "tags": []
          },
          "execution_count": 10
        }
      ]
    },
    {
      "cell_type": "code",
      "metadata": {
        "id": "BLVirkj1oZZD"
      },
      "source": [
        "\n",
        "df['CompTotal'].fillna(df['CompTotal'].mean(),inplace=True)"
      ],
      "execution_count": null,
      "outputs": []
    },
    {
      "cell_type": "code",
      "metadata": {
        "id": "jEZr90rb1bUA"
      },
      "source": [
        "newdf=df[df['CompFreq']==1]"
      ],
      "execution_count": null,
      "outputs": []
    },
    {
      "cell_type": "code",
      "metadata": {
        "id": "5oq7-at33uEz",
        "outputId": "3264c8e6-3aa2-4a2a-f329-83acba635193",
        "colab": {
          "base_uri": "https://localhost:8080/",
          "height": 383
        }
      },
      "source": [
        "\n",
        "import statsmodels.api as sm\n",
        "from scipy.stats import norm\n",
        "import pylab\n",
        "\n",
        "my_data = norm.rvs(size=1000)\n",
        "sm.qqplot(newdf['CompTotal'])\n",
        "pylab.show()"
      ],
      "execution_count": null,
      "outputs": [
        {
          "output_type": "stream",
          "text": [
            "/usr/local/lib/python3.6/dist-packages/statsmodels/tools/_testing.py:19: FutureWarning: pandas.util.testing is deprecated. Use the functions in the public API at pandas.testing instead.\n",
            "  import pandas.util.testing as tm\n",
            "/usr/local/lib/python3.6/dist-packages/scipy/stats/_continuous_distns.py:296: RuntimeWarning: overflow encountered in square\n",
            "  scale = np.sqrt(((data - loc)**2).mean())\n"
          ],
          "name": "stderr"
        },
        {
          "output_type": "display_data",
          "data": {
            "image/png": "[encoded data removed]",
            "text/plain": [
              "<Figure size 432x288 with 1 Axes>"
            ]
          },
          "metadata": {
            "tags": [],
            "needs_background": "light"
          }
        }
      ]
    },
    {
      "cell_type": "markdown",
      "metadata": {
        "id": "18DgEwdHoxRX"
      },
      "source": [
        "**ConvertedComp column preprocessing**"
      ]
    },
    {
      "cell_type": "code",
      "metadata": {
        "id": "fYtkplz1omUd",
        "outputId": "6f523c2b-516e-4179-c37e-9930295091c8",
        "colab": {
          "base_uri": "https://localhost:8080/"
        }
      },
      "source": [
        "df['ConvertedComp'].value_counts()"
      ],
      "execution_count": null,
      "outputs": [
        {
          "output_type": "execute_result",
          "data": {
            "text/plain": [
              "120000.0     341\n",
              "100000.0     306\n",
              "150000.0     277\n",
              "2000000.0    258\n",
              "1000000.0    258\n",
              "            ... \n",
              "102700.0       1\n",
              "68721.0        1\n",
              "96250.0        1\n",
              "38456.0        1\n",
              "21487.0        1\n",
              "Name: ConvertedComp, Length: 6958, dtype: int64"
            ]
          },
          "metadata": {
            "tags": []
          },
          "execution_count": 38
        }
      ]
    },
    {
      "cell_type": "code",
      "metadata": {
        "id": "Iv2tVJY2pAWT",
        "outputId": "5bbe7ce7-1691-4d2a-af7e-176156521fb0",
        "colab": {
          "base_uri": "https://localhost:8080/"
        }
      },
      "source": [
        "df['ConvertedComp'].isnull().sum()"
      ],
      "execution_count": null,
      "outputs": [
        {
          "output_type": "execute_result",
          "data": {
            "text/plain": [
              "29705"
            ]
          },
          "metadata": {
            "tags": []
          },
          "execution_count": 39
        }
      ]
    },
    {
      "cell_type": "code",
      "metadata": {
        "id": "FxneYRgqpIIU"
      },
      "source": [
        "df['ConvertedComp'].fillna(df['ConvertedComp'].mean(),inplace=True)"
      ],
      "execution_count": null,
      "outputs": []
    },
    {
      "cell_type": "markdown",
      "metadata": {
        "id": "v0z8lAOTpO1U"
      },
      "source": [
        "**Country column preprocessing**"
      ]
    },
    {
      "cell_type": "code",
      "metadata": {
        "id": "OR7wfv5CpNKG",
        "outputId": "f9cd6d82-57b1-44a3-9b4f-149d43a2510b",
        "colab": {
          "base_uri": "https://localhost:8080/"
        }
      },
      "source": [
        "df['Country'].value_counts()"
      ],
      "execution_count": null,
      "outputs": [
        {
          "output_type": "execute_result",
          "data": {
            "text/plain": [
              "United States       12469\n",
              "India                8403\n",
              "United Kingdom       3896\n",
              "Germany              3890\n",
              "Canada               2191\n",
              "                    ...  \n",
              "Liechtenstein           1\n",
              "Mali                    1\n",
              "Saint Lucia             1\n",
              "Fiji                    1\n",
              "Marshall Islands        1\n",
              "Name: Country, Length: 183, dtype: int64"
            ]
          },
          "metadata": {
            "tags": []
          },
          "execution_count": 41
        }
      ]
    },
    {
      "cell_type": "code",
      "metadata": {
        "id": "MFXKGiQMpdZc",
        "outputId": "48e6de0e-23d3-4078-e086-b1d4290dde74",
        "colab": {
          "base_uri": "https://localhost:8080/"
        }
      },
      "source": [
        "df['Country'].isnull().sum()"
      ],
      "execution_count": null,
      "outputs": [
        {
          "output_type": "execute_result",
          "data": {
            "text/plain": [
              "389"
            ]
          },
          "metadata": {
            "tags": []
          },
          "execution_count": 42
        }
      ]
    },
    {
      "cell_type": "code",
      "metadata": {
        "id": "mA-nomVypkJv"
      },
      "source": [
        "df['Country'].fillna(method='bfill',inplace=True)"
      ],
      "execution_count": null,
      "outputs": []
    },
    {
      "cell_type": "markdown",
      "metadata": {
        "id": "-Dc4WQSeqJNe"
      },
      "source": [
        "**CurrencyDesc column preprocessing**"
      ]
    },
    {
      "cell_type": "code",
      "metadata": {
        "id": "PejsxTyLqVYK",
        "outputId": "58137d68-5275-45f2-c98d-c41c1ffb643d",
        "colab": {
          "base_uri": "https://localhost:8080/"
        }
      },
      "source": [
        "df['CurrencyDesc'].isnull().sum()"
      ],
      "execution_count": null,
      "outputs": [
        {
          "output_type": "execute_result",
          "data": {
            "text/plain": [
              "18989"
            ]
          },
          "metadata": {
            "tags": []
          },
          "execution_count": 44
        }
      ]
    },
    {
      "cell_type": "code",
      "metadata": {
        "id": "VFMGpCJAqVhi"
      },
      "source": [
        "df['CurrencyDesc'].fillna(method='ffill',inplace=True)"
      ],
      "execution_count": null,
      "outputs": []
    },
    {
      "cell_type": "markdown",
      "metadata": {
        "id": "sosek-tfsPwO"
      },
      "source": [
        "**CurrencySymbol column preprocessing**"
      ]
    },
    {
      "cell_type": "code",
      "metadata": {
        "id": "YLJrYllgsOYj",
        "outputId": "05a75eab-9f9e-453f-d6a9-6a644e5855d7",
        "colab": {
          "base_uri": "https://localhost:8080/"
        }
      },
      "source": [
        "df['CurrencySymbol'].isnull().sum()"
      ],
      "execution_count": null,
      "outputs": [
        {
          "output_type": "execute_result",
          "data": {
            "text/plain": [
              "18989"
            ]
          },
          "metadata": {
            "tags": []
          },
          "execution_count": 46
        }
      ]
    },
    {
      "cell_type": "code",
      "metadata": {
        "id": "EaQ2SVgSuXBY"
      },
      "source": [
        "df['CurrencySymbol'].fillna(method='ffill',inplace=True)"
      ],
      "execution_count": null,
      "outputs": []
    },
    {
      "cell_type": "markdown",
      "metadata": {
        "id": "loUlx2Svuv0H"
      },
      "source": [
        "**DatabaseDesireNextYear column preprocessing**"
      ]
    },
    {
      "cell_type": "code",
      "metadata": {
        "id": "Y6sxPGLSvBKn",
        "outputId": "b23c91af-e512-4cf7-fe5f-cc90373817d0",
        "colab": {
          "base_uri": "https://localhost:8080/"
        }
      },
      "source": [
        "df['DatabaseDesireNextYear'].value_counts()"
      ],
      "execution_count": null,
      "outputs": [
        {
          "output_type": "execute_result",
          "data": {
            "text/plain": [
              "PostgreSQL                                                                                 2310\n",
              "Microsoft SQL Server                                                                       1947\n",
              "MySQL                                                                                      1823\n",
              "MongoDB                                                                                    1624\n",
              "SQLite                                                                                      966\n",
              "                                                                                           ... \n",
              "Cassandra;DynamoDB;MariaDB;MongoDB;MySQL;Redis                                                1\n",
              "Cassandra;Couchbase;DynamoDB;Elasticsearch;Firebase;MongoDB;MySQL;Oracle                      1\n",
              "Cassandra;Couchbase;Elasticsearch;MySQL;PostgreSQL                                            1\n",
              "Cassandra;DynamoDB;Elasticsearch;Firebase;MariaDB;MongoDB;MySQL;Oracle;PostgreSQL;Redis       1\n",
              "Cassandra;Couchbase;DynamoDB;Elasticsearch;Firebase;IBM DB2;Oracle                            1\n",
              "Name: DatabaseDesireNextYear, Length: 3193, dtype: int64"
            ]
          },
          "metadata": {
            "tags": []
          },
          "execution_count": 48
        }
      ]
    },
    {
      "cell_type": "code",
      "metadata": {
        "id": "dk-M9ivquw_H",
        "outputId": "c78074ad-6be2-4ca0-f5ef-e039b2b4240f",
        "colab": {
          "base_uri": "https://localhost:8080/"
        }
      },
      "source": [
        "df['DatabaseDesireNextYear'].isnull().sum()"
      ],
      "execution_count": null,
      "outputs": [
        {
          "output_type": "execute_result",
          "data": {
            "text/plain": [
              "20391"
            ]
          },
          "metadata": {
            "tags": []
          },
          "execution_count": 49
        }
      ]
    },
    {
      "cell_type": "code",
      "metadata": {
        "id": "_-shIFtVvk6v"
      },
      "source": [
        "df['DatabaseDesireNextYear'].fillna(method='bfill',inplace=True)"
      ],
      "execution_count": null,
      "outputs": []
    },
    {
      "cell_type": "markdown",
      "metadata": {
        "id": "WvJv8dMT03BX"
      },
      "source": [
        "DatabaseWorkedWith column preprocessing"
      ]
    },
    {
      "cell_type": "code",
      "metadata": {
        "id": "mfhthUec4s2p",
        "outputId": "eca3a7bf-4c3a-414e-9a68-f6e93576bd39",
        "colab": {
          "base_uri": "https://localhost:8080/"
        }
      },
      "source": [
        "df['DatabaseWorkedWith'].value_counts()"
      ],
      "execution_count": null,
      "outputs": [
        {
          "output_type": "execute_result",
          "data": {
            "text/plain": [
              "MySQL                                                                                                        3827\n",
              "Microsoft SQL Server                                                                                         3298\n",
              "PostgreSQL                                                                                                   1937\n",
              "SQLite                                                                                                       1313\n",
              "Microsoft SQL Server;MySQL                                                                                   1158\n",
              "                                                                                                             ... \n",
              "Cassandra;DynamoDB;Elasticsearch;Oracle;PostgreSQL;Redis;SQLite                                                 1\n",
              "Cassandra;Couchbase;DynamoDB;Firebase;IBM DB2;MariaDB;Microsoft SQL Server;MySQL;Oracle;PostgreSQL;SQLite       1\n",
              "Cassandra;DynamoDB;Elasticsearch;Firebase;MongoDB;MySQL;Oracle;PostgreSQL;Redis;SQLite                          1\n",
              "DynamoDB;Elasticsearch;MariaDB;Microsoft SQL Server;MySQL;Redis;SQLite                                          1\n",
              "Couchbase;DynamoDB;Elasticsearch;Microsoft SQL Server;MySQL;PostgreSQL;Redis;SQLite                             1\n",
              "Name: DatabaseWorkedWith, Length: 2808, dtype: int64"
            ]
          },
          "metadata": {
            "tags": []
          },
          "execution_count": 51
        }
      ]
    },
    {
      "cell_type": "code",
      "metadata": {
        "id": "OYKXsYM_0087",
        "outputId": "517acb4c-14cc-4499-b65c-1bda324e17db",
        "colab": {
          "base_uri": "https://localhost:8080/"
        }
      },
      "source": [
        "df['DatabaseWorkedWith'].isnull().sum()"
      ],
      "execution_count": null,
      "outputs": [
        {
          "output_type": "execute_result",
          "data": {
            "text/plain": [
              "14924"
            ]
          },
          "metadata": {
            "tags": []
          },
          "execution_count": 52
        }
      ]
    },
    {
      "cell_type": "code",
      "metadata": {
        "id": "9oKhnKwQ1Ixy"
      },
      "source": [
        "df['DatabaseWorkedWith'].fillna(method='bfill',inplace=True)"
      ],
      "execution_count": null,
      "outputs": []
    },
    {
      "cell_type": "markdown",
      "metadata": {
        "id": "U8q2F2q51R51"
      },
      "source": [
        "DevType column preprocessing"
      ]
    },
    {
      "cell_type": "code",
      "metadata": {
        "id": "159qIOL04zjl",
        "outputId": "0fdffa66-cf0c-4497-da39-ec3516a53c73",
        "colab": {
          "base_uri": "https://localhost:8080/"
        }
      },
      "source": [
        "df['DevType'].value_counts()"
      ],
      "execution_count": null,
      "outputs": [
        {
          "output_type": "execute_result",
          "data": {
            "text/plain": [
              "Developer, full-stack                                                                                                                                                                                           4424\n",
              "Developer, back-end                                                                                                                                                                                             3086\n",
              "Developer, back-end;Developer, front-end;Developer, full-stack                                                                                                                                                  2227\n",
              "Developer, back-end;Developer, full-stack                                                                                                                                                                       1476\n",
              "Developer, front-end                                                                                                                                                                                            1401\n",
              "                                                                                                                                                                                                                ... \n",
              "Designer;Developer, back-end;Developer, front-end;Developer, full-stack;Developer, QA or test;Scientist                                                                                                            1\n",
              "Database administrator;Developer, back-end;Developer, desktop or enterprise applications;Developer, front-end;Developer, full-stack;Engineering manager;Product manager                                            1\n",
              "Academic researcher;Database administrator;Designer;Developer, back-end;Developer, desktop or enterprise applications;Developer, embedded applications or devices;Developer, front-end;Developer, full-stack       1\n",
              "Data or business analyst;Data scientist or machine learning specialist;Developer, back-end;Developer, game or graphics;Scientist                                                                                   1\n",
              "Developer, back-end;Developer, front-end;Developer, full-stack;Developer, QA or test;Engineer, data;Product manager                                                                                                1\n",
              "Name: DevType, Length: 8269, dtype: int64"
            ]
          },
          "metadata": {
            "tags": []
          },
          "execution_count": 54
        }
      ]
    },
    {
      "cell_type": "code",
      "metadata": {
        "id": "KHHUU0XL1WQD",
        "outputId": "b3a2a2a5-a8ce-487d-8044-d7ceee5ee77d",
        "colab": {
          "base_uri": "https://localhost:8080/"
        }
      },
      "source": [
        "df['DevType'].isnull().sum()"
      ],
      "execution_count": null,
      "outputs": [
        {
          "output_type": "execute_result",
          "data": {
            "text/plain": [
              "15091"
            ]
          },
          "metadata": {
            "tags": []
          },
          "execution_count": 55
        }
      ]
    },
    {
      "cell_type": "code",
      "metadata": {
        "id": "S6__f35v1cf2"
      },
      "source": [
        "df['DevType'].fillna(method='ffill',inplace=True)"
      ],
      "execution_count": null,
      "outputs": []
    },
    {
      "cell_type": "code",
      "metadata": {
        "id": "89phamO22qNg",
        "outputId": "e036fae0-4cf1-46ea-a2ab-478f9cd8c959",
        "colab": {
          "base_uri": "https://localhost:8080/"
        }
      },
      "source": [
        "df['DevType'].isnull().sum()"
      ],
      "execution_count": null,
      "outputs": [
        {
          "output_type": "execute_result",
          "data": {
            "text/plain": [
              "0"
            ]
          },
          "metadata": {
            "tags": []
          },
          "execution_count": 57
        }
      ]
    },
    {
      "cell_type": "markdown",
      "metadata": {
        "id": "Gy7SYZ_S11tj"
      },
      "source": [
        "**EdLevel column preprocessing**"
      ]
    },
    {
      "cell_type": "code",
      "metadata": {
        "id": "12n833zl47HK",
        "outputId": "41e04165-7a0a-421a-f58c-895d89b058be",
        "colab": {
          "base_uri": "https://localhost:8080/"
        }
      },
      "source": [
        "df['EdLevel'].value_counts()"
      ],
      "execution_count": null,
      "outputs": [
        {
          "output_type": "execute_result",
          "data": {
            "text/plain": [
              "Bachelor’s degree (B.A., B.S., B.Eng., etc.)                                          26542\n",
              "Master’s degree (M.A., M.S., M.Eng., MBA, etc.)                                       13112\n",
              "Some college/university study without earning a degree                                 7239\n",
              "Secondary school (e.g. American high school, German Realschule or Gymnasium, etc.)     4771\n",
              "Associate degree (A.A., A.S., etc.)                                                    1843\n",
              "Other doctoral degree (Ph.D., Ed.D., etc.)                                             1690\n",
              "Primary/elementary school                                                               941\n",
              "Professional degree (JD, MD, etc.)                                                      800\n",
              "I never completed any formal education                                                  493\n",
              "Name: EdLevel, dtype: int64"
            ]
          },
          "metadata": {
            "tags": []
          },
          "execution_count": 58
        }
      ]
    },
    {
      "cell_type": "code",
      "metadata": {
        "id": "6eKrJ2zV2AAh",
        "outputId": "55aca367-4a15-4c70-94ed-ecfb7e1c751b",
        "colab": {
          "base_uri": "https://localhost:8080/"
        }
      },
      "source": [
        "df['EdLevel'].isnull().sum()"
      ],
      "execution_count": null,
      "outputs": [
        {
          "output_type": "execute_result",
          "data": {
            "text/plain": [
              "7030"
            ]
          },
          "metadata": {
            "tags": []
          },
          "execution_count": 59
        }
      ]
    },
    {
      "cell_type": "code",
      "metadata": {
        "id": "nqhWTIG-2AIw"
      },
      "source": [
        "df['EdLevel'].fillna(method='ffill',inplace=True)"
      ],
      "execution_count": null,
      "outputs": []
    },
    {
      "cell_type": "code",
      "metadata": {
        "id": "c_XxR9YW5Qx_"
      },
      "source": [
        "label_encoder = preprocessing.LabelEncoder()\n",
        "df['EdLevel']= label_encoder.fit_transform(df['EdLevel'])"
      ],
      "execution_count": null,
      "outputs": []
    },
    {
      "cell_type": "markdown",
      "metadata": {
        "id": "qffgD4ru2Puz"
      },
      "source": [
        "**Employment column preprocessing**"
      ]
    },
    {
      "cell_type": "code",
      "metadata": {
        "id": "duj1hngy5Z6S",
        "outputId": "6c0d5fed-d5a7-44a5-dc01-b906159e7fe1",
        "colab": {
          "base_uri": "https://localhost:8080/"
        }
      },
      "source": [
        "df['Employment'].value_counts()"
      ],
      "execution_count": null,
      "outputs": [
        {
          "output_type": "execute_result",
          "data": {
            "text/plain": [
              "Employed full-time                                      45270\n",
              "Student                                                  7787\n",
              "Independent contractor, freelancer, or self-employed     5672\n",
              "Not employed, but looking for work                       2343\n",
              "Employed part-time                                       2217\n",
              "Not employed, and not looking for work                    322\n",
              "Retired                                                   243\n",
              "Name: Employment, dtype: int64"
            ]
          },
          "metadata": {
            "tags": []
          },
          "execution_count": 62
        }
      ]
    },
    {
      "cell_type": "code",
      "metadata": {
        "id": "IOdOeSso2Yge",
        "outputId": "6f0ffbda-372e-4564-85cf-5137b7616428",
        "colab": {
          "base_uri": "https://localhost:8080/"
        }
      },
      "source": [
        "df['Employment'].isnull().sum()"
      ],
      "execution_count": null,
      "outputs": [
        {
          "output_type": "execute_result",
          "data": {
            "text/plain": [
              "607"
            ]
          },
          "metadata": {
            "tags": []
          },
          "execution_count": 63
        }
      ]
    },
    {
      "cell_type": "code",
      "metadata": {
        "id": "kWl0V0sn2fcO"
      },
      "source": [
        "df['Employment'].fillna(method='ffill',inplace=True)"
      ],
      "execution_count": null,
      "outputs": []
    },
    {
      "cell_type": "markdown",
      "metadata": {
        "id": "i0M6xbug3bUG"
      },
      "source": [
        "**Ethnicity column preprocessing**"
      ]
    },
    {
      "cell_type": "code",
      "metadata": {
        "id": "2xgkREQB3j1D",
        "outputId": "09bd4605-f883-4ac0-f537-bd31f01733ad",
        "colab": {
          "base_uri": "https://localhost:8080/"
        }
      },
      "source": [
        "df['Ethnicity'].isnull().sum()"
      ],
      "execution_count": null,
      "outputs": [
        {
          "output_type": "execute_result",
          "data": {
            "text/plain": [
              "18513"
            ]
          },
          "metadata": {
            "tags": []
          },
          "execution_count": 65
        }
      ]
    },
    {
      "cell_type": "code",
      "metadata": {
        "id": "6yQeyH443mU1",
        "outputId": "0a69fb13-71bd-4964-f2fe-a2047a241c4e",
        "colab": {
          "base_uri": "https://localhost:8080/"
        }
      },
      "source": [
        "df['Ethnicity'].fillna(method='ffill',inplace=True)\n",
        "df['Ethnicity'].isnull().sum()"
      ],
      "execution_count": null,
      "outputs": [
        {
          "output_type": "execute_result",
          "data": {
            "text/plain": [
              "0"
            ]
          },
          "metadata": {
            "tags": []
          },
          "execution_count": 66
        }
      ]
    },
    {
      "cell_type": "markdown",
      "metadata": {
        "id": "i8sb3pYy3yWM"
      },
      "source": [
        "**Gender**"
      ]
    },
    {
      "cell_type": "code",
      "metadata": {
        "id": "61nr1svt32QF",
        "outputId": "b172f620-a005-4c78-979b-f42e0e44f115",
        "colab": {
          "base_uri": "https://localhost:8080/"
        }
      },
      "source": [
        "df['Gender'].isnull().sum()"
      ],
      "execution_count": null,
      "outputs": [
        {
          "output_type": "execute_result",
          "data": {
            "text/plain": [
              "13904"
            ]
          },
          "metadata": {
            "tags": []
          },
          "execution_count": 67
        }
      ]
    },
    {
      "cell_type": "code",
      "metadata": {
        "id": "REuVdS3-32Vh",
        "outputId": "ac1ee959-a236-41c4-bda9-6f10a21c2b7f",
        "colab": {
          "base_uri": "https://localhost:8080/"
        }
      },
      "source": [
        "df['Gender'].fillna(method='ffill',inplace=True)\n",
        "df['Gender'].isnull().sum()"
      ],
      "execution_count": null,
      "outputs": [
        {
          "output_type": "execute_result",
          "data": {
            "text/plain": [
              "0"
            ]
          },
          "metadata": {
            "tags": []
          },
          "execution_count": 68
        }
      ]
    },
    {
      "cell_type": "markdown",
      "metadata": {
        "id": "FHYHqUR94WJJ"
      },
      "source": [
        "Job factors"
      ]
    },
    {
      "cell_type": "code",
      "metadata": {
        "id": "TLHXmAnZ4WfG",
        "outputId": "c3ab0184-f2e4-492c-a1f8-540ddad4320d",
        "colab": {
          "base_uri": "https://localhost:8080/"
        }
      },
      "source": [
        "df['JobFactors'].isnull().sum()"
      ],
      "execution_count": null,
      "outputs": [
        {
          "output_type": "execute_result",
          "data": {
            "text/plain": [
              "15112"
            ]
          },
          "metadata": {
            "tags": []
          },
          "execution_count": 69
        }
      ]
    },
    {
      "cell_type": "code",
      "metadata": {
        "id": "6BgeSV1O6mLw",
        "outputId": "617ea5f0-35ab-4e4b-de88-97aea8c6f624",
        "colab": {
          "base_uri": "https://localhost:8080/"
        }
      },
      "source": [
        "df['JobFactors'].value_counts()"
      ],
      "execution_count": null,
      "outputs": [
        {
          "output_type": "execute_result",
          "data": {
            "text/plain": [
              "Flex time or a flexible schedule;Languages, frameworks, and other technologies I’d be working with;Remote work options                                2777\n",
              "Languages, frameworks, and other technologies I’d be working with;Office environment or company culture;Opportunities for professional development    2570\n",
              "Flex time or a flexible schedule;Languages, frameworks, and other technologies I’d be working with;Office environment or company culture              2508\n",
              "Flex time or a flexible schedule;Languages, frameworks, and other technologies I’d be working with;Opportunities for professional development         1666\n",
              "Flex time or a flexible schedule;Office environment or company culture;Opportunities for professional development                                     1650\n",
              "                                                                                                                                                      ... \n",
              "Diversity of the company or organization;Remote work options                                                                                             3\n",
              "Diversity of the company or organization;Financial performance or funding status of the company or organization                                          2\n",
              "Diversity of the company or organization;Family friendliness                                                                                             2\n",
              "Diversity of the company or organization;How widely used or impactful my work output would be                                                            1\n",
              "Diversity of the company or organization;Specific department or team I’d be working on                                                                   1\n",
              "Name: JobFactors, Length: 230, dtype: int64"
            ]
          },
          "metadata": {
            "tags": []
          },
          "execution_count": 70
        }
      ]
    },
    {
      "cell_type": "code",
      "metadata": {
        "id": "c-oL7rAz4WoB",
        "outputId": "e37505ca-88e5-4a33-a7cd-c0e3ef7f978e",
        "colab": {
          "base_uri": "https://localhost:8080/"
        }
      },
      "source": [
        "df['JobFactors'].fillna(method='ffill',inplace=True)\n",
        "df['JobFactors'].isnull().sum()"
      ],
      "execution_count": null,
      "outputs": [
        {
          "output_type": "execute_result",
          "data": {
            "text/plain": [
              "0"
            ]
          },
          "metadata": {
            "tags": []
          },
          "execution_count": 71
        }
      ]
    },
    {
      "cell_type": "markdown",
      "metadata": {
        "id": "zcxCxMOS7CIB"
      },
      "source": [
        "JobSat"
      ]
    },
    {
      "cell_type": "code",
      "metadata": {
        "id": "F7Yyy5hB7PfL",
        "outputId": "ed2a670c-a064-4643-9fe7-cd129f00ef45",
        "colab": {
          "base_uri": "https://localhost:8080/"
        }
      },
      "source": [
        "df['JobSat'].value_counts()"
      ],
      "execution_count": null,
      "outputs": [
        {
          "output_type": "execute_result",
          "data": {
            "text/plain": [
              "Very satisfied                        14611\n",
              "Slightly satisfied                    13930\n",
              "Slightly dissatisfied                  7124\n",
              "Neither satisfied nor dissatisfied     5783\n",
              "Very dissatisfied                      3746\n",
              "Name: JobSat, dtype: int64"
            ]
          },
          "metadata": {
            "tags": []
          },
          "execution_count": 72
        }
      ]
    },
    {
      "cell_type": "code",
      "metadata": {
        "id": "d1usF7h-73bj",
        "outputId": "ba50248d-06e9-4f73-b578-3e0d5a6a8fbb",
        "colab": {
          "base_uri": "https://localhost:8080/"
        }
      },
      "source": [
        "df['JobSat'].isnull().sum()"
      ],
      "execution_count": null,
      "outputs": [
        {
          "output_type": "execute_result",
          "data": {
            "text/plain": [
              "19267"
            ]
          },
          "metadata": {
            "tags": []
          },
          "execution_count": 73
        }
      ]
    },
    {
      "cell_type": "code",
      "metadata": {
        "id": "yg5hrrtF7_HN",
        "outputId": "57382e3a-59ef-4bc5-96e3-465896aac979",
        "colab": {
          "base_uri": "https://localhost:8080/"
        }
      },
      "source": [
        "df['JobSat'].fillna(method='ffill',inplace=True)\n",
        "df['JobSat'].isnull().sum()"
      ],
      "execution_count": null,
      "outputs": [
        {
          "output_type": "execute_result",
          "data": {
            "text/plain": [
              "0"
            ]
          },
          "metadata": {
            "tags": []
          },
          "execution_count": 74
        }
      ]
    },
    {
      "cell_type": "code",
      "metadata": {
        "id": "1GBzZQQk8Ko4"
      },
      "source": [
        "label_encoder = preprocessing.LabelEncoder()\n",
        "df['JobSat']= label_encoder.fit_transform(df['JobSat'])"
      ],
      "execution_count": null,
      "outputs": []
    },
    {
      "cell_type": "markdown",
      "metadata": {
        "id": "W6wpaJPs8XT7"
      },
      "source": [
        "JobSeek"
      ]
    },
    {
      "cell_type": "code",
      "metadata": {
        "id": "6uSo-EBc8Wg2",
        "outputId": "a374e34b-f780-482a-8b33-48ce576b68b6",
        "colab": {
          "base_uri": "https://localhost:8080/"
        }
      },
      "source": [
        "df['JobSeek'].isnull().sum()"
      ],
      "execution_count": null,
      "outputs": [
        {
          "output_type": "execute_result",
          "data": {
            "text/plain": [
              "12734"
            ]
          },
          "metadata": {
            "tags": []
          },
          "execution_count": 76
        }
      ]
    },
    {
      "cell_type": "code",
      "metadata": {
        "id": "DCtVLX1B8tGa",
        "outputId": "9f11818c-495e-4869-8332-5c7d9e06a684",
        "colab": {
          "base_uri": "https://localhost:8080/"
        }
      },
      "source": [
        "df['JobSeek'].value_counts()"
      ],
      "execution_count": null,
      "outputs": [
        {
          "output_type": "execute_result",
          "data": {
            "text/plain": [
              "I’m not actively looking, but I am open to new opportunities    29776\n",
              "I am not interested in new job opportunities                    13001\n",
              "I am actively looking for a job                                  8950\n",
              "Name: JobSeek, dtype: int64"
            ]
          },
          "metadata": {
            "tags": []
          },
          "execution_count": 77
        }
      ]
    },
    {
      "cell_type": "code",
      "metadata": {
        "id": "ecODLUHl8zWC",
        "outputId": "d1847870-a870-475b-9908-d097e76f988b",
        "colab": {
          "base_uri": "https://localhost:8080/"
        }
      },
      "source": [
        "df['JobSeek'].fillna(method='ffill',inplace=True)\n",
        "df['JobSeek'].isnull().sum()"
      ],
      "execution_count": null,
      "outputs": [
        {
          "output_type": "execute_result",
          "data": {
            "text/plain": [
              "0"
            ]
          },
          "metadata": {
            "tags": []
          },
          "execution_count": 78
        }
      ]
    },
    {
      "cell_type": "code",
      "metadata": {
        "id": "nUJvltVH8zdb"
      },
      "source": [
        "label_encoder = preprocessing.LabelEncoder()\n",
        "df['JobSeek']= label_encoder.fit_transform(df['JobSeek'])"
      ],
      "execution_count": null,
      "outputs": []
    },
    {
      "cell_type": "markdown",
      "metadata": {
        "id": "2s8v2KpQ-emX"
      },
      "source": [
        "LanguageDesireNextYear"
      ]
    },
    {
      "cell_type": "code",
      "metadata": {
        "id": "k3CuCH-Y89C-",
        "outputId": "9416f09a-7d42-45fe-e28b-d4caba4f8e68",
        "colab": {
          "base_uri": "https://localhost:8080/"
        }
      },
      "source": [
        "df['LanguageDesireNextYear'].isnull().sum()"
      ],
      "execution_count": null,
      "outputs": [
        {
          "output_type": "execute_result",
          "data": {
            "text/plain": [
              "10348"
            ]
          },
          "metadata": {
            "tags": []
          },
          "execution_count": 80
        }
      ]
    },
    {
      "cell_type": "code",
      "metadata": {
        "id": "3tjS7uMj-uhQ",
        "outputId": "3724cfa0-d557-4f24-f194-31a490cc32f0",
        "colab": {
          "base_uri": "https://localhost:8080/"
        }
      },
      "source": [
        "df['LanguageDesireNextYear'].value_counts()"
      ],
      "execution_count": null,
      "outputs": [
        {
          "output_type": "execute_result",
          "data": {
            "text/plain": [
              "Python                                                                                              1152\n",
              "Rust                                                                                                 528\n",
              "HTML/CSS;JavaScript;TypeScript                                                                       499\n",
              "C#                                                                                                   461\n",
              "Go                                                                                                   412\n",
              "                                                                                                    ... \n",
              "Bash/Shell/PowerShell;C;C#;C++;HTML/CSS;Java;JavaScript;Kotlin;Perl;PHP;Python;SQL                     1\n",
              "C#;C++;R;SQL;VBA                                                                                       1\n",
              "Assembly;Bash/Shell/PowerShell;C;C++;Dart;Haskell;HTML/CSS;JavaScript;Python;Rust;SQL;TypeScript       1\n",
              "Assembly;C#;C++;Dart;Go;HTML/CSS;Java;JavaScript;Julia;Python;Rust;TypeScript                          1\n",
              "C#;Go;Python;Swift                                                                                     1\n",
              "Name: LanguageDesireNextYear, Length: 16243, dtype: int64"
            ]
          },
          "metadata": {
            "tags": []
          },
          "execution_count": 81
        }
      ]
    },
    {
      "cell_type": "code",
      "metadata": {
        "id": "pJTVl_nc-_l1",
        "outputId": "b2785574-1753-4d29-b404-9a140d14c861",
        "colab": {
          "base_uri": "https://localhost:8080/"
        }
      },
      "source": [
        "df['LanguageDesireNextYear'].fillna(method='ffill',inplace=True)\n",
        "df['LanguageDesireNextYear'].isnull().sum()"
      ],
      "execution_count": null,
      "outputs": [
        {
          "output_type": "execute_result",
          "data": {
            "text/plain": [
              "0"
            ]
          },
          "metadata": {
            "tags": []
          },
          "execution_count": 82
        }
      ]
    },
    {
      "cell_type": "markdown",
      "metadata": {
        "id": "NAbVltiG_Vp1"
      },
      "source": [
        "LanguageWorkedWith"
      ]
    },
    {
      "cell_type": "code",
      "metadata": {
        "id": "np5PUaji_pgl",
        "outputId": "4581af16-2f83-402d-a8db-52bcdea0e703",
        "colab": {
          "base_uri": "https://localhost:8080/"
        }
      },
      "source": [
        "df['LanguageWorkedWith'].value_counts()"
      ],
      "execution_count": null,
      "outputs": [
        {
          "output_type": "execute_result",
          "data": {
            "text/plain": [
              "HTML/CSS;JavaScript;PHP;SQL                                         1073\n",
              "HTML/CSS;JavaScript                                                  900\n",
              "C#;HTML/CSS;JavaScript;SQL                                           856\n",
              "C#;HTML/CSS;JavaScript;SQL;TypeScript                                754\n",
              "HTML/CSS;JavaScript;TypeScript                                       697\n",
              "                                                                    ... \n",
              "C;Python;R;Rust                                                        1\n",
              "Assembly;C;C++;Haskell;Java;Python;SQL                                 1\n",
              "C;C++;Java;Kotlin;SQL                                                  1\n",
              "Bash/Shell/PowerShell;C;C++;Go;Haskell;JavaScript;Rust;Scala;SQL       1\n",
              "Bash/Shell/PowerShell;JavaScript;PHP;Python;Swift;TypeScript           1\n",
              "Name: LanguageWorkedWith, Length: 14256, dtype: int64"
            ]
          },
          "metadata": {
            "tags": []
          },
          "execution_count": 83
        }
      ]
    },
    {
      "cell_type": "code",
      "metadata": {
        "id": "EkandCaE_lBO",
        "outputId": "8e19b07f-d626-418e-f11e-894e15435aed",
        "colab": {
          "base_uri": "https://localhost:8080/"
        }
      },
      "source": [
        "df['LanguageWorkedWith'].isnull().sum()"
      ],
      "execution_count": null,
      "outputs": [
        {
          "output_type": "execute_result",
          "data": {
            "text/plain": [
              "7083"
            ]
          },
          "metadata": {
            "tags": []
          },
          "execution_count": 84
        }
      ]
    },
    {
      "cell_type": "code",
      "metadata": {
        "id": "bXmhbbU8_U8F",
        "outputId": "a37f379a-f9c6-46dd-a915-a23244a69368",
        "colab": {
          "base_uri": "https://localhost:8080/"
        }
      },
      "source": [
        "\n",
        "df['LanguageWorkedWith'].fillna(method='ffill',inplace=True)\n",
        "df['LanguageWorkedWith'].isnull().sum()"
      ],
      "execution_count": null,
      "outputs": [
        {
          "output_type": "execute_result",
          "data": {
            "text/plain": [
              "0"
            ]
          },
          "metadata": {
            "tags": []
          },
          "execution_count": 85
        }
      ]
    },
    {
      "cell_type": "markdown",
      "metadata": {
        "id": "RpIkfbA8_xY9"
      },
      "source": [
        "MiscTechDesireNextYear"
      ]
    },
    {
      "cell_type": "code",
      "metadata": {
        "id": "wxTWPjD4_3wv",
        "outputId": "49f43d99-e837-4bd5-f68f-2cfda0e665b0",
        "colab": {
          "base_uri": "https://localhost:8080/"
        }
      },
      "source": [
        "df['MiscTechDesireNextYear'].value_counts()"
      ],
      "execution_count": null,
      "outputs": [
        {
          "output_type": "execute_result",
          "data": {
            "text/plain": [
              "Node.js                                                               4134\n",
              "Node.js;React Native                                                  1615\n",
              ".NET;.NET Core                                                        1484\n",
              ".NET Core                                                             1218\n",
              "Flutter                                                               1009\n",
              "                                                                      ... \n",
              ".NET Core;Apache Spark;Node.js;Unity 3D                                  1\n",
              ".NET Core;Ansible;Apache Spark;Cordova;Node.js;Pandas;React Native       1\n",
              ".NET;Apache Spark;Node.js;Xamarin                                        1\n",
              ".NET Core;Flutter;React Native;TensorFlow;Torch/PyTorch;Xamarin          1\n",
              ".NET;.NET Core;Apache Spark;Flutter;Node.js;React Native                 1\n",
              "Name: MiscTechDesireNextYear, Length: 5216, dtype: int64"
            ]
          },
          "metadata": {
            "tags": []
          },
          "execution_count": 86
        }
      ]
    },
    {
      "cell_type": "code",
      "metadata": {
        "id": "PeEbKbEx_34i",
        "outputId": "c6b690df-d299-488d-a2e7-157247a4cc1b",
        "colab": {
          "base_uri": "https://localhost:8080/"
        }
      },
      "source": [
        "df['MiscTechDesireNextYear'].isnull().sum()"
      ],
      "execution_count": null,
      "outputs": [
        {
          "output_type": "execute_result",
          "data": {
            "text/plain": [
              "22082"
            ]
          },
          "metadata": {
            "tags": []
          },
          "execution_count": 87
        }
      ]
    },
    {
      "cell_type": "code",
      "metadata": {
        "id": "UROUWbUlATrR",
        "outputId": "6db76086-d9a8-4fcc-b776-d76d74653fdd",
        "colab": {
          "base_uri": "https://localhost:8080/"
        }
      },
      "source": [
        "\n",
        "df['MiscTechDesireNextYear'].fillna(method='ffill',inplace=True)\n",
        "df['MiscTechDesireNextYear'].isnull().sum()"
      ],
      "execution_count": null,
      "outputs": [
        {
          "output_type": "execute_result",
          "data": {
            "text/plain": [
              "0"
            ]
          },
          "metadata": {
            "tags": []
          },
          "execution_count": 88
        }
      ]
    },
    {
      "cell_type": "markdown",
      "metadata": {
        "id": "i1cvarH4Ab1t"
      },
      "source": [
        "MiscTechWorkedWith"
      ]
    },
    {
      "cell_type": "code",
      "metadata": {
        "id": "qnt917y_AoPP",
        "outputId": "3b9dd98c-e1e8-4b1e-bd35-0d8e047102c4",
        "colab": {
          "base_uri": "https://localhost:8080/"
        }
      },
      "source": [
        "df['MiscTechWorkedWith'].isnull().sum()"
      ],
      "execution_count": null,
      "outputs": [
        {
          "output_type": "execute_result",
          "data": {
            "text/plain": [
              "24147"
            ]
          },
          "metadata": {
            "tags": []
          },
          "execution_count": 89
        }
      ]
    },
    {
      "cell_type": "code",
      "metadata": {
        "id": "K5Dr5bbtArbi",
        "outputId": "7060194d-4f3f-4029-acb6-21a40d0db939",
        "colab": {
          "base_uri": "https://localhost:8080/"
        }
      },
      "source": [
        "df['MiscTechWorkedWith'].value_counts()"
      ],
      "execution_count": null,
      "outputs": [
        {
          "output_type": "execute_result",
          "data": {
            "text/plain": [
              "Node.js                                                                         7151\n",
              ".NET;.NET Core                                                                  3215\n",
              ".NET                                                                            2601\n",
              ".NET;.NET Core;Node.js                                                          1601\n",
              "Pandas                                                                          1356\n",
              "                                                                                ... \n",
              ".NET Core;Apache Spark;Cordova;Hadoop;Node.js;Pandas                               1\n",
              ".NET;.NET Core;Keras;Pandas;Torch/PyTorch;Xamarin                                  1\n",
              ".NET;.NET Core;Keras;Node.js;TensorFlow;Torch/PyTorch;Unity 3D;Unreal Engine       1\n",
              ".NET;Chef;Flutter;Node.js;Pandas                                                   1\n",
              ".NET;.NET Core;Ansible;Keras;Node.js;TensorFlow;Unity 3D                           1\n",
              "Name: MiscTechWorkedWith, Length: 2730, dtype: int64"
            ]
          },
          "metadata": {
            "tags": []
          },
          "execution_count": 90
        }
      ]
    },
    {
      "cell_type": "code",
      "metadata": {
        "id": "I2kP-um3AgB6",
        "outputId": "18e6087b-a46a-4622-cf59-b0eeee66701c",
        "colab": {
          "base_uri": "https://localhost:8080/"
        }
      },
      "source": [
        "\n",
        "df['MiscTechWorkedWith'].fillna(method='ffill',inplace=True)\n",
        "df['MiscTechWorkedWith'].isnull().sum()"
      ],
      "execution_count": null,
      "outputs": [
        {
          "output_type": "execute_result",
          "data": {
            "text/plain": [
              "0"
            ]
          },
          "metadata": {
            "tags": []
          },
          "execution_count": 91
        }
      ]
    },
    {
      "cell_type": "markdown",
      "metadata": {
        "id": "Z91uoj4WAz55"
      },
      "source": [
        "NEWCollabToolsDesireNextYear"
      ]
    },
    {
      "cell_type": "code",
      "metadata": {
        "id": "FnrW08lfAf_N",
        "outputId": "aa875f02-28fe-44c4-b591-65983c9d5ee2",
        "colab": {
          "base_uri": "https://localhost:8080/"
        }
      },
      "source": [
        "\n",
        "df['NEWCollabToolsDesireNextYear'].isnull().sum()"
      ],
      "execution_count": null,
      "outputs": [
        {
          "output_type": "execute_result",
          "data": {
            "text/plain": [
              "17174"
            ]
          },
          "metadata": {
            "tags": []
          },
          "execution_count": 92
        }
      ]
    },
    {
      "cell_type": "code",
      "metadata": {
        "id": "3ZuFUqvGAf8U",
        "outputId": "d95d86cd-41aa-4ecd-e6f4-ba93dd05e73b",
        "colab": {
          "base_uri": "https://localhost:8080/"
        }
      },
      "source": [
        "df['NEWCollabToolsDesireNextYear'].fillna(method='ffill',inplace=True)\n",
        "df['NEWCollabToolsDesireNextYear'].isnull().sum()"
      ],
      "execution_count": null,
      "outputs": [
        {
          "output_type": "execute_result",
          "data": {
            "text/plain": [
              "0"
            ]
          },
          "metadata": {
            "tags": []
          },
          "execution_count": 93
        }
      ]
    },
    {
      "cell_type": "code",
      "metadata": {
        "id": "zbr0Q77_BHS9",
        "outputId": "8ad7df42-564d-4e51-f00e-d05c5e3f553b",
        "colab": {
          "base_uri": "https://localhost:8080/"
        }
      },
      "source": [
        "df['NEWCollabToolsDesireNextYear'].value_counts()"
      ],
      "execution_count": null,
      "outputs": [
        {
          "output_type": "execute_result",
          "data": {
            "text/plain": [
              "Github                                                                                                                      6502\n",
              "Github;Gitlab                                                                                                               2762\n",
              "Github;Slack                                                                                                                2376\n",
              "Github;Slack;Google Suite (Docs, Meet, etc)                                                                                 1807\n",
              "Github;Google Suite (Docs, Meet, etc)                                                                                       1555\n",
              "                                                                                                                            ... \n",
              "Confluence;Jira;Gitlab;Slack;Microsoft Teams;Trello;Google Suite (Docs, Meet, etc);Stack Overflow for Teams                    1\n",
              "Github;Gitlab;Facebook Workplace;Slack;Microsoft Teams                                                                         1\n",
              "Confluence;Jira;Github;Facebook Workplace;Microsoft Azure;Trello;Google Suite (Docs, Meet, etc);Stack Overflow for Teams       1\n",
              "Confluence;Github;Google Suite (Docs, Meet, etc);Stack Overflow for Teams                                                      1\n",
              "Confluence;Jira;Slack;Microsoft Azure;Trello;Google Suite (Docs, Meet, etc);Stack Overflow for Teams                           1\n",
              "Name: NEWCollabToolsDesireNextYear, Length: 1277, dtype: int64"
            ]
          },
          "metadata": {
            "tags": []
          },
          "execution_count": 94
        }
      ]
    },
    {
      "cell_type": "markdown",
      "metadata": {
        "id": "5UV3oHPqBM3f"
      },
      "source": [
        "NEWCollabToolsWorkedWith"
      ]
    },
    {
      "cell_type": "code",
      "metadata": {
        "id": "xEEqSGf7C_D4",
        "outputId": "32f13e3b-f613-40a0-aecb-b74a960ebe3e",
        "colab": {
          "base_uri": "https://localhost:8080/"
        }
      },
      "source": [
        "\n",
        "df['NEWCollabToolsWorkedWith'].isnull().sum()"
      ],
      "execution_count": null,
      "outputs": [
        {
          "output_type": "execute_result",
          "data": {
            "text/plain": [
              "11578"
            ]
          },
          "metadata": {
            "tags": []
          },
          "execution_count": 95
        }
      ]
    },
    {
      "cell_type": "code",
      "metadata": {
        "id": "q4I-k-_DC_L-",
        "outputId": "1788d07b-4c7c-4a04-e7d2-3274909b6171",
        "colab": {
          "base_uri": "https://localhost:8080/"
        }
      },
      "source": [
        "df['NEWCollabToolsWorkedWith'].fillna(method='ffill',inplace=True)\n",
        "df['NEWCollabToolsWorkedWith'].isnull().sum()"
      ],
      "execution_count": null,
      "outputs": [
        {
          "output_type": "execute_result",
          "data": {
            "text/plain": [
              "0"
            ]
          },
          "metadata": {
            "tags": []
          },
          "execution_count": 96
        }
      ]
    },
    {
      "cell_type": "code",
      "metadata": {
        "id": "d_qrAoBeDPH7",
        "outputId": "4f66a746-87f5-46aa-fbe0-1a2477b16683",
        "colab": {
          "base_uri": "https://localhost:8080/"
        }
      },
      "source": [
        "df['NEWCollabToolsWorkedWith'].value_counts()"
      ],
      "execution_count": null,
      "outputs": [
        {
          "output_type": "execute_result",
          "data": {
            "text/plain": [
              "Github                                                                                               5428\n",
              "Github;Gitlab                                                                                        1877\n",
              "Confluence;Jira;Github;Slack;Google Suite (Docs, Meet, etc)                                          1528\n",
              "Github;Slack                                                                                         1513\n",
              "Github;Google Suite (Docs, Meet, etc)                                                                1471\n",
              "                                                                                                     ... \n",
              "Gitlab;Facebook Workplace;Stack Overflow for Teams                                                      1\n",
              "Confluence;Jira;Microsoft Azure;Trello;Stack Overflow for Teams                                         1\n",
              "Facebook Workplace;Slack;Microsoft Teams;Microsoft Azure                                                1\n",
              "Confluence;Jira;Facebook Workplace;Google Suite (Docs, Meet, etc)                                       1\n",
              "Jira;Github;Gitlab;Microsoft Teams;Trello;Google Suite (Docs, Meet, etc);Stack Overflow for Teams       1\n",
              "Name: NEWCollabToolsWorkedWith, Length: 1153, dtype: int64"
            ]
          },
          "metadata": {
            "tags": []
          },
          "execution_count": 97
        }
      ]
    },
    {
      "cell_type": "markdown",
      "metadata": {
        "id": "Y365aCUlDXLj"
      },
      "source": [
        "NEWDevOps"
      ]
    },
    {
      "cell_type": "code",
      "metadata": {
        "id": "GPCSNjikDx8D",
        "outputId": "8044ed47-383a-4148-eedd-346d6055c3b7",
        "colab": {
          "base_uri": "https://localhost:8080/"
        }
      },
      "source": [
        "\n",
        "df['NEWDevOps'].isnull().sum()"
      ],
      "execution_count": null,
      "outputs": [
        {
          "output_type": "execute_result",
          "data": {
            "text/plain": [
              "21775"
            ]
          },
          "metadata": {
            "tags": []
          },
          "execution_count": 98
        }
      ]
    },
    {
      "cell_type": "code",
      "metadata": {
        "id": "eteUwcwXDyEJ",
        "outputId": "215e3d98-96d2-4063-86dd-37f13b2c0ca6",
        "colab": {
          "base_uri": "https://localhost:8080/"
        }
      },
      "source": [
        "df['NEWDevOps'].fillna(method='ffill',inplace=True)\n",
        "df['NEWDevOps'].isnull().sum()"
      ],
      "execution_count": null,
      "outputs": [
        {
          "output_type": "execute_result",
          "data": {
            "text/plain": [
              "0"
            ]
          },
          "metadata": {
            "tags": []
          },
          "execution_count": 99
        }
      ]
    },
    {
      "cell_type": "code",
      "metadata": {
        "id": "OCEnW362D_zv",
        "outputId": "a7d4002e-d21a-4ec6-8f87-9484dbd3e734",
        "colab": {
          "base_uri": "https://localhost:8080/"
        }
      },
      "source": [
        "df['NEWDevOps'].value_counts()"
      ],
      "execution_count": null,
      "outputs": [
        {
          "output_type": "execute_result",
          "data": {
            "text/plain": [
              "Yes         28447\n",
              "No          27956\n",
              "Not sure     8058\n",
              "Name: NEWDevOps, dtype: int64"
            ]
          },
          "metadata": {
            "tags": []
          },
          "execution_count": 100
        }
      ]
    },
    {
      "cell_type": "code",
      "metadata": {
        "id": "NjMcf0x2EZhc"
      },
      "source": [
        "label_encoder = preprocessing.LabelEncoder()\n",
        "df['NEWDevOps']= label_encoder.fit_transform(df['NEWDevOps'])"
      ],
      "execution_count": null,
      "outputs": []
    },
    {
      "cell_type": "markdown",
      "metadata": {
        "id": "k5jtBnXSEk1G"
      },
      "source": [
        "NEWDevOpsImpt"
      ]
    },
    {
      "cell_type": "code",
      "metadata": {
        "id": "Ai9Gu9ohEqdF",
        "outputId": "d32b6b9a-bf3d-4dc1-f37b-76f673c5b43a",
        "colab": {
          "base_uri": "https://localhost:8080/"
        }
      },
      "source": [
        "\n",
        "df['NEWDevOpsImpt'].isnull().sum()"
      ],
      "execution_count": null,
      "outputs": [
        {
          "output_type": "execute_result",
          "data": {
            "text/plain": [
              "22729"
            ]
          },
          "metadata": {
            "tags": []
          },
          "execution_count": 102
        }
      ]
    },
    {
      "cell_type": "code",
      "metadata": {
        "id": "jGUe56z8EquJ",
        "outputId": "53aefa0d-0380-4bb5-dc76-a548ba927dc4",
        "colab": {
          "base_uri": "https://localhost:8080/"
        }
      },
      "source": [
        "df['NEWDevOpsImpt'].fillna(method='ffill',inplace=True)\n",
        "df['NEWDevOpsImpt'].isnull().sum()"
      ],
      "execution_count": null,
      "outputs": [
        {
          "output_type": "execute_result",
          "data": {
            "text/plain": [
              "0"
            ]
          },
          "metadata": {
            "tags": []
          },
          "execution_count": 103
        }
      ]
    },
    {
      "cell_type": "code",
      "metadata": {
        "id": "BJ79bsdRFBCZ",
        "outputId": "90b166b2-275c-4cad-ffee-60576e013595",
        "colab": {
          "base_uri": "https://localhost:8080/"
        }
      },
      "source": [
        "df['NEWDevOpsImpt'].value_counts()"
      ],
      "execution_count": null,
      "outputs": [
        {
          "output_type": "execute_result",
          "data": {
            "text/plain": [
              "Extremely important     31076\n",
              "Somewhat important      19461\n",
              "Neutral                 11632\n",
              "Not very important       1330\n",
              "Not at all important      962\n",
              "Name: NEWDevOpsImpt, dtype: int64"
            ]
          },
          "metadata": {
            "tags": []
          },
          "execution_count": 104
        }
      ]
    },
    {
      "cell_type": "code",
      "metadata": {
        "id": "K0ay53M7FGhM"
      },
      "source": [
        "label_encoder = preprocessing.LabelEncoder()\n",
        "df['NEWDevOpsImpt']= label_encoder.fit_transform(df['NEWDevOpsImpt'])"
      ],
      "execution_count": null,
      "outputs": []
    },
    {
      "cell_type": "markdown",
      "metadata": {
        "id": "_SnX2eAxFNci"
      },
      "source": [
        "NEWEdImpt"
      ]
    },
    {
      "cell_type": "code",
      "metadata": {
        "id": "7duZlyizFt8Y",
        "outputId": "f617228d-f324-4617-dd88-3342ddf82e6e",
        "colab": {
          "base_uri": "https://localhost:8080/"
        }
      },
      "source": [
        "\n",
        "df['NEWEdImpt'].isnull().sum()"
      ],
      "execution_count": null,
      "outputs": [
        {
          "output_type": "execute_result",
          "data": {
            "text/plain": [
              "15996"
            ]
          },
          "metadata": {
            "tags": []
          },
          "execution_count": 106
        }
      ]
    },
    {
      "cell_type": "code",
      "metadata": {
        "id": "ArPXgGgiFuFx",
        "outputId": "1dfa501f-2c14-48c7-af00-892d1cffa369",
        "colab": {
          "base_uri": "https://localhost:8080/"
        }
      },
      "source": [
        "df['NEWEdImpt'].fillna(method='ffill',inplace=True)\n",
        "df['NEWEdImpt'].isnull().sum()"
      ],
      "execution_count": null,
      "outputs": [
        {
          "output_type": "execute_result",
          "data": {
            "text/plain": [
              "0"
            ]
          },
          "metadata": {
            "tags": []
          },
          "execution_count": 107
        }
      ]
    },
    {
      "cell_type": "code",
      "metadata": {
        "id": "GUKTNKRCF-PU",
        "outputId": "94276a62-5347-4b02-8439-f1497e73c13a",
        "colab": {
          "base_uri": "https://localhost:8080/"
        }
      },
      "source": [
        "df['NEWEdImpt'].value_counts()"
      ],
      "execution_count": null,
      "outputs": [
        {
          "output_type": "execute_result",
          "data": {
            "text/plain": [
              "Fairly important                      16861\n",
              "Very important                        15893\n",
              "Somewhat important                    14974\n",
              "Not at all important/not necessary    10389\n",
              "Critically important                   6344\n",
              "Name: NEWEdImpt, dtype: int64"
            ]
          },
          "metadata": {
            "tags": []
          },
          "execution_count": 108
        }
      ]
    },
    {
      "cell_type": "code",
      "metadata": {
        "id": "BwcbUtQ9GFcZ"
      },
      "source": [
        "label_encoder = preprocessing.LabelEncoder()\n",
        "df['NEWEdImpt']= label_encoder.fit_transform(df['NEWEdImpt'])"
      ],
      "execution_count": null,
      "outputs": []
    },
    {
      "cell_type": "markdown",
      "metadata": {
        "id": "ReLly32lGMcL"
      },
      "source": [
        "NEWJobHunt"
      ]
    },
    {
      "cell_type": "code",
      "metadata": {
        "id": "eDFKxGAhGlqr",
        "outputId": "f0060a30-7b07-4c61-ec24-0f1faea52ecc",
        "colab": {
          "base_uri": "https://localhost:8080/"
        }
      },
      "source": [
        "\n",
        "df['NEWJobHunt'].isnull().sum()"
      ],
      "execution_count": null,
      "outputs": [
        {
          "output_type": "execute_result",
          "data": {
            "text/plain": [
              "22175"
            ]
          },
          "metadata": {
            "tags": []
          },
          "execution_count": 110
        }
      ]
    },
    {
      "cell_type": "code",
      "metadata": {
        "id": "1ePB94p5Glyb",
        "outputId": "6d8c5e09-eb73-49c5-c378-053957e1f8ac",
        "colab": {
          "base_uri": "https://localhost:8080/"
        }
      },
      "source": [
        "df['NEWJobHunt'].fillna(method='ffill',inplace=True)\n",
        "df['NEWJobHunt'].fillna(method='bfill',inplace=True)\n",
        "df['NEWJobHunt'].isnull().sum()"
      ],
      "execution_count": null,
      "outputs": [
        {
          "output_type": "execute_result",
          "data": {
            "text/plain": [
              "0"
            ]
          },
          "metadata": {
            "tags": []
          },
          "execution_count": 111
        }
      ]
    },
    {
      "cell_type": "code",
      "metadata": {
        "id": "GeQy-b5VG2zz",
        "outputId": "a69fb5d8-09e5-4e0e-d22a-5374936decea",
        "colab": {
          "base_uri": "https://localhost:8080/"
        }
      },
      "source": [
        "df['NEWJobHunt'].value_counts()"
      ],
      "execution_count": null,
      "outputs": [
        {
          "output_type": "execute_result",
          "data": {
            "text/plain": [
              "Curious about other opportunities;Better compensation;Wanting to work with new technologies;Growth or leadership opportunities                                                                                                                                     1631\n",
              "Curious about other opportunities;Better compensation;Better work/life balance;Wanting to work with new technologies;Growth or leadership opportunities                                                                                                            1622\n",
              "Better compensation                                                                                                                                                                                                                                                1346\n",
              "Curious about other opportunities;Better compensation;Better work/life balance;Wanting to work with new technologies                                                                                                                                               1207\n",
              "Curious about other opportunities;Better compensation;Wanting to work with new technologies                                                                                                                                                                        1083\n",
              "                                                                                                                                                                                                                                                                   ... \n",
              "Wanting to share accomplishments with a wider network;Curious about other opportunities;Trouble with my direct manager;Trouble with leadership at my company;Better work/life balance;Growth or leadership opportunities                                              1\n",
              "Just because;Having a bad day (or week or month) at work;Wanting to share accomplishments with a wider network;Curious about other opportunities;Trouble with leadership at my company;Wanting to work with new technologies;Growth or leadership opportunities       1\n",
              "Just because;Curious about other opportunities;Better compensation;Trouble with my teammates;Trouble with my direct manager;Better work/life balance;Wanting to work with new technologies;Growth or leadership opportunities                                         1\n",
              "Just because;Wanting to share accomplishments with a wider network;Better compensation;Trouble with my teammates;Trouble with my direct manager;Trouble with leadership at my company;Better work/life balance;Wanting to work with new technologies                  1\n",
              "Wanting to share accomplishments with a wider network;Curious about other opportunities;Trouble with my direct manager;Better work/life balance;Wanting to work with new technologies;Growth or leadership opportunities;Looking to relocate                          1\n",
              "Name: NEWJobHunt, Length: 2172, dtype: int64"
            ]
          },
          "metadata": {
            "tags": []
          },
          "execution_count": 112
        }
      ]
    },
    {
      "cell_type": "markdown",
      "metadata": {
        "id": "Vwpp7gkGG7KX"
      },
      "source": [
        "NEWJobHuntResearch"
      ]
    },
    {
      "cell_type": "code",
      "metadata": {
        "id": "gm6sYj3AHCSr",
        "outputId": "a3dd80ee-75f5-4365-e70c-64fa21192378",
        "colab": {
          "base_uri": "https://localhost:8080/"
        }
      },
      "source": [
        "df['NEWJobHuntResearch'].isnull().sum()"
      ],
      "execution_count": null,
      "outputs": [
        {
          "output_type": "execute_result",
          "data": {
            "text/plain": [
              "23439"
            ]
          },
          "metadata": {
            "tags": []
          },
          "execution_count": 113
        }
      ]
    },
    {
      "cell_type": "code",
      "metadata": {
        "id": "F8Vw0aP-IEhd",
        "outputId": "98c80cc1-6f27-4535-decf-63d7d1ca1e35",
        "colab": {
          "base_uri": "https://localhost:8080/"
        }
      },
      "source": [
        "df['NEWJobHuntResearch'].fillna(method='ffill',inplace=True)\n",
        "\n",
        "df['NEWJobHuntResearch'].fillna(method='bfill',inplace=True)\n",
        "df['NEWJobHuntResearch'].isnull().sum()"
      ],
      "execution_count": null,
      "outputs": [
        {
          "output_type": "execute_result",
          "data": {
            "text/plain": [
              "0"
            ]
          },
          "metadata": {
            "tags": []
          },
          "execution_count": 114
        }
      ]
    },
    {
      "cell_type": "code",
      "metadata": {
        "id": "CTlC3q1BIEx7",
        "outputId": "1d946ecb-7283-4894-9a8e-691fb284aa22",
        "colab": {
          "base_uri": "https://localhost:8080/"
        }
      },
      "source": [
        "df['NEWJobHuntResearch'].value_counts()"
      ],
      "execution_count": null,
      "outputs": [
        {
          "output_type": "execute_result",
          "data": {
            "text/plain": [
              "Read company media, such as employee blogs or company culture videos;Company reviews from third party sites (e.g. Glassdoor, Blind);Publicly available financial information (e.g. Crunchbase);Personal network - friends or family;Read other media like news articles, founder profiles, etc. about the company;Directly asking current or past employees at the company    3918\n",
              "Read company media, such as employee blogs or company culture videos;Company reviews from third party sites (e.g. Glassdoor, Blind);Personal network - friends or family                                                                                                                                                                                                      3715\n",
              "Read company media, such as employee blogs or company culture videos;Company reviews from third party sites (e.g. Glassdoor, Blind)                                                                                                                                                                                                                                           3412\n",
              "Read company media, such as employee blogs or company culture videos;Company reviews from third party sites (e.g. Glassdoor, Blind);Read other media like news articles, founder profiles, etc. about the company                                                                                                                                                             3163\n",
              "Read company media, such as employee blogs or company culture videos;Company reviews from third party sites (e.g. Glassdoor, Blind);Personal network - friends or family;Read other media like news articles, founder profiles, etc. about the company                                                                                                                        2975\n",
              "                                                                                                                                                                                                                                                                                                                                                                              ... \n",
              "Publicly available financial information (e.g. Crunchbase);Personal network - friends or family;Read other media like news articles, founder profiles, etc. about the company;Directly asking current or past employees at the company                                                                                                                                         105\n",
              "Company reviews from third party sites (e.g. Glassdoor, Blind);Publicly available financial information (e.g. Crunchbase);Read other media like news articles, founder profiles, etc. about the company;Directly asking current or past employees at the company                                                                                                               104\n",
              "Read company media, such as employee blogs or company culture videos;Publicly available financial information (e.g. Crunchbase);Directly asking current or past employees at the company                                                                                                                                                                                        83\n",
              "Publicly available financial information (e.g. Crunchbase);Directly asking current or past employees at the company                                                                                                                                                                                                                                                             48\n",
              "Publicly available financial information (e.g. Crunchbase);Read other media like news articles, founder profiles, etc. about the company;Directly asking current or past employees at the company                                                                                                                                                                               35\n",
              "Name: NEWJobHuntResearch, Length: 63, dtype: int64"
            ]
          },
          "metadata": {
            "tags": []
          },
          "execution_count": 115
        }
      ]
    },
    {
      "cell_type": "markdown",
      "metadata": {
        "id": "lDzY18jfIzLC"
      },
      "source": [
        "NEWLearn"
      ]
    },
    {
      "cell_type": "code",
      "metadata": {
        "id": "3qhd9ABVI7Xu",
        "outputId": "7cb3d0ae-363d-41e9-88b3-f0ae7e701638",
        "colab": {
          "base_uri": "https://localhost:8080/"
        }
      },
      "source": [
        "df['NEWLearn'].isnull().sum()"
      ],
      "execution_count": null,
      "outputs": [
        {
          "output_type": "execute_result",
          "data": {
            "text/plain": [
              "8305"
            ]
          },
          "metadata": {
            "tags": []
          },
          "execution_count": 116
        }
      ]
    },
    {
      "cell_type": "code",
      "metadata": {
        "id": "Ci8K7YFyI7jn",
        "outputId": "7ed34669-3b8d-401f-ce07-3a318bb135f9",
        "colab": {
          "base_uri": "https://localhost:8080/"
        }
      },
      "source": [
        "df['NEWLearn'].fillna(method='bfill',inplace=True)\n",
        "df['NEWLearn'].isnull().sum()"
      ],
      "execution_count": null,
      "outputs": [
        {
          "output_type": "execute_result",
          "data": {
            "text/plain": [
              "0"
            ]
          },
          "metadata": {
            "tags": []
          },
          "execution_count": 117
        }
      ]
    },
    {
      "cell_type": "code",
      "metadata": {
        "id": "WattYIU-JNbk",
        "outputId": "2acb6dbc-556b-4d23-bed0-1f60a5d337ba",
        "colab": {
          "base_uri": "https://localhost:8080/"
        }
      },
      "source": [
        "df['NEWLearn'].value_counts()"
      ],
      "execution_count": null,
      "outputs": [
        {
          "output_type": "execute_result",
          "data": {
            "text/plain": [
              "Every few months        24264\n",
              "Once a year             23678\n",
              "Once every few years    15064\n",
              "Once a decade            1455\n",
              "Name: NEWLearn, dtype: int64"
            ]
          },
          "metadata": {
            "tags": []
          },
          "execution_count": 118
        }
      ]
    },
    {
      "cell_type": "code",
      "metadata": {
        "id": "NTNJxuLSJU17"
      },
      "source": [
        "label_encoder = preprocessing.LabelEncoder()\n",
        "df['NEWLearn']= label_encoder.fit_transform(df['NEWLearn'])"
      ],
      "execution_count": null,
      "outputs": []
    },
    {
      "cell_type": "markdown",
      "metadata": {
        "id": "h8_pJSvoJrZ4"
      },
      "source": [
        "NEWOffTopic"
      ]
    },
    {
      "cell_type": "code",
      "metadata": {
        "id": "5GbLRnQGL3So",
        "outputId": "5d368fb8-fc87-4ec8-e957-a7071d2e0953",
        "colab": {
          "base_uri": "https://localhost:8080/"
        }
      },
      "source": [
        "df['NEWOffTopic'].isnull().sum()\n"
      ],
      "execution_count": null,
      "outputs": [
        {
          "output_type": "execute_result",
          "data": {
            "text/plain": [
              "13657"
            ]
          },
          "metadata": {
            "tags": []
          },
          "execution_count": 120
        }
      ]
    },
    {
      "cell_type": "code",
      "metadata": {
        "id": "-YFCtUhuL3fj",
        "outputId": "4b5aec1b-3626-4ad3-fad4-cde57e943452",
        "colab": {
          "base_uri": "https://localhost:8080/"
        }
      },
      "source": [
        "df['NEWOffTopic'].fillna(method='ffill',inplace=True)\n",
        "df['NEWOffTopic'].isnull().sum()\n"
      ],
      "execution_count": null,
      "outputs": [
        {
          "output_type": "execute_result",
          "data": {
            "text/plain": [
              "0"
            ]
          },
          "metadata": {
            "tags": []
          },
          "execution_count": 121
        }
      ]
    },
    {
      "cell_type": "code",
      "metadata": {
        "id": "sldX7galL94f",
        "outputId": "5b29f5ae-eb3c-4e3f-80a4-b4e401da6855",
        "colab": {
          "base_uri": "https://localhost:8080/"
        }
      },
      "source": [
        "df['NEWOffTopic'].value_counts()"
      ],
      "execution_count": null,
      "outputs": [
        {
          "output_type": "execute_result",
          "data": {
            "text/plain": [
              "Not sure    25611\n",
              "No          23266\n",
              "Yes         15584\n",
              "Name: NEWOffTopic, dtype: int64"
            ]
          },
          "metadata": {
            "tags": []
          },
          "execution_count": 122
        }
      ]
    },
    {
      "cell_type": "markdown",
      "metadata": {
        "id": "Jm0hfthzJ0C0"
      },
      "source": [
        "NEWOnboardGood"
      ]
    },
    {
      "cell_type": "code",
      "metadata": {
        "id": "ldSS1SMEMFcC",
        "outputId": "40225872-2c7c-4892-814d-898d1f540318",
        "colab": {
          "base_uri": "https://localhost:8080/"
        }
      },
      "source": [
        "df['NEWOnboardGood'].isnull().sum()\n"
      ],
      "execution_count": null,
      "outputs": [
        {
          "output_type": "execute_result",
          "data": {
            "text/plain": [
              "21838"
            ]
          },
          "metadata": {
            "tags": []
          },
          "execution_count": 123
        }
      ]
    },
    {
      "cell_type": "code",
      "metadata": {
        "id": "OJDdwpylMFih",
        "outputId": "9f26f74b-a277-4826-fd23-1e130f41a7e0",
        "colab": {
          "base_uri": "https://localhost:8080/"
        }
      },
      "source": [
        "df['NEWOnboardGood'].fillna(method='ffill',inplace=True)\n",
        "df['NEWOnboardGood'].fillna(method='bfill',inplace=True)\n",
        "df['NEWOnboardGood'].isnull().sum()\n"
      ],
      "execution_count": null,
      "outputs": [
        {
          "output_type": "execute_result",
          "data": {
            "text/plain": [
              "0"
            ]
          },
          "metadata": {
            "tags": []
          },
          "execution_count": 124
        }
      ]
    },
    {
      "cell_type": "code",
      "metadata": {
        "id": "axqXmCCMMFro",
        "outputId": "93b763df-4763-4e9e-e2c2-96b09fc40434",
        "colab": {
          "base_uri": "https://localhost:8080/"
        }
      },
      "source": [
        "df['NEWOnboardGood'].value_counts()"
      ],
      "execution_count": null,
      "outputs": [
        {
          "output_type": "execute_result",
          "data": {
            "text/plain": [
              "Yes                             31649\n",
              "No                              19014\n",
              "Onboarding? What onboarding?    13798\n",
              "Name: NEWOnboardGood, dtype: int64"
            ]
          },
          "metadata": {
            "tags": []
          },
          "execution_count": 125
        }
      ]
    },
    {
      "cell_type": "markdown",
      "metadata": {
        "id": "8UhDJWxCJz95"
      },
      "source": [
        "NEWOtherComms"
      ]
    },
    {
      "cell_type": "code",
      "metadata": {
        "id": "biIV9RwXMXLV",
        "outputId": "385412f3-36f6-4780-8d8d-9e41680df23b",
        "colab": {
          "base_uri": "https://localhost:8080/"
        }
      },
      "source": [
        "df['NEWOtherComms'].isnull().sum()\n"
      ],
      "execution_count": null,
      "outputs": [
        {
          "output_type": "execute_result",
          "data": {
            "text/plain": [
              "7256"
            ]
          },
          "metadata": {
            "tags": []
          },
          "execution_count": 126
        }
      ]
    },
    {
      "cell_type": "code",
      "metadata": {
        "id": "ucGfx3v9MXVb",
        "outputId": "f314f2c4-364e-4c57-cd3d-f8f382079639",
        "colab": {
          "base_uri": "https://localhost:8080/"
        }
      },
      "source": [
        "df['NEWOtherComms'].fillna(method='ffill',inplace=True)\n",
        "df['NEWOtherComms'].isnull().sum()\n"
      ],
      "execution_count": null,
      "outputs": [
        {
          "output_type": "execute_result",
          "data": {
            "text/plain": [
              "0"
            ]
          },
          "metadata": {
            "tags": []
          },
          "execution_count": 127
        }
      ]
    },
    {
      "cell_type": "code",
      "metadata": {
        "id": "TA3EnyPrMXSS",
        "outputId": "934d0c54-17f6-4939-ce34-18cd2877b16f",
        "colab": {
          "base_uri": "https://localhost:8080/"
        }
      },
      "source": [
        "df['NEWOtherComms'].value_counts()"
      ],
      "execution_count": null,
      "outputs": [
        {
          "output_type": "execute_result",
          "data": {
            "text/plain": [
              "No     37207\n",
              "Yes    27254\n",
              "Name: NEWOtherComms, dtype: int64"
            ]
          },
          "metadata": {
            "tags": []
          },
          "execution_count": 128
        }
      ]
    },
    {
      "cell_type": "markdown",
      "metadata": {
        "id": "wJkr16c2Jz4g"
      },
      "source": [
        "NEWOvertime"
      ]
    },
    {
      "cell_type": "code",
      "metadata": {
        "id": "JpSVGPoEktBX",
        "outputId": "4048847f-a9ea-4558-cab9-ffaa5d917c48",
        "colab": {
          "base_uri": "https://localhost:8080/"
        }
      },
      "source": [
        "df['NEWOvertime'].isnull().sum()\n"
      ],
      "execution_count": null,
      "outputs": [
        {
          "output_type": "execute_result",
          "data": {
            "text/plain": [
              "21230"
            ]
          },
          "metadata": {
            "tags": []
          },
          "execution_count": 129
        }
      ]
    },
    {
      "cell_type": "code",
      "metadata": {
        "id": "bOiPPNQbkte5",
        "outputId": "1418c9d6-e569-4aaf-a0d9-4c1467e3b072",
        "colab": {
          "base_uri": "https://localhost:8080/"
        }
      },
      "source": [
        "df['NEWOvertime'].fillna(method='ffill',inplace=True)\n",
        "df['NEWOvertime'].isnull().sum()\n"
      ],
      "execution_count": null,
      "outputs": [
        {
          "output_type": "execute_result",
          "data": {
            "text/plain": [
              "0"
            ]
          },
          "metadata": {
            "tags": []
          },
          "execution_count": 130
        }
      ]
    },
    {
      "cell_type": "code",
      "metadata": {
        "id": "aeLIWMpcks8a",
        "outputId": "fb7864af-316a-4b32-e225-199fa8ba62f8",
        "colab": {
          "base_uri": "https://localhost:8080/"
        }
      },
      "source": [
        "df['NEWOvertime'].value_counts()"
      ],
      "execution_count": null,
      "outputs": [
        {
          "output_type": "execute_result",
          "data": {
            "text/plain": [
              "Sometimes: 1-2 days per month but less than weekly          17025\n",
              "Often: 1-2 days per week or more                            16606\n",
              "Occasionally: 1-2 days per quarter but less than monthly    13882\n",
              "Rarely: 1-2 days per year or less                            9785\n",
              "Never                                                        7163\n",
              "Name: NEWOvertime, dtype: int64"
            ]
          },
          "metadata": {
            "tags": []
          },
          "execution_count": 131
        }
      ]
    },
    {
      "cell_type": "markdown",
      "metadata": {
        "id": "00BI7K-KJzyf"
      },
      "source": [
        "NEWPurchaseResearch"
      ]
    },
    {
      "cell_type": "code",
      "metadata": {
        "id": "UOlp5dFfk3ok",
        "outputId": "99112b2c-7415-4e8e-bcc2-3479f8009a69",
        "colab": {
          "base_uri": "https://localhost:8080/"
        }
      },
      "source": [
        "df['NEWPurchaseResearch'].isnull().sum()\n"
      ],
      "execution_count": null,
      "outputs": [
        {
          "output_type": "execute_result",
          "data": {
            "text/plain": [
              "27140"
            ]
          },
          "metadata": {
            "tags": []
          },
          "execution_count": 132
        }
      ]
    },
    {
      "cell_type": "code",
      "metadata": {
        "id": "9Ad_GC4ok34x",
        "outputId": "7caaf146-4327-457f-bc9a-dafc73672a43",
        "colab": {
          "base_uri": "https://localhost:8080/"
        }
      },
      "source": [
        "df['NEWPurchaseResearch'].fillna(method='ffill',inplace=True)\n",
        "df['NEWPurchaseResearch'].isnull().sum()\n"
      ],
      "execution_count": null,
      "outputs": [
        {
          "output_type": "execute_result",
          "data": {
            "text/plain": [
              "0"
            ]
          },
          "metadata": {
            "tags": []
          },
          "execution_count": 133
        }
      ]
    },
    {
      "cell_type": "code",
      "metadata": {
        "id": "Plkbdq3ok4Qe",
        "outputId": "72485c2b-1487-47ad-c536-3c6325338df7",
        "colab": {
          "base_uri": "https://localhost:8080/"
        }
      },
      "source": [
        "df['NEWPurchaseResearch'].value_counts()"
      ],
      "execution_count": null,
      "outputs": [
        {
          "output_type": "execute_result",
          "data": {
            "text/plain": [
              "Start a free trial;Ask developers I know/work with;Visit developer communities like Stack Overflow                                                                                            12598\n",
              "Start a free trial;Ask developers I know/work with                                                                                                                                             7981\n",
              "Start a free trial                                                                                                                                                                             6249\n",
              "Start a free trial;Ask developers I know/work with;Visit developer communities like Stack Overflow;Read ratings or reviews on third party sites like G2Crowd                                   5381\n",
              "Start a free trial;Visit developer communities like Stack Overflow                                                                                                                             4816\n",
              "                                                                                                                                                                                              ...  \n",
              "Ask developers I know/work with;Research companies that have emailed me                                                                                                                          24\n",
              "Visit developer communities like Stack Overflow;Read ratings or reviews on third party sites like G2Crowd;Research companies that have emailed me                                                23\n",
              "Research companies that have advertised on sites I visit;Research companies that have emailed me                                                                                                 19\n",
              "Ask developers I know/work with;Read ratings or reviews on third party sites like G2Crowd;Research companies that have advertised on sites I visit;Research companies that have emailed me       16\n",
              "Read ratings or reviews on third party sites like G2Crowd;Research companies that have emailed me                                                                                                12\n",
              "Name: NEWPurchaseResearch, Length: 63, dtype: int64"
            ]
          },
          "metadata": {
            "tags": []
          },
          "execution_count": 134
        }
      ]
    },
    {
      "cell_type": "markdown",
      "metadata": {
        "id": "ji06N_9TKa74"
      },
      "source": [
        "NEWPurpleLink"
      ]
    },
    {
      "cell_type": "code",
      "metadata": {
        "id": "aSYInYE0lWam",
        "outputId": "be6f5aa1-6dce-4a92-f7a8-ba4e6f29e64c",
        "colab": {
          "base_uri": "https://localhost:8080/"
        }
      },
      "source": [
        "df['NEWPurpleLink'].isnull().sum()\n"
      ],
      "execution_count": null,
      "outputs": [
        {
          "output_type": "execute_result",
          "data": {
            "text/plain": [
              "9658"
            ]
          },
          "metadata": {
            "tags": []
          },
          "execution_count": 135
        }
      ]
    },
    {
      "cell_type": "code",
      "metadata": {
        "id": "RjNe7J53lWxR",
        "outputId": "7f25fbc9-30c0-4442-8f79-9fd465c097d1",
        "colab": {
          "base_uri": "https://localhost:8080/"
        }
      },
      "source": [
        "df['NEWPurpleLink'].fillna(method='ffill',inplace=True)\n",
        "df['NEWPurpleLink'].isnull().sum()\n"
      ],
      "execution_count": null,
      "outputs": [
        {
          "output_type": "execute_result",
          "data": {
            "text/plain": [
              "0"
            ]
          },
          "metadata": {
            "tags": []
          },
          "execution_count": 136
        }
      ]
    },
    {
      "cell_type": "code",
      "metadata": {
        "id": "umG6spdXlWUd",
        "outputId": "fd83688c-1457-4a09-f200-027b42b33381",
        "colab": {
          "base_uri": "https://localhost:8080/"
        }
      },
      "source": [
        "df['NEWPurpleLink'].value_counts()"
      ],
      "execution_count": null,
      "outputs": [
        {
          "output_type": "execute_result",
          "data": {
            "text/plain": [
              "Hello, old friend    33051\n",
              "Indifferent          11785\n",
              "Amused               10171\n",
              "Annoyed               9454\n",
              "Name: NEWPurpleLink, dtype: int64"
            ]
          },
          "metadata": {
            "tags": []
          },
          "execution_count": 137
        }
      ]
    },
    {
      "cell_type": "markdown",
      "metadata": {
        "id": "WXGlkIHkKckH"
      },
      "source": [
        "NEWSOSites"
      ]
    },
    {
      "cell_type": "code",
      "metadata": {
        "id": "fMRv4gh2lsgC",
        "outputId": "ab494453-4a5c-4ac8-ca28-ed7556d6cec7",
        "colab": {
          "base_uri": "https://localhost:8080/"
        }
      },
      "source": [
        "df['NEWSOSites'].isnull().sum()\n"
      ],
      "execution_count": null,
      "outputs": [
        {
          "output_type": "execute_result",
          "data": {
            "text/plain": [
              "6186"
            ]
          },
          "metadata": {
            "tags": []
          },
          "execution_count": 138
        }
      ]
    },
    {
      "cell_type": "code",
      "metadata": {
        "id": "qjvafCJQlsy4",
        "outputId": "71abccce-fb7a-4976-c6b9-8688a4f49ef3",
        "colab": {
          "base_uri": "https://localhost:8080/"
        }
      },
      "source": [
        "df['NEWSOSites'].fillna(method='ffill',inplace=True)\n",
        "df['NEWSOSites'].isnull().sum()\n"
      ],
      "execution_count": null,
      "outputs": [
        {
          "output_type": "execute_result",
          "data": {
            "text/plain": [
              "0"
            ]
          },
          "metadata": {
            "tags": []
          },
          "execution_count": 139
        }
      ]
    },
    {
      "cell_type": "code",
      "metadata": {
        "id": "GbyWldMKlscK",
        "outputId": "6ab80a7f-8b6f-49ad-cc73-bcc00641123a",
        "colab": {
          "base_uri": "https://localhost:8080/"
        }
      },
      "source": [
        "df['NEWSOSites'].value_counts()"
      ],
      "execution_count": null,
      "outputs": [
        {
          "output_type": "execute_result",
          "data": {
            "text/plain": [
              "Stack Overflow (public Q&A for anyone who codes);Stack Exchange (public Q&A for a variety of topics)                                                                                                                                                                24621\n",
              "Stack Overflow (public Q&A for anyone who codes);Stack Exchange (public Q&A for a variety of topics);Stack Overflow Jobs (for job seekers)                                                                                                                          15003\n",
              "Stack Overflow (public Q&A for anyone who codes)                                                                                                                                                                                                                    14497\n",
              "Stack Overflow (public Q&A for anyone who codes);Stack Overflow Jobs (for job seekers)                                                                                                                                                                               5092\n",
              "Stack Overflow (public Q&A for anyone who codes);Stack Exchange (public Q&A for a variety of topics);Stack Overflow Jobs (for job seekers);Stack Overflow for Teams (private Q&A for organizations)                                                                   979\n",
              "                                                                                                                                                                                                                                                                    ...  \n",
              "Stack Exchange (public Q&A for a variety of topics);Stack Overflow Jobs (for job seekers);Stack Overflow Talent (for hiring companies/recruiters);Stack Overflow Advertising (for technology companies)                                                                 2\n",
              "Stack Exchange (public Q&A for a variety of topics);Stack Overflow Jobs (for job seekers);Stack Overflow for Teams (private Q&A for organizations);Stack Overflow Talent (for hiring companies/recruiters);Stack Overflow Advertising (for technology companies)        2\n",
              "Stack Exchange (public Q&A for a variety of topics);Stack Overflow for Teams (private Q&A for organizations);Stack Overflow Advertising (for technology companies)                                                                                                      2\n",
              "Stack Exchange (public Q&A for a variety of topics);Stack Overflow for Teams (private Q&A for organizations)                                                                                                                                                            1\n",
              "Stack Exchange (public Q&A for a variety of topics);Stack Overflow Advertising (for technology companies)                                                                                                                                                               1\n",
              "Name: NEWSOSites, Length: 61, dtype: int64"
            ]
          },
          "metadata": {
            "tags": []
          },
          "execution_count": 140
        }
      ]
    },
    {
      "cell_type": "markdown",
      "metadata": {
        "id": "RMQCh5iIKcto"
      },
      "source": [
        "NEWStuck"
      ]
    },
    {
      "cell_type": "code",
      "metadata": {
        "id": "4fcC1RV_l-2Y",
        "outputId": "48610ac8-0805-4331-d799-e79d15561430",
        "colab": {
          "base_uri": "https://localhost:8080/"
        }
      },
      "source": [
        "df['NEWStuck'].isnull().sum()\n"
      ],
      "execution_count": null,
      "outputs": [
        {
          "output_type": "execute_result",
          "data": {
            "text/plain": [
              "9478"
            ]
          },
          "metadata": {
            "tags": []
          },
          "execution_count": 141
        }
      ]
    },
    {
      "cell_type": "code",
      "metadata": {
        "id": "emGvVUAYl-xy",
        "outputId": "907faf07-f5fc-4d5f-9e7a-1af1c924b3cf",
        "colab": {
          "base_uri": "https://localhost:8080/"
        }
      },
      "source": [
        "df['NEWStuck'].fillna(method='ffill',inplace=True)\n",
        "df['NEWStuck'].isnull().sum()\n"
      ],
      "execution_count": null,
      "outputs": [
        {
          "output_type": "execute_result",
          "data": {
            "text/plain": [
              "0"
            ]
          },
          "metadata": {
            "tags": []
          },
          "execution_count": 142
        }
      ]
    },
    {
      "cell_type": "code",
      "metadata": {
        "id": "ndcs_1nIl-sG",
        "outputId": "decc0cc0-ff9a-43fe-891b-85ae4eb6ee22",
        "colab": {
          "base_uri": "https://localhost:8080/"
        }
      },
      "source": [
        "df['NEWStuck'].value_counts()"
      ],
      "execution_count": null,
      "outputs": [
        {
          "output_type": "execute_result",
          "data": {
            "text/plain": [
              "Visit Stack Overflow                                                                                                                                           3633\n",
              "Call a coworker or friend;Visit Stack Overflow;Watch help / tutorial videos                                                                                    3465\n",
              "Visit Stack Overflow;Watch help / tutorial videos                                                                                                              3433\n",
              "Call a coworker or friend;Visit Stack Overflow;Do other work and come back later                                                                               2670\n",
              "Call a coworker or friend;Visit Stack Overflow                                                                                                                 2620\n",
              "                                                                                                                                                               ... \n",
              "Meditate;Play games;Call a coworker or friend;Visit Stack Overflow;Visit another developer community (please name):                                               1\n",
              "Call a coworker or friend;Go for a walk or other physical activity;Panic;Do other work and come back later;Visit another developer community (please name):       1\n",
              "Play games;Call a coworker or friend;Go for a walk or other physical activity;Watch help / tutorial videos;Visit another developer community (please name):       1\n",
              "Call a coworker or friend;Panic;Watch help / tutorial videos;Visit another developer community (please name):                                                     1\n",
              "Go for a walk or other physical activity;Panic;Visit another developer community (please name):                                                                   1\n",
              "Name: NEWStuck, Length: 444, dtype: int64"
            ]
          },
          "metadata": {
            "tags": []
          },
          "execution_count": 143
        }
      ]
    },
    {
      "cell_type": "markdown",
      "metadata": {
        "id": "w-KzJGMGKmhJ"
      },
      "source": [
        "OpSys"
      ]
    },
    {
      "cell_type": "code",
      "metadata": {
        "id": "NDcwv-tDmqAy",
        "outputId": "0ee36a5d-4869-4b61-a809-e5faede48fe2",
        "colab": {
          "base_uri": "https://localhost:8080/"
        }
      },
      "source": [
        "df['OpSys'].isnull().sum()\n",
        "\n"
      ],
      "execution_count": null,
      "outputs": [
        {
          "output_type": "execute_result",
          "data": {
            "text/plain": [
              "8233"
            ]
          },
          "metadata": {
            "tags": []
          },
          "execution_count": 144
        }
      ]
    },
    {
      "cell_type": "code",
      "metadata": {
        "id": "-kerKc35mqkC",
        "outputId": "444faea0-a767-47e3-81cc-1eafcb90819e",
        "colab": {
          "base_uri": "https://localhost:8080/"
        }
      },
      "source": [
        "df['OpSys'].fillna(method='ffill',inplace=True)\n",
        "df['OpSys'].isnull().sum()\n"
      ],
      "execution_count": null,
      "outputs": [
        {
          "output_type": "execute_result",
          "data": {
            "text/plain": [
              "0"
            ]
          },
          "metadata": {
            "tags": []
          },
          "execution_count": 145
        }
      ]
    },
    {
      "cell_type": "code",
      "metadata": {
        "id": "tWq9zaMYmqwc",
        "outputId": "fa9b5b9c-e2a4-4187-d8e7-b31859e986e0",
        "colab": {
          "base_uri": "https://localhost:8080/"
        }
      },
      "source": [
        "df['OpSys'].value_counts()"
      ],
      "execution_count": null,
      "outputs": [
        {
          "output_type": "execute_result",
          "data": {
            "text/plain": [
              "Windows        31280\n",
              "Linux-based    17165\n",
              "MacOS          15960\n",
              "BSD               56\n",
              "Name: OpSys, dtype: int64"
            ]
          },
          "metadata": {
            "tags": []
          },
          "execution_count": 146
        }
      ]
    },
    {
      "cell_type": "markdown",
      "metadata": {
        "id": "JG00UwAJKm6N"
      },
      "source": [
        "OrgSize"
      ]
    },
    {
      "cell_type": "code",
      "metadata": {
        "id": "ryadmpIZOKzj",
        "outputId": "91320c17-063a-4ed5-9373-ae9cdeff1016",
        "colab": {
          "base_uri": "https://localhost:8080/"
        }
      },
      "source": [
        "df['OrgSize'].isnull().sum()\n"
      ],
      "execution_count": null,
      "outputs": [
        {
          "output_type": "execute_result",
          "data": {
            "text/plain": [
              "20127"
            ]
          },
          "metadata": {
            "tags": []
          },
          "execution_count": 147
        }
      ]
    },
    {
      "cell_type": "code",
      "metadata": {
        "id": "OKKjXpqxOLNO",
        "outputId": "7b9d9a96-d05e-4013-d710-d489e50706be",
        "colab": {
          "base_uri": "https://localhost:8080/"
        }
      },
      "source": [
        "df['OrgSize'].fillna(method='ffill',inplace=True)\n",
        "df['OrgSize'].isnull().sum()\n"
      ],
      "execution_count": null,
      "outputs": [
        {
          "output_type": "execute_result",
          "data": {
            "text/plain": [
              "0"
            ]
          },
          "metadata": {
            "tags": []
          },
          "execution_count": 148
        }
      ]
    },
    {
      "cell_type": "code",
      "metadata": {
        "id": "H-BS7_SHOKtL",
        "outputId": "e51fceb1-a5ea-4ed9-9342-bdb3403b527d",
        "colab": {
          "base_uri": "https://localhost:8080/"
        }
      },
      "source": [
        "df['OrgSize'].value_counts()"
      ],
      "execution_count": null,
      "outputs": [
        {
          "output_type": "execute_result",
          "data": {
            "text/plain": [
              "20 to 99 employees                                    14105\n",
              "100 to 499 employees                                  12014\n",
              "10,000 or more employees                               8761\n",
              "1,000 to 4,999 employees                               6975\n",
              "2 to 9 employees                                       6406\n",
              "10 to 19 employees                                     6116\n",
              "500 to 999 employees                                   4207\n",
              "Just me - I am a freelancer, sole proprietor, etc.     3266\n",
              "5,000 to 9,999 employees                               2611\n",
              "Name: OrgSize, dtype: int64"
            ]
          },
          "metadata": {
            "tags": []
          },
          "execution_count": 149
        }
      ]
    },
    {
      "cell_type": "markdown",
      "metadata": {
        "id": "v2wvTjplKm1O"
      },
      "source": [
        "PlatformDesireNextYear"
      ]
    },
    {
      "cell_type": "code",
      "metadata": {
        "id": "ExiR_SwjOX2x",
        "outputId": "816f7e64-6d9d-4c97-ad56-3e604ec1ed4c",
        "colab": {
          "base_uri": "https://localhost:8080/"
        }
      },
      "source": [
        "df['PlatformDesireNextYear'].isnull().sum()\n",
        "\n"
      ],
      "execution_count": null,
      "outputs": [
        {
          "output_type": "execute_result",
          "data": {
            "text/plain": [
              "13856"
            ]
          },
          "metadata": {
            "tags": []
          },
          "execution_count": 150
        }
      ]
    },
    {
      "cell_type": "code",
      "metadata": {
        "id": "pG0tpEuPOX_e",
        "outputId": "8032dd6c-f5c7-498c-b927-afbd5ca3d8a9",
        "colab": {
          "base_uri": "https://localhost:8080/"
        }
      },
      "source": [
        "df['PlatformDesireNextYear'].fillna(method='ffill',inplace=True)\n",
        "df['PlatformDesireNextYear'].isnull().sum()\n"
      ],
      "execution_count": null,
      "outputs": [
        {
          "output_type": "execute_result",
          "data": {
            "text/plain": [
              "0"
            ]
          },
          "metadata": {
            "tags": []
          },
          "execution_count": 151
        }
      ]
    },
    {
      "cell_type": "code",
      "metadata": {
        "id": "HuDBctZqOYIO",
        "outputId": "c755e47c-2a84-47c5-d6f2-f34fbd1a453b",
        "colab": {
          "base_uri": "https://localhost:8080/"
        }
      },
      "source": [
        "df['PlatformDesireNextYear'].value_counts()"
      ],
      "execution_count": null,
      "outputs": [
        {
          "output_type": "execute_result",
          "data": {
            "text/plain": [
              "Linux                                                                                                                                     2563\n",
              "Windows                                                                                                                                   2307\n",
              "Linux;Windows                                                                                                                             1443\n",
              "Android                                                                                                                                   1104\n",
              "Docker;Linux                                                                                                                              1018\n",
              "                                                                                                                                          ... \n",
              "Arduino;AWS;Google Cloud Platform;Heroku;IBM Cloud or Watson;Raspberry Pi                                                                    1\n",
              "AWS;Docker;Google Cloud Platform;Heroku;IBM Cloud or Watson;iOS;Kubernetes;MacOS;Microsoft Azure;Slack Apps and Integrations;WordPress       1\n",
              "Android;Kubernetes;Linux;Raspberry Pi;Slack Apps and Integrations;Windows                                                                    1\n",
              "Android;Docker;Heroku;iOS;Linux;MacOS;Windows;WordPress                                                                                      1\n",
              "Android;AWS;Docker;Google Cloud Platform;IBM Cloud or Watson;Kubernetes;Linux;Raspberry Pi;Slack Apps and Integrations                       1\n",
              "Name: PlatformDesireNextYear, Length: 7471, dtype: int64"
            ]
          },
          "metadata": {
            "tags": []
          },
          "execution_count": 152
        }
      ]
    },
    {
      "cell_type": "markdown",
      "metadata": {
        "id": "fL7N5vsFKmwA"
      },
      "source": [
        "PlatformWorkedWith"
      ]
    },
    {
      "cell_type": "code",
      "metadata": {
        "id": "ZkmVL00fOd7_",
        "outputId": "483abda9-d40e-4d60-f0b0-4124f05e8a8f",
        "colab": {
          "base_uri": "https://localhost:8080/"
        }
      },
      "source": [
        "df['PlatformWorkedWith'].isnull().sum()\n"
      ],
      "execution_count": null,
      "outputs": [
        {
          "output_type": "execute_result",
          "data": {
            "text/plain": [
              "10618"
            ]
          },
          "metadata": {
            "tags": []
          },
          "execution_count": 153
        }
      ]
    },
    {
      "cell_type": "code",
      "metadata": {
        "id": "qbQPrTF1OeDC",
        "outputId": "42e2b3d5-c336-4ef4-d06d-793880924689",
        "colab": {
          "base_uri": "https://localhost:8080/"
        }
      },
      "source": [
        "df['PlatformWorkedWith'].fillna(method='ffill',inplace=True)\n",
        "df['PlatformWorkedWith'].isnull().sum()\n"
      ],
      "execution_count": null,
      "outputs": [
        {
          "output_type": "execute_result",
          "data": {
            "text/plain": [
              "0"
            ]
          },
          "metadata": {
            "tags": []
          },
          "execution_count": 154
        }
      ]
    },
    {
      "cell_type": "markdown",
      "metadata": {
        "id": "t12RGm5kKmpP"
      },
      "source": [
        "PurchaseWhat"
      ]
    },
    {
      "cell_type": "code",
      "metadata": {
        "id": "LpoYRk7hO4S0",
        "outputId": "0c1b6062-19b9-49d5-8efe-d8e28b8e2928",
        "colab": {
          "base_uri": "https://localhost:8080/"
        }
      },
      "source": [
        "df['PurchaseWhat'].isnull().sum()\n"
      ],
      "execution_count": null,
      "outputs": [
        {
          "output_type": "execute_result",
          "data": {
            "text/plain": [
              "25097"
            ]
          },
          "metadata": {
            "tags": []
          },
          "execution_count": 155
        }
      ]
    },
    {
      "cell_type": "code",
      "metadata": {
        "id": "Bj8KJQB6O4f0",
        "outputId": "c54cbb5c-2eba-4a65-c5e5-24a1fec2a0e8",
        "colab": {
          "base_uri": "https://localhost:8080/"
        }
      },
      "source": [
        "df['PurchaseWhat'].fillna(method='ffill',inplace=True)\n",
        "df['PurchaseWhat'].fillna(method='bfill',inplace=True)\n",
        "df['PurchaseWhat'].isnull().sum()\n"
      ],
      "execution_count": null,
      "outputs": [
        {
          "output_type": "execute_result",
          "data": {
            "text/plain": [
              "0"
            ]
          },
          "metadata": {
            "tags": []
          },
          "execution_count": 156
        }
      ]
    },
    {
      "cell_type": "code",
      "metadata": {
        "id": "G7_TtFa_O4b-",
        "outputId": "c8b9cda1-ea61-4f45-eca4-48b387fea440",
        "colab": {
          "base_uri": "https://localhost:8080/"
        }
      },
      "source": [
        "df['PurchaseWhat'].value_counts()"
      ],
      "execution_count": null,
      "outputs": [
        {
          "output_type": "execute_result",
          "data": {
            "text/plain": [
              "I have little or no influence       27875\n",
              "I have some influence               25350\n",
              "I have a great deal of influence    11236\n",
              "Name: PurchaseWhat, dtype: int64"
            ]
          },
          "metadata": {
            "tags": []
          },
          "execution_count": 157
        }
      ]
    },
    {
      "cell_type": "markdown",
      "metadata": {
        "id": "1_7-95Y2K8Fk"
      },
      "source": [
        "Sexuality"
      ]
    },
    {
      "cell_type": "code",
      "metadata": {
        "id": "5YHvhQgZPJxi",
        "outputId": "482a5dc4-554d-4849-bdf9-2bace7e236c0",
        "colab": {
          "base_uri": "https://localhost:8080/"
        }
      },
      "source": [
        "df['Sexuality'].isnull().sum()\n"
      ],
      "execution_count": null,
      "outputs": [
        {
          "output_type": "execute_result",
          "data": {
            "text/plain": [
              "20469"
            ]
          },
          "metadata": {
            "tags": []
          },
          "execution_count": 158
        }
      ]
    },
    {
      "cell_type": "code",
      "metadata": {
        "id": "o89eZmK1PJuA",
        "outputId": "ef3a55c2-8856-4605-f392-a064b4d24e12",
        "colab": {
          "base_uri": "https://localhost:8080/"
        }
      },
      "source": [
        "df['Sexuality'].fillna(method='ffill',inplace=True)\n",
        "df['Sexuality'].isnull().sum()\n"
      ],
      "execution_count": null,
      "outputs": [
        {
          "output_type": "execute_result",
          "data": {
            "text/plain": [
              "0"
            ]
          },
          "metadata": {
            "tags": []
          },
          "execution_count": 159
        }
      ]
    },
    {
      "cell_type": "code",
      "metadata": {
        "id": "u3z5VpRbPJrS",
        "outputId": "019e0e3f-b037-4a8b-d925-5ddb216899a3",
        "colab": {
          "base_uri": "https://localhost:8080/"
        }
      },
      "source": [
        "df['Sexuality'].value_counts()"
      ],
      "execution_count": null,
      "outputs": [
        {
          "output_type": "execute_result",
          "data": {
            "text/plain": [
              "Straight / Heterosexual                                  58907\n",
              "Bisexual                                                  2717\n",
              "Gay or Lesbian                                            1406\n",
              "Bisexual;Straight / Heterosexual                           364\n",
              "Queer                                                      361\n",
              "Bisexual;Queer                                             293\n",
              "Gay or Lesbian;Queer                                       123\n",
              "Straight / Heterosexual;Queer                               78\n",
              "Bisexual;Gay or Lesbian;Straight / Heterosexual;Queer       67\n",
              "Bisexual;Gay or Lesbian                                     64\n",
              "Bisexual;Gay or Lesbian;Queer                               33\n",
              "Bisexual;Straight / Heterosexual;Queer                      19\n",
              "Gay or Lesbian;Straight / Heterosexual                      18\n",
              "Bisexual;Gay or Lesbian;Straight / Heterosexual             11\n",
              "Name: Sexuality, dtype: int64"
            ]
          },
          "metadata": {
            "tags": []
          },
          "execution_count": 160
        }
      ]
    },
    {
      "cell_type": "markdown",
      "metadata": {
        "id": "fU7ndNnIK8Nk"
      },
      "source": [
        "SOAccount"
      ]
    },
    {
      "cell_type": "code",
      "metadata": {
        "id": "ohK_7uc9PP9T",
        "outputId": "38a0e0e2-939d-43e0-ece8-67c6cfa44cd7",
        "colab": {
          "base_uri": "https://localhost:8080/"
        }
      },
      "source": [
        "df['SOAccount'].isnull().sum()\n",
        "\n"
      ],
      "execution_count": null,
      "outputs": [
        {
          "output_type": "execute_result",
          "data": {
            "text/plain": [
              "7656"
            ]
          },
          "metadata": {
            "tags": []
          },
          "execution_count": 161
        }
      ]
    },
    {
      "cell_type": "code",
      "metadata": {
        "id": "1Rr7-jaUPP6m",
        "outputId": "0994b40a-2f86-41d0-a0e5-cfb91a9c56ed",
        "colab": {
          "base_uri": "https://localhost:8080/"
        }
      },
      "source": [
        "df['SOAccount'].fillna(method='ffill',inplace=True)\n",
        "df['SOAccount'].isnull().sum()\n"
      ],
      "execution_count": null,
      "outputs": [
        {
          "output_type": "execute_result",
          "data": {
            "text/plain": [
              "0"
            ]
          },
          "metadata": {
            "tags": []
          },
          "execution_count": 162
        }
      ]
    },
    {
      "cell_type": "code",
      "metadata": {
        "id": "bRlba3KrPP34",
        "outputId": "3ba56777-92de-43a4-f466-e6605e36eb31",
        "colab": {
          "base_uri": "https://localhost:8080/"
        }
      },
      "source": [
        "df['SOAccount'].value_counts()"
      ],
      "execution_count": null,
      "outputs": [
        {
          "output_type": "execute_result",
          "data": {
            "text/plain": [
              "Yes                        53411\n",
              "No                          7129\n",
              "Not sure/can't remember     3921\n",
              "Name: SOAccount, dtype: int64"
            ]
          },
          "metadata": {
            "tags": []
          },
          "execution_count": 163
        }
      ]
    },
    {
      "cell_type": "markdown",
      "metadata": {
        "id": "GsEcg8r_LDRr"
      },
      "source": [
        "SOComm"
      ]
    },
    {
      "cell_type": "code",
      "metadata": {
        "id": "fVAr4Bk7PxTB",
        "outputId": "d580a538-fed8-436a-d846-7d99ff1d5614",
        "colab": {
          "base_uri": "https://localhost:8080/"
        }
      },
      "source": [
        "df['SOComm'].isnull().sum()\n"
      ],
      "execution_count": null,
      "outputs": [
        {
          "output_type": "execute_result",
          "data": {
            "text/plain": [
              "7985"
            ]
          },
          "metadata": {
            "tags": []
          },
          "execution_count": 164
        }
      ]
    },
    {
      "cell_type": "code",
      "metadata": {
        "id": "pzrWq8SyPxPT",
        "outputId": "4198696a-fada-4674-90fc-a027a65fc15c",
        "colab": {
          "base_uri": "https://localhost:8080/"
        }
      },
      "source": [
        "df['SOComm'].fillna(method='ffill',inplace=True)\n",
        "df['SOComm'].isnull().sum()\n"
      ],
      "execution_count": null,
      "outputs": [
        {
          "output_type": "execute_result",
          "data": {
            "text/plain": [
              "0"
            ]
          },
          "metadata": {
            "tags": []
          },
          "execution_count": 165
        }
      ]
    },
    {
      "cell_type": "code",
      "metadata": {
        "id": "9ryPH2maPxLk",
        "outputId": "c9630773-865d-4c2e-f775-f5d9489aa17f",
        "colab": {
          "base_uri": "https://localhost:8080/"
        }
      },
      "source": [
        "df['SOComm'].value_counts()"
      ],
      "execution_count": null,
      "outputs": [
        {
          "output_type": "execute_result",
          "data": {
            "text/plain": [
              "Yes, somewhat      17155\n",
              "No, not really     16794\n",
              "Neutral            13527\n",
              "Yes, definitely    10093\n",
              "No, not at all      5587\n",
              "Not sure            1305\n",
              "Name: SOComm, dtype: int64"
            ]
          },
          "metadata": {
            "tags": []
          },
          "execution_count": 166
        }
      ]
    },
    {
      "cell_type": "markdown",
      "metadata": {
        "id": "vdu5wI12LDc0"
      },
      "source": [
        "SOPartFreq"
      ]
    },
    {
      "cell_type": "code",
      "metadata": {
        "id": "nQvZ0_JyP3PA",
        "outputId": "4f5d803b-72d3-4392-a4be-b53f1d4c11b1",
        "colab": {
          "base_uri": "https://localhost:8080/"
        }
      },
      "source": [
        "df['SOPartFreq'].isnull().sum()\n"
      ],
      "execution_count": null,
      "outputs": [
        {
          "output_type": "execute_result",
          "data": {
            "text/plain": [
              "17669"
            ]
          },
          "metadata": {
            "tags": []
          },
          "execution_count": 167
        }
      ]
    },
    {
      "cell_type": "code",
      "metadata": {
        "id": "GNRy7iBtP3L9",
        "outputId": "238cd730-32be-4528-b0fd-c67259369063",
        "colab": {
          "base_uri": "https://localhost:8080/"
        }
      },
      "source": [
        "df['SOPartFreq'].fillna(method='ffill',inplace=True)\n",
        "df['SOPartFreq'].fillna(method='bfill',inplace=True)\n",
        "df['SOPartFreq'].isnull().sum()\n"
      ],
      "execution_count": null,
      "outputs": [
        {
          "output_type": "execute_result",
          "data": {
            "text/plain": [
              "0"
            ]
          },
          "metadata": {
            "tags": []
          },
          "execution_count": 168
        }
      ]
    },
    {
      "cell_type": "code",
      "metadata": {
        "id": "wlYk8wT8P3Iw",
        "outputId": "b36b2f90-28d5-422d-a16e-149a15ce52e7",
        "colab": {
          "base_uri": "https://localhost:8080/"
        }
      },
      "source": [
        "df['SOPartFreq'].value_counts()"
      ],
      "execution_count": null,
      "outputs": [
        {
          "output_type": "execute_result",
          "data": {
            "text/plain": [
              "Less than once per month or monthly                   28272\n",
              "I have never participated in Q&A on Stack Overflow    15003\n",
              "A few times per month or weekly                       11189\n",
              "A few times per week                                   5559\n",
              "Daily or almost daily                                  2849\n",
              "Multiple times per day                                 1589\n",
              "Name: SOPartFreq, dtype: int64"
            ]
          },
          "metadata": {
            "tags": []
          },
          "execution_count": 169
        }
      ]
    },
    {
      "cell_type": "markdown",
      "metadata": {
        "id": "MElZK9nVLKra"
      },
      "source": [
        "SOVisitFreq"
      ]
    },
    {
      "cell_type": "code",
      "metadata": {
        "id": "2azdncm2QEaH",
        "outputId": "29e344c9-ad0e-4774-9709-a4ad76941d91",
        "colab": {
          "base_uri": "https://localhost:8080/"
        }
      },
      "source": [
        "df['SOVisitFreq'].isnull().sum()\n"
      ],
      "execution_count": null,
      "outputs": [
        {
          "output_type": "execute_result",
          "data": {
            "text/plain": [
              "7491"
            ]
          },
          "metadata": {
            "tags": []
          },
          "execution_count": 170
        }
      ]
    },
    {
      "cell_type": "code",
      "metadata": {
        "id": "uZPO1EMtQEXM",
        "outputId": "d820c5ca-9ac2-44a5-cddf-8040622a6abf",
        "colab": {
          "base_uri": "https://localhost:8080/"
        }
      },
      "source": [
        "df['SOVisitFreq'].fillna(method='ffill',inplace=True)\n",
        "df['SOVisitFreq'].isnull().sum()\n"
      ],
      "execution_count": null,
      "outputs": [
        {
          "output_type": "execute_result",
          "data": {
            "text/plain": [
              "0"
            ]
          },
          "metadata": {
            "tags": []
          },
          "execution_count": 171
        }
      ]
    },
    {
      "cell_type": "code",
      "metadata": {
        "id": "_d_fwaGLQEUQ",
        "outputId": "1a319cdd-ad9b-43ad-cdb6-a844e75bbcac",
        "colab": {
          "base_uri": "https://localhost:8080/"
        }
      },
      "source": [
        "df['SOVisitFreq'].value_counts()"
      ],
      "execution_count": null,
      "outputs": [
        {
          "output_type": "execute_result",
          "data": {
            "text/plain": [
              "Daily or almost daily                                 19572\n",
              "Multiple times per day                                18276\n",
              "A few times per week                                  15258\n",
              "A few times per month or weekly                        9035\n",
              "Less than once per month or monthly                    2014\n",
              "I have never visited Stack Overflow (before today)      306\n",
              "Name: SOVisitFreq, dtype: int64"
            ]
          },
          "metadata": {
            "tags": []
          },
          "execution_count": 172
        }
      ]
    },
    {
      "cell_type": "markdown",
      "metadata": {
        "id": "MPIy8OatLKeb"
      },
      "source": [
        "SurveyEase"
      ]
    },
    {
      "cell_type": "code",
      "metadata": {
        "id": "scRbmWejQYOh",
        "outputId": "c7cac2a1-5b88-4300-cdb9-805e22b7f3e2",
        "colab": {
          "base_uri": "https://localhost:8080/"
        }
      },
      "source": [
        "df['SurveyEase'].isnull().sum()\n",
        "\n"
      ],
      "execution_count": null,
      "outputs": [
        {
          "output_type": "execute_result",
          "data": {
            "text/plain": [
              "12659"
            ]
          },
          "metadata": {
            "tags": []
          },
          "execution_count": 173
        }
      ]
    },
    {
      "cell_type": "code",
      "metadata": {
        "id": "djYY-ipHQYZS",
        "outputId": "312c3a12-bbfc-4161-cf6d-5247ecc4e6c5",
        "colab": {
          "base_uri": "https://localhost:8080/"
        }
      },
      "source": [
        "df['SurveyEase'].fillna(method='ffill',inplace=True)\n",
        "df['SurveyEase'].isnull().sum()\n"
      ],
      "execution_count": null,
      "outputs": [
        {
          "output_type": "execute_result",
          "data": {
            "text/plain": [
              "0"
            ]
          },
          "metadata": {
            "tags": []
          },
          "execution_count": 174
        }
      ]
    },
    {
      "cell_type": "code",
      "metadata": {
        "id": "x6myvuvWQYle",
        "outputId": "933856dd-8bb7-40f3-93a9-8dcbcf9ab09b",
        "colab": {
          "base_uri": "https://localhost:8080/"
        }
      },
      "source": [
        "df['SurveyEase'].value_counts()"
      ],
      "execution_count": null,
      "outputs": [
        {
          "output_type": "execute_result",
          "data": {
            "text/plain": [
              "Easy                          42221\n",
              "Neither easy nor difficult    21248\n",
              "Difficult                       992\n",
              "Name: SurveyEase, dtype: int64"
            ]
          },
          "metadata": {
            "tags": []
          },
          "execution_count": 175
        }
      ]
    },
    {
      "cell_type": "markdown",
      "metadata": {
        "id": "d8vXW4uHLSjB"
      },
      "source": [
        "SurveyLength"
      ]
    },
    {
      "cell_type": "code",
      "metadata": {
        "id": "NwvwgSHdQidM",
        "outputId": "52a940c2-ebe3-49c9-ffc5-162c913d8f94",
        "colab": {
          "base_uri": "https://localhost:8080/"
        }
      },
      "source": [
        "df['SurveyLength'].isnull().sum()\n"
      ],
      "execution_count": null,
      "outputs": [
        {
          "output_type": "execute_result",
          "data": {
            "text/plain": [
              "12760"
            ]
          },
          "metadata": {
            "tags": []
          },
          "execution_count": 176
        }
      ]
    },
    {
      "cell_type": "code",
      "metadata": {
        "id": "3GeC-D-hQiaC",
        "outputId": "0fb5961a-052c-4ea8-fec8-621f9d2ab11b",
        "colab": {
          "base_uri": "https://localhost:8080/"
        }
      },
      "source": [
        "df['SurveyLength'].fillna(method='ffill',inplace=True)\n",
        "df['SurveyLength'].isnull().sum()\n"
      ],
      "execution_count": null,
      "outputs": [
        {
          "output_type": "execute_result",
          "data": {
            "text/plain": [
              "0"
            ]
          },
          "metadata": {
            "tags": []
          },
          "execution_count": 177
        }
      ]
    },
    {
      "cell_type": "code",
      "metadata": {
        "id": "cKp1HzIaQiXI",
        "outputId": "40a3f8fb-ae9b-4e4d-cda3-fb3b230f277c",
        "colab": {
          "base_uri": "https://localhost:8080/"
        }
      },
      "source": [
        "df['SurveyLength'].value_counts()"
      ],
      "execution_count": null,
      "outputs": [
        {
          "output_type": "execute_result",
          "data": {
            "text/plain": [
              "Appropriate in length    48504\n",
              "Too long                 13343\n",
              "Too short                 2614\n",
              "Name: SurveyLength, dtype: int64"
            ]
          },
          "metadata": {
            "tags": []
          },
          "execution_count": 178
        }
      ]
    },
    {
      "cell_type": "markdown",
      "metadata": {
        "id": "XqaBm8M0LSz5"
      },
      "source": [
        "Trans"
      ]
    },
    {
      "cell_type": "code",
      "metadata": {
        "id": "cFs7PfrpQn6r",
        "outputId": "fb739d0a-415a-4d79-bf6f-ac9be4a206a4",
        "colab": {
          "base_uri": "https://localhost:8080/"
        }
      },
      "source": [
        "df['Trans'].isnull().sum()\n"
      ],
      "execution_count": null,
      "outputs": [
        {
          "output_type": "execute_result",
          "data": {
            "text/plain": [
              "15116"
            ]
          },
          "metadata": {
            "tags": []
          },
          "execution_count": 179
        }
      ]
    },
    {
      "cell_type": "code",
      "metadata": {
        "id": "e3YI5qAZQn3k",
        "outputId": "686e2374-cfc3-4020-88ed-836f7023aac7",
        "colab": {
          "base_uri": "https://localhost:8080/"
        }
      },
      "source": [
        "df['Trans'].fillna(method='ffill',inplace=True)\n",
        "df['Trans'].isnull().sum()\n"
      ],
      "execution_count": null,
      "outputs": [
        {
          "output_type": "execute_result",
          "data": {
            "text/plain": [
              "0"
            ]
          },
          "metadata": {
            "tags": []
          },
          "execution_count": 180
        }
      ]
    },
    {
      "cell_type": "code",
      "metadata": {
        "id": "0hvnuh1oQn0k",
        "outputId": "311117d2-d031-43ea-c1df-b04ca133e8e6",
        "colab": {
          "base_uri": "https://localhost:8080/"
        }
      },
      "source": [
        "df['Trans'].value_counts()"
      ],
      "execution_count": null,
      "outputs": [
        {
          "output_type": "execute_result",
          "data": {
            "text/plain": [
              "No     63840\n",
              "Yes      621\n",
              "Name: Trans, dtype: int64"
            ]
          },
          "metadata": {
            "tags": []
          },
          "execution_count": 181
        }
      ]
    },
    {
      "cell_type": "markdown",
      "metadata": {
        "id": "Bim9thEyLS8V"
      },
      "source": [
        "UndergradMajor"
      ]
    },
    {
      "cell_type": "code",
      "metadata": {
        "id": "XaemUbORQw1p",
        "outputId": "2e7cc348-f9b8-4ff9-e8ff-525e92a81a6c",
        "colab": {
          "base_uri": "https://localhost:8080/"
        }
      },
      "source": [
        "df['UndergradMajor'].isnull().sum()\n"
      ],
      "execution_count": null,
      "outputs": [
        {
          "output_type": "execute_result",
          "data": {
            "text/plain": [
              "13466"
            ]
          },
          "metadata": {
            "tags": []
          },
          "execution_count": 182
        }
      ]
    },
    {
      "cell_type": "code",
      "metadata": {
        "id": "Dsi8J-GbQw_4",
        "outputId": "ce21c000-7757-4b04-9fef-bc68c3045bb6",
        "colab": {
          "base_uri": "https://localhost:8080/"
        }
      },
      "source": [
        "df['UndergradMajor'].fillna(method='ffill',inplace=True)\n",
        "df['UndergradMajor'].isnull().sum()\n"
      ],
      "execution_count": null,
      "outputs": [
        {
          "output_type": "execute_result",
          "data": {
            "text/plain": [
              "0"
            ]
          },
          "metadata": {
            "tags": []
          },
          "execution_count": 183
        }
      ]
    },
    {
      "cell_type": "code",
      "metadata": {
        "id": "uY2pJ4KzQw8Y",
        "outputId": "d374199f-7393-4186-e7e7-d7856846c80a",
        "colab": {
          "base_uri": "https://localhost:8080/"
        }
      },
      "source": [
        "df['UndergradMajor'].value_counts()"
      ],
      "execution_count": null,
      "outputs": [
        {
          "output_type": "execute_result",
          "data": {
            "text/plain": [
              "Computer science, computer engineering, or software engineering                   39838\n",
              "Another engineering discipline (such as civil, electrical, mechanical, etc.)       6016\n",
              "Information systems, information technology, or system administration              5179\n",
              "A natural science (such as biology, chemistry, physics, etc.)                      2754\n",
              "Mathematics or statistics                                                          2316\n",
              "Web development or web design                                                      2301\n",
              "A business discipline (such as accounting, finance, marketing, etc.)               1762\n",
              "A humanities discipline (such as literature, history, philosophy, etc.)            1275\n",
              "A social science (such as anthropology, psychology, political science, etc.)       1201\n",
              "Fine arts or performing arts (such as graphic design, music, studio art, etc.)      911\n",
              "I never declared a major                                                            595\n",
              "A health science (such as nursing, pharmacy, radiology, etc.)                       313\n",
              "Name: UndergradMajor, dtype: int64"
            ]
          },
          "metadata": {
            "tags": []
          },
          "execution_count": 184
        }
      ]
    },
    {
      "cell_type": "markdown",
      "metadata": {
        "id": "FXnGPn08LTKB"
      },
      "source": [
        "WebframeDesireNextYear"
      ]
    },
    {
      "cell_type": "code",
      "metadata": {
        "id": "fmwxL1FOQ7m5",
        "outputId": "53123959-d265-4b99-fd9a-900d8558f942",
        "colab": {
          "base_uri": "https://localhost:8080/"
        }
      },
      "source": [
        "df['WebframeDesireNextYear'].isnull().sum()\n"
      ],
      "execution_count": null,
      "outputs": [
        {
          "output_type": "execute_result",
          "data": {
            "text/plain": [
              "24437"
            ]
          },
          "metadata": {
            "tags": []
          },
          "execution_count": 185
        }
      ]
    },
    {
      "cell_type": "code",
      "metadata": {
        "id": "nlOcNiTHQ7jx",
        "outputId": "4ce0bb87-050b-4faf-b238-2e2e6d5eeab5",
        "colab": {
          "base_uri": "https://localhost:8080/"
        }
      },
      "source": [
        "df['WebframeDesireNextYear'].fillna(method='ffill',inplace=True)\n",
        "df['WebframeDesireNextYear'].isnull().sum()\n"
      ],
      "execution_count": null,
      "outputs": [
        {
          "output_type": "execute_result",
          "data": {
            "text/plain": [
              "0"
            ]
          },
          "metadata": {
            "tags": []
          },
          "execution_count": 186
        }
      ]
    },
    {
      "cell_type": "code",
      "metadata": {
        "id": "ZTZdxZoZQ7fv",
        "outputId": "565a4939-433a-4e0a-898d-1720a6a62669",
        "colab": {
          "base_uri": "https://localhost:8080/"
        }
      },
      "source": [
        "df['WebframeDesireNextYear'].value_counts()"
      ],
      "execution_count": null,
      "outputs": [
        {
          "output_type": "execute_result",
          "data": {
            "text/plain": [
              "React.js                                                                                        4023\n",
              "Vue.js                                                                                          1754\n",
              "ASP.NET Core                                                                                    1732\n",
              "Spring                                                                                          1667\n",
              "Django                                                                                          1420\n",
              "                                                                                                ... \n",
              "Angular.js;ASP.NET;Django;Laravel;React.js                                                         1\n",
              "Angular.js;ASP.NET Core;Django;React.js                                                            1\n",
              "Drupal;Flask;Laravel;React.js;Ruby on Rails;Spring                                                 1\n",
              "Django;Express;Flask;Gatsby;jQuery;Laravel;React.js;Ruby on Rails;Spring;Vue.js                    1\n",
              "Angular;Angular.js;Express;Flask;jQuery;Laravel;React.js;Ruby on Rails;Spring;Symfony;Vue.js       1\n",
              "Name: WebframeDesireNextYear, Length: 3986, dtype: int64"
            ]
          },
          "metadata": {
            "tags": []
          },
          "execution_count": 187
        }
      ]
    },
    {
      "cell_type": "markdown",
      "metadata": {
        "id": "kfUg-7DPLTYZ"
      },
      "source": [
        "WebframeWorkedWith"
      ]
    },
    {
      "cell_type": "code",
      "metadata": {
        "id": "EQZk7nuiRBoD",
        "outputId": "ec91c4d9-5cb4-4b92-9403-3e11321dc1d7",
        "colab": {
          "base_uri": "https://localhost:8080/"
        }
      },
      "source": [
        "df['WebframeWorkedWith'].isnull().sum()\n"
      ],
      "execution_count": null,
      "outputs": [
        {
          "output_type": "execute_result",
          "data": {
            "text/plain": [
              "22182"
            ]
          },
          "metadata": {
            "tags": []
          },
          "execution_count": 188
        }
      ]
    },
    {
      "cell_type": "markdown",
      "metadata": {
        "id": "124YQs64Lk5u"
      },
      "source": [
        "WelcomeChange"
      ]
    },
    {
      "cell_type": "code",
      "metadata": {
        "id": "12YUXwBORLO3",
        "outputId": "9c0f29b4-c456-4b2b-b0aa-4e73a61e1bb3",
        "colab": {
          "base_uri": "https://localhost:8080/"
        }
      },
      "source": [
        "df['WelcomeChange'].isnull().sum()\n"
      ],
      "execution_count": null,
      "outputs": [
        {
          "output_type": "execute_result",
          "data": {
            "text/plain": [
              "11778"
            ]
          },
          "metadata": {
            "tags": []
          },
          "execution_count": 189
        }
      ]
    },
    {
      "cell_type": "code",
      "metadata": {
        "id": "v7hDqQWbRLXs",
        "outputId": "78a6e07b-8ef2-4691-a2f6-597209eb9728",
        "colab": {
          "base_uri": "https://localhost:8080/"
        }
      },
      "source": [
        "df['WelcomeChange'].fillna(method='ffill',inplace=True)\n",
        "df['WelcomeChange'].isnull().sum()\n"
      ],
      "execution_count": null,
      "outputs": [
        {
          "output_type": "execute_result",
          "data": {
            "text/plain": [
              "0"
            ]
          },
          "metadata": {
            "tags": []
          },
          "execution_count": 190
        }
      ]
    },
    {
      "cell_type": "code",
      "metadata": {
        "id": "6Y4PuNjRRLsi",
        "outputId": "2e9c9f40-8d24-4cc4-dd63-83d7bbbe28cb",
        "colab": {
          "base_uri": "https://localhost:8080/"
        }
      },
      "source": [
        "df['WelcomeChange'].value_counts()"
      ],
      "execution_count": null,
      "outputs": [
        {
          "output_type": "execute_result",
          "data": {
            "text/plain": [
              "Just as welcome now as I felt last year                    45088\n",
              "Somewhat more welcome now than last year                    6176\n",
              "A lot more welcome now than last year                       4108\n",
              "Somewhat less welcome now than last year                    3733\n",
              "A lot less welcome now than last year                       2731\n",
              "Not applicable - I did not use Stack Overflow last year     2625\n",
              "Name: WelcomeChange, dtype: int64"
            ]
          },
          "metadata": {
            "tags": []
          },
          "execution_count": 191
        }
      ]
    },
    {
      "cell_type": "markdown",
      "metadata": {
        "id": "DasU4hSqLlFi"
      },
      "source": [
        "WorkWeekHrs"
      ]
    },
    {
      "cell_type": "code",
      "metadata": {
        "id": "bqr1rRm_gErW",
        "outputId": "e65c66db-57e5-4b40-88fc-8f93e012d4f4",
        "colab": {
          "base_uri": "https://localhost:8080/"
        }
      },
      "source": [
        "df['WorkWeekHrs'].isnull().sum()\n"
      ],
      "execution_count": null,
      "outputs": [
        {
          "output_type": "execute_result",
          "data": {
            "text/plain": [
              "23310"
            ]
          },
          "metadata": {
            "tags": []
          },
          "execution_count": 192
        }
      ]
    },
    {
      "cell_type": "code",
      "metadata": {
        "id": "ShSABacugEw1",
        "outputId": "e1c58a2f-4d98-41d1-b893-179547723a33",
        "colab": {
          "base_uri": "https://localhost:8080/"
        }
      },
      "source": [
        "df['WorkWeekHrs'].fillna(method='ffill',inplace=True)\n",
        "df['WorkWeekHrs'].isnull().sum()\n"
      ],
      "execution_count": null,
      "outputs": [
        {
          "output_type": "execute_result",
          "data": {
            "text/plain": [
              "0"
            ]
          },
          "metadata": {
            "tags": []
          },
          "execution_count": 193
        }
      ]
    },
    {
      "cell_type": "code",
      "metadata": {
        "id": "LIVKGPc-gEn5",
        "outputId": "7a9f5e63-9f4e-4437-99be-40af64d29a8c",
        "colab": {
          "base_uri": "https://localhost:8080/"
        }
      },
      "source": [
        "df['WorkWeekHrs'].value_counts()"
      ],
      "execution_count": null,
      "outputs": [
        {
          "output_type": "execute_result",
          "data": {
            "text/plain": [
              "40.0     30073\n",
              "45.0      5983\n",
              "50.0      4298\n",
              "35.0      3132\n",
              "38.0      2089\n",
              "         ...  \n",
              "40.5         1\n",
              "22.8         1\n",
              "79.0         1\n",
              "387.0        1\n",
              "58.5         1\n",
              "Name: WorkWeekHrs, Length: 157, dtype: int64"
            ]
          },
          "metadata": {
            "tags": []
          },
          "execution_count": 194
        }
      ]
    },
    {
      "cell_type": "markdown",
      "metadata": {
        "id": "xb9NInfpLrjO"
      },
      "source": [
        "YearsCode"
      ]
    },
    {
      "cell_type": "code",
      "metadata": {
        "id": "QNdRXRWngOxi",
        "outputId": "3a2a7a31-fcdc-4546-f84b-7bbfc04e8ac1",
        "colab": {
          "base_uri": "https://localhost:8080/"
        }
      },
      "source": [
        "df['YearsCode'].isnull().sum()\n"
      ],
      "execution_count": null,
      "outputs": [
        {
          "output_type": "execute_result",
          "data": {
            "text/plain": [
              "6777"
            ]
          },
          "metadata": {
            "tags": []
          },
          "execution_count": 195
        }
      ]
    },
    {
      "cell_type": "code",
      "metadata": {
        "id": "PxZGo_yUgO4E",
        "outputId": "029b2a65-84a2-4711-f0ab-6c82685bf131",
        "colab": {
          "base_uri": "https://localhost:8080/"
        }
      },
      "source": [
        "df['YearsCode'].fillna(method='ffill',inplace=True)\n",
        "df['YearsCode'].isnull().sum()\n"
      ],
      "execution_count": null,
      "outputs": [
        {
          "output_type": "execute_result",
          "data": {
            "text/plain": [
              "0"
            ]
          },
          "metadata": {
            "tags": []
          },
          "execution_count": 196
        }
      ]
    },
    {
      "cell_type": "code",
      "metadata": {
        "id": "df7I_bq7gPTc",
        "outputId": "9cd27040-0063-48d2-e2e0-3e43b9b6e2ee",
        "colab": {
          "base_uri": "https://localhost:8080/"
        }
      },
      "source": [
        "df['YearsCode'].value_counts()"
      ],
      "execution_count": null,
      "outputs": [
        {
          "output_type": "execute_result",
          "data": {
            "text/plain": [
              "10                    5043\n",
              "5                     4825\n",
              "6                     4344\n",
              "7                     3883\n",
              "8                     3814\n",
              "4                     3686\n",
              "3                     3396\n",
              "15                    2887\n",
              "20                    2827\n",
              "12                    2705\n",
              "9                     2605\n",
              "2                     2176\n",
              "11                    1873\n",
              "14                    1637\n",
              "13                    1607\n",
              "25                    1474\n",
              "16                    1331\n",
              "30                    1236\n",
              "18                    1215\n",
              "17                    1163\n",
              "1                     1083\n",
              "Less than 1 year       928\n",
              "22                     858\n",
              "19                     731\n",
              "35                     654\n",
              "23                     628\n",
              "21                     607\n",
              "40                     567\n",
              "24                     492\n",
              "26                     401\n",
              "27                     354\n",
              "32                     337\n",
              "28                     334\n",
              "38                     308\n",
              "37                     279\n",
              "36                     267\n",
              "34                     258\n",
              "33                     252\n",
              "29                     194\n",
              "39                     168\n",
              "31                     159\n",
              "More than 50 years     158\n",
              "42                     133\n",
              "45                     120\n",
              "41                     108\n",
              "43                      96\n",
              "44                      75\n",
              "46                      52\n",
              "50                      45\n",
              "48                      37\n",
              "47                      28\n",
              "49                      23\n",
              "Name: YearsCode, dtype: int64"
            ]
          },
          "metadata": {
            "tags": []
          },
          "execution_count": 197
        }
      ]
    },
    {
      "cell_type": "markdown",
      "metadata": {
        "id": "wUqJMcY_Lrzw"
      },
      "source": [
        "YearsCodePro"
      ]
    },
    {
      "cell_type": "code",
      "metadata": {
        "id": "kXzcVa9nK3A4",
        "outputId": "1a30ef54-a92f-4c41-f25a-6c0eb43b05c1",
        "colab": {
          "base_uri": "https://localhost:8080/"
        }
      },
      "source": [
        "df['YearsCodePro'].isnull().sum()\n"
      ],
      "execution_count": null,
      "outputs": [
        {
          "output_type": "execute_result",
          "data": {
            "text/plain": [
              "18112"
            ]
          },
          "metadata": {
            "tags": []
          },
          "execution_count": 198
        }
      ]
    },
    {
      "cell_type": "code",
      "metadata": {
        "id": "1IpO2LhcK3LU",
        "outputId": "5cd45562-6395-41c4-fd25-3aeb261f8051",
        "colab": {
          "base_uri": "https://localhost:8080/"
        }
      },
      "source": [
        "df['YearsCodePro'].fillna(method='ffill',inplace=True)\n",
        "df['YearsCodePro'].isnull().sum()\n"
      ],
      "execution_count": null,
      "outputs": [
        {
          "output_type": "execute_result",
          "data": {
            "text/plain": [
              "0"
            ]
          },
          "metadata": {
            "tags": []
          },
          "execution_count": 199
        }
      ]
    },
    {
      "cell_type": "code",
      "metadata": {
        "id": "s1Qr0_iNK3dh",
        "outputId": "28942298-c2a0-449e-87c0-a815a8fd5eb8",
        "colab": {
          "base_uri": "https://localhost:8080/"
        }
      },
      "source": [
        "df['YearsCodePro'].value_counts()"
      ],
      "execution_count": null,
      "outputs": [
        {
          "output_type": "execute_result",
          "data": {
            "text/plain": [
              "2                     6828\n",
              "3                     6725\n",
              "5                     5580\n",
              "4                     5138\n",
              "1                     4042\n",
              "6                     3804\n",
              "10                    3793\n",
              "Less than 1 year      3271\n",
              "7                     3066\n",
              "8                     3059\n",
              "15                    2096\n",
              "12                    2019\n",
              "20                    1901\n",
              "9                     1677\n",
              "11                    1301\n",
              "13                    1209\n",
              "14                    1016\n",
              "16                     825\n",
              "25                     790\n",
              "18                     771\n",
              "17                     633\n",
              "22                     599\n",
              "30                     495\n",
              "19                     489\n",
              "21                     469\n",
              "23                     448\n",
              "24                     357\n",
              "26                     255\n",
              "35                     226\n",
              "27                     185\n",
              "28                     171\n",
              "40                     132\n",
              "32                     131\n",
              "33                     122\n",
              "34                     111\n",
              "31                     104\n",
              "29                      97\n",
              "38                      90\n",
              "36                      83\n",
              "37                      70\n",
              "More than 50 years      67\n",
              "39                      66\n",
              "42                      30\n",
              "45                      28\n",
              "41                      25\n",
              "44                      19\n",
              "43                      16\n",
              "50                      11\n",
              "46                       8\n",
              "47                       7\n",
              "48                       5\n",
              "49                       1\n",
              "Name: YearsCodePro, dtype: int64"
            ]
          },
          "metadata": {
            "tags": []
          },
          "execution_count": 200
        }
      ]
    },
    {
      "cell_type": "code",
      "metadata": {
        "id": "h4GWbEiUKO1e"
      },
      "source": [],
      "execution_count": null,
      "outputs": []
    },
    {
      "cell_type": "code",
      "metadata": {
        "id": "HCGJwuCZKFZo"
      },
      "source": [],
      "execution_count": null,
      "outputs": []
    },
    {
      "cell_type": "code",
      "metadata": {
        "id": "UPDBhAOO0pml",
        "outputId": "64b4137c-d25e-4071-c151-d37c3c993192",
        "colab": {
          "base_uri": "https://localhost:8080/"
        }
      },
      "source": [
        "df"
      ],
      "execution_count": null,
      "outputs": [
        {
          "output_type": "execute_result",
          "data": {
            "text/html": [
              "<div>\n",
              "<style scoped>\n",
              "    .dataframe tbody tr th:only-of-type {\n",
              "        vertical-align: middle;\n",
              "    }\n",
              "\n",
              "    .dataframe tbody tr th {\n",
              "        vertical-align: top;\n",
              "    }\n",
              "\n",
              "    .dataframe thead th {\n",
              "        text-align: right;\n",
              "    }\n",
              "</style>\n",
              "<table border=\"1\" class=\"dataframe\">\n",
              "  <thead>\n",
              "    <tr style=\"text-align: right;\">\n",
              "      <th></th>\n",
              "      <th>Respondent</th>\n",
              "      <th>MainBranch</th>\n",
              "      <th>Hobbyist</th>\n",
              "      <th>Age</th>\n",
              "      <th>Age1stCode</th>\n",
              "      <th>CompFreq</th>\n",
              "      <th>CompTotal</th>\n",
              "      <th>ConvertedComp</th>\n",
              "      <th>Country</th>\n",
              "      <th>CurrencyDesc</th>\n",
              "      <th>CurrencySymbol</th>\n",
              "      <th>DatabaseDesireNextYear</th>\n",
              "      <th>DatabaseWorkedWith</th>\n",
              "      <th>DevType</th>\n",
              "      <th>EdLevel</th>\n",
              "      <th>Employment</th>\n",
              "      <th>Ethnicity</th>\n",
              "      <th>Gender</th>\n",
              "      <th>JobFactors</th>\n",
              "      <th>JobSat</th>\n",
              "      <th>JobSeek</th>\n",
              "      <th>LanguageDesireNextYear</th>\n",
              "      <th>LanguageWorkedWith</th>\n",
              "      <th>MiscTechDesireNextYear</th>\n",
              "      <th>MiscTechWorkedWith</th>\n",
              "      <th>NEWCollabToolsDesireNextYear</th>\n",
              "      <th>NEWCollabToolsWorkedWith</th>\n",
              "      <th>NEWDevOps</th>\n",
              "      <th>NEWDevOpsImpt</th>\n",
              "      <th>NEWEdImpt</th>\n",
              "      <th>NEWJobHunt</th>\n",
              "      <th>NEWJobHuntResearch</th>\n",
              "      <th>NEWLearn</th>\n",
              "      <th>NEWOffTopic</th>\n",
              "      <th>NEWOnboardGood</th>\n",
              "      <th>NEWOtherComms</th>\n",
              "      <th>NEWOvertime</th>\n",
              "      <th>NEWPurchaseResearch</th>\n",
              "      <th>NEWPurpleLink</th>\n",
              "      <th>NEWSOSites</th>\n",
              "      <th>NEWStuck</th>\n",
              "      <th>OpSys</th>\n",
              "      <th>OrgSize</th>\n",
              "      <th>PlatformDesireNextYear</th>\n",
              "      <th>PlatformWorkedWith</th>\n",
              "      <th>PurchaseWhat</th>\n",
              "      <th>Sexuality</th>\n",
              "      <th>SOAccount</th>\n",
              "      <th>SOComm</th>\n",
              "      <th>SOPartFreq</th>\n",
              "      <th>SOVisitFreq</th>\n",
              "      <th>SurveyEase</th>\n",
              "      <th>SurveyLength</th>\n",
              "      <th>Trans</th>\n",
              "      <th>UndergradMajor</th>\n",
              "      <th>WebframeDesireNextYear</th>\n",
              "      <th>WebframeWorkedWith</th>\n",
              "      <th>WelcomeChange</th>\n",
              "      <th>WorkWeekHrs</th>\n",
              "      <th>YearsCode</th>\n",
              "      <th>YearsCodePro</th>\n",
              "    </tr>\n",
              "  </thead>\n",
              "  <tbody>\n",
              "    <tr>\n",
              "      <th>0</th>\n",
              "      <td>1</td>\n",
              "      <td>0</td>\n",
              "      <td>1</td>\n",
              "      <td>30.834111</td>\n",
              "      <td>13</td>\n",
              "      <td>0</td>\n",
              "      <td>3.190464e+242</td>\n",
              "      <td>103756.05015</td>\n",
              "      <td>Germany</td>\n",
              "      <td>European Euro</td>\n",
              "      <td>EUR</td>\n",
              "      <td>Microsoft SQL Server</td>\n",
              "      <td>Elasticsearch;Microsoft SQL Server;Oracle</td>\n",
              "      <td>Developer, desktop or enterprise applications;...</td>\n",
              "      <td>3</td>\n",
              "      <td>Independent contractor, freelancer, or self-em...</td>\n",
              "      <td>White or of European descent</td>\n",
              "      <td>Man</td>\n",
              "      <td>Languages, frameworks, and other technologies ...</td>\n",
              "      <td>2</td>\n",
              "      <td>1</td>\n",
              "      <td>C#;HTML/CSS;JavaScript</td>\n",
              "      <td>C#;HTML/CSS;JavaScript</td>\n",
              "      <td>.NET Core;Xamarin</td>\n",
              "      <td>.NET;.NET Core</td>\n",
              "      <td>Microsoft Teams;Microsoft Azure;Trello</td>\n",
              "      <td>Confluence;Jira;Slack;Microsoft Azure;Trello</td>\n",
              "      <td>0</td>\n",
              "      <td>4</td>\n",
              "      <td>1</td>\n",
              "      <td>Curious about other opportunities;Wanting to w...</td>\n",
              "      <td>Read company media, such as employee blogs or ...</td>\n",
              "      <td>2</td>\n",
              "      <td>Not sure</td>\n",
              "      <td>Yes</td>\n",
              "      <td>No</td>\n",
              "      <td>Often: 1-2 days per week or more</td>\n",
              "      <td>Start a free trial;Ask developers I know/work ...</td>\n",
              "      <td>Amused</td>\n",
              "      <td>Stack Overflow (public Q&amp;A for anyone who codes)</td>\n",
              "      <td>Visit Stack Overflow;Go for a walk or other ph...</td>\n",
              "      <td>Windows</td>\n",
              "      <td>2 to 9 employees</td>\n",
              "      <td>Android;iOS;Kubernetes;Microsoft Azure;Windows</td>\n",
              "      <td>Windows</td>\n",
              "      <td>I have little or no influence</td>\n",
              "      <td>Straight / Heterosexual</td>\n",
              "      <td>No</td>\n",
              "      <td>No, not at all</td>\n",
              "      <td>Less than once per month or monthly</td>\n",
              "      <td>Multiple times per day</td>\n",
              "      <td>Neither easy nor difficult</td>\n",
              "      <td>Appropriate in length</td>\n",
              "      <td>No</td>\n",
              "      <td>Computer science, computer engineering, or sof...</td>\n",
              "      <td>ASP.NET Core</td>\n",
              "      <td>ASP.NET;ASP.NET Core</td>\n",
              "      <td>Just as welcome now as I felt last year</td>\n",
              "      <td>50.0</td>\n",
              "      <td>36</td>\n",
              "      <td>27</td>\n",
              "    </tr>\n",
              "    <tr>\n",
              "      <th>1</th>\n",
              "      <td>2</td>\n",
              "      <td>0</td>\n",
              "      <td>0</td>\n",
              "      <td>30.834111</td>\n",
              "      <td>19</td>\n",
              "      <td>0</td>\n",
              "      <td>3.190464e+242</td>\n",
              "      <td>103756.05015</td>\n",
              "      <td>United Kingdom</td>\n",
              "      <td>Pound sterling</td>\n",
              "      <td>GBP</td>\n",
              "      <td>MySQL;PostgreSQL</td>\n",
              "      <td>MySQL;PostgreSQL;Redis;SQLite</td>\n",
              "      <td>Developer, full-stack;Developer, mobile</td>\n",
              "      <td>1</td>\n",
              "      <td>Employed full-time</td>\n",
              "      <td>White or of European descent</td>\n",
              "      <td>Man</td>\n",
              "      <td>Languages, frameworks, and other technologies ...</td>\n",
              "      <td>3</td>\n",
              "      <td>1</td>\n",
              "      <td>Python;Swift</td>\n",
              "      <td>JavaScript;Swift</td>\n",
              "      <td>React Native;TensorFlow;Unity 3D</td>\n",
              "      <td>React Native</td>\n",
              "      <td>Github;Slack</td>\n",
              "      <td>Confluence;Jira;Github;Gitlab;Slack</td>\n",
              "      <td>0</td>\n",
              "      <td>4</td>\n",
              "      <td>1</td>\n",
              "      <td>Curious about other opportunities;Wanting to w...</td>\n",
              "      <td>Read company media, such as employee blogs or ...</td>\n",
              "      <td>2</td>\n",
              "      <td>Not sure</td>\n",
              "      <td>Yes</td>\n",
              "      <td>No</td>\n",
              "      <td>Often: 1-2 days per week or more</td>\n",
              "      <td>Start a free trial;Ask developers I know/work ...</td>\n",
              "      <td>Amused</td>\n",
              "      <td>Stack Overflow (public Q&amp;A for anyone who code...</td>\n",
              "      <td>Visit Stack Overflow;Go for a walk or other ph...</td>\n",
              "      <td>MacOS</td>\n",
              "      <td>1,000 to 4,999 employees</td>\n",
              "      <td>iOS;Kubernetes;Linux;MacOS</td>\n",
              "      <td>iOS</td>\n",
              "      <td>I have little or no influence</td>\n",
              "      <td>Straight / Heterosexual</td>\n",
              "      <td>Yes</td>\n",
              "      <td>Yes, definitely</td>\n",
              "      <td>Less than once per month or monthly</td>\n",
              "      <td>Multiple times per day</td>\n",
              "      <td>Neither easy nor difficult</td>\n",
              "      <td>Appropriate in length</td>\n",
              "      <td>No</td>\n",
              "      <td>Computer science, computer engineering, or sof...</td>\n",
              "      <td>ASP.NET Core</td>\n",
              "      <td>NaN</td>\n",
              "      <td>Somewhat more welcome now than last year</td>\n",
              "      <td>50.0</td>\n",
              "      <td>7</td>\n",
              "      <td>4</td>\n",
              "    </tr>\n",
              "    <tr>\n",
              "      <th>2</th>\n",
              "      <td>3</td>\n",
              "      <td>3</td>\n",
              "      <td>1</td>\n",
              "      <td>30.834111</td>\n",
              "      <td>15</td>\n",
              "      <td>0</td>\n",
              "      <td>3.190464e+242</td>\n",
              "      <td>103756.05015</td>\n",
              "      <td>Russian Federation</td>\n",
              "      <td>Pound sterling</td>\n",
              "      <td>GBP</td>\n",
              "      <td>MySQL;PostgreSQL</td>\n",
              "      <td>MySQL;PostgreSQL;Redis;SQLite</td>\n",
              "      <td>Developer, full-stack;Developer, mobile</td>\n",
              "      <td>1</td>\n",
              "      <td>Employed full-time</td>\n",
              "      <td>White or of European descent</td>\n",
              "      <td>Man</td>\n",
              "      <td>Languages, frameworks, and other technologies ...</td>\n",
              "      <td>3</td>\n",
              "      <td>1</td>\n",
              "      <td>Objective-C;Python;Swift</td>\n",
              "      <td>Objective-C;Python;Swift</td>\n",
              "      <td>React Native;TensorFlow;Unity 3D</td>\n",
              "      <td>React Native</td>\n",
              "      <td>Github;Slack</td>\n",
              "      <td>Confluence;Jira;Github;Gitlab;Slack</td>\n",
              "      <td>0</td>\n",
              "      <td>4</td>\n",
              "      <td>1</td>\n",
              "      <td>Curious about other opportunities;Wanting to w...</td>\n",
              "      <td>Read company media, such as employee blogs or ...</td>\n",
              "      <td>1</td>\n",
              "      <td>Not sure</td>\n",
              "      <td>Yes</td>\n",
              "      <td>No</td>\n",
              "      <td>Often: 1-2 days per week or more</td>\n",
              "      <td>Start a free trial;Ask developers I know/work ...</td>\n",
              "      <td>Amused</td>\n",
              "      <td>Stack Overflow (public Q&amp;A for anyone who codes)</td>\n",
              "      <td>Visit Stack Overflow;Go for a walk or other ph...</td>\n",
              "      <td>Linux-based</td>\n",
              "      <td>1,000 to 4,999 employees</td>\n",
              "      <td>iOS;Kubernetes;Linux;MacOS</td>\n",
              "      <td>iOS</td>\n",
              "      <td>I have little or no influence</td>\n",
              "      <td>Straight / Heterosexual</td>\n",
              "      <td>Yes</td>\n",
              "      <td>Yes, somewhat</td>\n",
              "      <td>A few times per month or weekly</td>\n",
              "      <td>Daily or almost daily</td>\n",
              "      <td>Neither easy nor difficult</td>\n",
              "      <td>Appropriate in length</td>\n",
              "      <td>No</td>\n",
              "      <td>Computer science, computer engineering, or sof...</td>\n",
              "      <td>ASP.NET Core</td>\n",
              "      <td>NaN</td>\n",
              "      <td>Somewhat more welcome now than last year</td>\n",
              "      <td>50.0</td>\n",
              "      <td>4</td>\n",
              "      <td>4</td>\n",
              "    </tr>\n",
              "    <tr>\n",
              "      <th>3</th>\n",
              "      <td>4</td>\n",
              "      <td>0</td>\n",
              "      <td>1</td>\n",
              "      <td>25.000000</td>\n",
              "      <td>18</td>\n",
              "      <td>0</td>\n",
              "      <td>3.190464e+242</td>\n",
              "      <td>103756.05015</td>\n",
              "      <td>Albania</td>\n",
              "      <td>Albanian lek</td>\n",
              "      <td>ALL</td>\n",
              "      <td>MySQL;PostgreSQL</td>\n",
              "      <td>MySQL;PostgreSQL;Redis;SQLite</td>\n",
              "      <td>Developer, full-stack;Developer, mobile</td>\n",
              "      <td>3</td>\n",
              "      <td>Employed full-time</td>\n",
              "      <td>White or of European descent</td>\n",
              "      <td>Man</td>\n",
              "      <td>Flex time or a flexible schedule;Office enviro...</td>\n",
              "      <td>1</td>\n",
              "      <td>2</td>\n",
              "      <td>Objective-C;Python;Swift</td>\n",
              "      <td>Objective-C;Python;Swift</td>\n",
              "      <td>React Native;TensorFlow;Unity 3D</td>\n",
              "      <td>React Native</td>\n",
              "      <td>Github;Slack</td>\n",
              "      <td>Confluence;Jira;Github;Gitlab;Slack</td>\n",
              "      <td>0</td>\n",
              "      <td>4</td>\n",
              "      <td>2</td>\n",
              "      <td>Curious about other opportunities;Wanting to w...</td>\n",
              "      <td>Read company media, such as employee blogs or ...</td>\n",
              "      <td>2</td>\n",
              "      <td>Not sure</td>\n",
              "      <td>Yes</td>\n",
              "      <td>Yes</td>\n",
              "      <td>Occasionally: 1-2 days per quarter but less th...</td>\n",
              "      <td>Start a free trial;Ask developers I know/work ...</td>\n",
              "      <td>Amused</td>\n",
              "      <td>Stack Overflow (public Q&amp;A for anyone who code...</td>\n",
              "      <td>Visit Stack Overflow;Go for a walk or other ph...</td>\n",
              "      <td>Linux-based</td>\n",
              "      <td>20 to 99 employees</td>\n",
              "      <td>iOS;Kubernetes;Linux;MacOS</td>\n",
              "      <td>iOS</td>\n",
              "      <td>I have a great deal of influence</td>\n",
              "      <td>Straight / Heterosexual</td>\n",
              "      <td>Yes</td>\n",
              "      <td>Yes, definitely</td>\n",
              "      <td>A few times per month or weekly</td>\n",
              "      <td>Multiple times per day</td>\n",
              "      <td>Neither easy nor difficult</td>\n",
              "      <td>Appropriate in length</td>\n",
              "      <td>No</td>\n",
              "      <td>Computer science, computer engineering, or sof...</td>\n",
              "      <td>ASP.NET Core</td>\n",
              "      <td>NaN</td>\n",
              "      <td>Somewhat less welcome now than last year</td>\n",
              "      <td>40.0</td>\n",
              "      <td>7</td>\n",
              "      <td>4</td>\n",
              "    </tr>\n",
              "    <tr>\n",
              "      <th>4</th>\n",
              "      <td>5</td>\n",
              "      <td>4</td>\n",
              "      <td>1</td>\n",
              "      <td>31.000000</td>\n",
              "      <td>16</td>\n",
              "      <td>0</td>\n",
              "      <td>3.190464e+242</td>\n",
              "      <td>103756.05015</td>\n",
              "      <td>United States</td>\n",
              "      <td>Albanian lek</td>\n",
              "      <td>ALL</td>\n",
              "      <td>MySQL;PostgreSQL</td>\n",
              "      <td>MySQL;PostgreSQL;Redis;SQLite</td>\n",
              "      <td>Developer, full-stack;Developer, mobile</td>\n",
              "      <td>1</td>\n",
              "      <td>Employed full-time</td>\n",
              "      <td>White or of European descent</td>\n",
              "      <td>Man</td>\n",
              "      <td>Flex time or a flexible schedule;Office enviro...</td>\n",
              "      <td>1</td>\n",
              "      <td>2</td>\n",
              "      <td>Java;Ruby;Scala</td>\n",
              "      <td>HTML/CSS;Ruby;SQL</td>\n",
              "      <td>Ansible;Chef</td>\n",
              "      <td>Ansible</td>\n",
              "      <td>Github;Google Suite (Docs, Meet, etc)</td>\n",
              "      <td>Confluence;Jira;Github;Slack;Google Suite (Doc...</td>\n",
              "      <td>0</td>\n",
              "      <td>4</td>\n",
              "      <td>4</td>\n",
              "      <td>Curious about other opportunities;Wanting to w...</td>\n",
              "      <td>Read company media, such as employee blogs or ...</td>\n",
              "      <td>2</td>\n",
              "      <td>No</td>\n",
              "      <td>Yes</td>\n",
              "      <td>Yes</td>\n",
              "      <td>Occasionally: 1-2 days per quarter but less th...</td>\n",
              "      <td>Start a free trial;Ask developers I know/work ...</td>\n",
              "      <td>Hello, old friend</td>\n",
              "      <td>Stack Overflow (public Q&amp;A for anyone who code...</td>\n",
              "      <td>Call a coworker or friend;Visit Stack Overflow...</td>\n",
              "      <td>Windows</td>\n",
              "      <td>20 to 99 employees</td>\n",
              "      <td>Docker;Google Cloud Platform;Heroku;Linux;Windows</td>\n",
              "      <td>AWS;Docker;Linux;MacOS;Windows</td>\n",
              "      <td>I have a great deal of influence</td>\n",
              "      <td>Straight / Heterosexual</td>\n",
              "      <td>Yes</td>\n",
              "      <td>Yes, somewhat</td>\n",
              "      <td>Less than once per month or monthly</td>\n",
              "      <td>A few times per month or weekly</td>\n",
              "      <td>Easy</td>\n",
              "      <td>Too short</td>\n",
              "      <td>No</td>\n",
              "      <td>Computer science, computer engineering, or sof...</td>\n",
              "      <td>Django;Ruby on Rails</td>\n",
              "      <td>Ruby on Rails</td>\n",
              "      <td>Just as welcome now as I felt last year</td>\n",
              "      <td>40.0</td>\n",
              "      <td>15</td>\n",
              "      <td>8</td>\n",
              "    </tr>\n",
              "    <tr>\n",
              "      <th>...</th>\n",
              "      <td>...</td>\n",
              "      <td>...</td>\n",
              "      <td>...</td>\n",
              "      <td>...</td>\n",
              "      <td>...</td>\n",
              "      <td>...</td>\n",
              "      <td>...</td>\n",
              "      <td>...</td>\n",
              "      <td>...</td>\n",
              "      <td>...</td>\n",
              "      <td>...</td>\n",
              "      <td>...</td>\n",
              "      <td>...</td>\n",
              "      <td>...</td>\n",
              "      <td>...</td>\n",
              "      <td>...</td>\n",
              "      <td>...</td>\n",
              "      <td>...</td>\n",
              "      <td>...</td>\n",
              "      <td>...</td>\n",
              "      <td>...</td>\n",
              "      <td>...</td>\n",
              "      <td>...</td>\n",
              "      <td>...</td>\n",
              "      <td>...</td>\n",
              "      <td>...</td>\n",
              "      <td>...</td>\n",
              "      <td>...</td>\n",
              "      <td>...</td>\n",
              "      <td>...</td>\n",
              "      <td>...</td>\n",
              "      <td>...</td>\n",
              "      <td>...</td>\n",
              "      <td>...</td>\n",
              "      <td>...</td>\n",
              "      <td>...</td>\n",
              "      <td>...</td>\n",
              "      <td>...</td>\n",
              "      <td>...</td>\n",
              "      <td>...</td>\n",
              "      <td>...</td>\n",
              "      <td>...</td>\n",
              "      <td>...</td>\n",
              "      <td>...</td>\n",
              "      <td>...</td>\n",
              "      <td>...</td>\n",
              "      <td>...</td>\n",
              "      <td>...</td>\n",
              "      <td>...</td>\n",
              "      <td>...</td>\n",
              "      <td>...</td>\n",
              "      <td>...</td>\n",
              "      <td>...</td>\n",
              "      <td>...</td>\n",
              "      <td>...</td>\n",
              "      <td>...</td>\n",
              "      <td>...</td>\n",
              "      <td>...</td>\n",
              "      <td>...</td>\n",
              "      <td>...</td>\n",
              "      <td>...</td>\n",
              "    </tr>\n",
              "    <tr>\n",
              "      <th>64456</th>\n",
              "      <td>64858</td>\n",
              "      <td>1</td>\n",
              "      <td>1</td>\n",
              "      <td>30.834111</td>\n",
              "      <td>16</td>\n",
              "      <td>2</td>\n",
              "      <td>3.190464e+242</td>\n",
              "      <td>103756.05015</td>\n",
              "      <td>United States</td>\n",
              "      <td>Japanese yen</td>\n",
              "      <td>JPY</td>\n",
              "      <td>Cassandra;Couchbase;DynamoDB;Elasticsearch;Fir...</td>\n",
              "      <td>Cassandra;Couchbase;DynamoDB;Elasticsearch;Fir...</td>\n",
              "      <td>Senior executive/VP</td>\n",
              "      <td>3</td>\n",
              "      <td>Employed full-time</td>\n",
              "      <td>White or of European descent</td>\n",
              "      <td>Man</td>\n",
              "      <td>Languages, frameworks, and other technologies ...</td>\n",
              "      <td>0</td>\n",
              "      <td>2</td>\n",
              "      <td>Java</td>\n",
              "      <td>C++;HTML/CSS</td>\n",
              "      <td>Ansible</td>\n",
              "      <td>.NET</td>\n",
              "      <td>Jira;Github;Slack;Microsoft Teams;Microsoft Az...</td>\n",
              "      <td>Github</td>\n",
              "      <td>0</td>\n",
              "      <td>1</td>\n",
              "      <td>4</td>\n",
              "      <td>Curious about other opportunities;Better compe...</td>\n",
              "      <td>Company reviews from third party sites (e.g. G...</td>\n",
              "      <td>1</td>\n",
              "      <td>Not sure</td>\n",
              "      <td>Yes</td>\n",
              "      <td>Yes</td>\n",
              "      <td>Rarely: 1-2 days per year or less</td>\n",
              "      <td>Start a free trial</td>\n",
              "      <td>Amused</td>\n",
              "      <td>Stack Overflow (public Q&amp;A for anyone who codes)</td>\n",
              "      <td>Call a coworker or friend</td>\n",
              "      <td>Windows</td>\n",
              "      <td>20 to 99 employees</td>\n",
              "      <td>Android</td>\n",
              "      <td>iOS</td>\n",
              "      <td>I have little or no influence</td>\n",
              "      <td>Straight / Heterosexual</td>\n",
              "      <td>Not sure/can't remember</td>\n",
              "      <td>No, not really</td>\n",
              "      <td>Less than once per month or monthly</td>\n",
              "      <td>Less than once per month or monthly</td>\n",
              "      <td>Easy</td>\n",
              "      <td>Appropriate in length</td>\n",
              "      <td>No</td>\n",
              "      <td>Computer science, computer engineering, or sof...</td>\n",
              "      <td>Angular;Angular.js;Express;jQuery;React.js;Vue.js</td>\n",
              "      <td>NaN</td>\n",
              "      <td>Just as welcome now as I felt last year</td>\n",
              "      <td>40.0</td>\n",
              "      <td>10</td>\n",
              "      <td>Less than 1 year</td>\n",
              "    </tr>\n",
              "    <tr>\n",
              "      <th>64457</th>\n",
              "      <td>64867</td>\n",
              "      <td>1</td>\n",
              "      <td>1</td>\n",
              "      <td>30.834111</td>\n",
              "      <td>13</td>\n",
              "      <td>2</td>\n",
              "      <td>3.190464e+242</td>\n",
              "      <td>103756.05015</td>\n",
              "      <td>Morocco</td>\n",
              "      <td>Japanese yen</td>\n",
              "      <td>JPY</td>\n",
              "      <td>Cassandra;Couchbase;DynamoDB;Elasticsearch;Fir...</td>\n",
              "      <td>Cassandra;Couchbase;DynamoDB;Elasticsearch;Fir...</td>\n",
              "      <td>Senior executive/VP</td>\n",
              "      <td>3</td>\n",
              "      <td>Employed full-time</td>\n",
              "      <td>White or of European descent</td>\n",
              "      <td>Man</td>\n",
              "      <td>Languages, frameworks, and other technologies ...</td>\n",
              "      <td>0</td>\n",
              "      <td>2</td>\n",
              "      <td>Assembly;Bash/Shell/PowerShell;C;C#;C++;Dart;G...</td>\n",
              "      <td>Assembly;Bash/Shell/PowerShell;C;C#;C++;Dart;G...</td>\n",
              "      <td>Ansible</td>\n",
              "      <td>.NET</td>\n",
              "      <td>Jira;Github;Slack;Microsoft Teams;Microsoft Az...</td>\n",
              "      <td>Github</td>\n",
              "      <td>0</td>\n",
              "      <td>1</td>\n",
              "      <td>4</td>\n",
              "      <td>Curious about other opportunities;Better compe...</td>\n",
              "      <td>Company reviews from third party sites (e.g. G...</td>\n",
              "      <td>2</td>\n",
              "      <td>Not sure</td>\n",
              "      <td>Yes</td>\n",
              "      <td>Yes</td>\n",
              "      <td>Rarely: 1-2 days per year or less</td>\n",
              "      <td>Start a free trial</td>\n",
              "      <td>Amused</td>\n",
              "      <td>Stack Overflow (public Q&amp;A for anyone who codes)</td>\n",
              "      <td>Call a coworker or friend</td>\n",
              "      <td>Windows</td>\n",
              "      <td>20 to 99 employees</td>\n",
              "      <td>Android</td>\n",
              "      <td>iOS</td>\n",
              "      <td>I have little or no influence</td>\n",
              "      <td>Straight / Heterosexual</td>\n",
              "      <td>Not sure/can't remember</td>\n",
              "      <td>No, not really</td>\n",
              "      <td>Less than once per month or monthly</td>\n",
              "      <td>Less than once per month or monthly</td>\n",
              "      <td>Easy</td>\n",
              "      <td>Appropriate in length</td>\n",
              "      <td>No</td>\n",
              "      <td>Computer science, computer engineering, or sof...</td>\n",
              "      <td>Angular;Angular.js;Express;jQuery;React.js;Vue.js</td>\n",
              "      <td>NaN</td>\n",
              "      <td>Just as welcome now as I felt last year</td>\n",
              "      <td>40.0</td>\n",
              "      <td>10</td>\n",
              "      <td>Less than 1 year</td>\n",
              "    </tr>\n",
              "    <tr>\n",
              "      <th>64458</th>\n",
              "      <td>64898</td>\n",
              "      <td>1</td>\n",
              "      <td>1</td>\n",
              "      <td>30.834111</td>\n",
              "      <td>13</td>\n",
              "      <td>2</td>\n",
              "      <td>3.190464e+242</td>\n",
              "      <td>103756.05015</td>\n",
              "      <td>Viet Nam</td>\n",
              "      <td>Japanese yen</td>\n",
              "      <td>JPY</td>\n",
              "      <td>DynamoDB;Elasticsearch;MongoDB;MySQL;PostgreSQL</td>\n",
              "      <td>Oracle</td>\n",
              "      <td>Senior executive/VP</td>\n",
              "      <td>5</td>\n",
              "      <td>Employed full-time</td>\n",
              "      <td>White or of European descent</td>\n",
              "      <td>Man</td>\n",
              "      <td>Languages, frameworks, and other technologies ...</td>\n",
              "      <td>0</td>\n",
              "      <td>2</td>\n",
              "      <td>Assembly;Bash/Shell/PowerShell;C;C#;C++;Dart;G...</td>\n",
              "      <td>Assembly;Bash/Shell/PowerShell;C;C#;C++;Dart;G...</td>\n",
              "      <td>Ansible</td>\n",
              "      <td>.NET</td>\n",
              "      <td>Jira;Github;Slack;Microsoft Teams;Microsoft Az...</td>\n",
              "      <td>Github</td>\n",
              "      <td>0</td>\n",
              "      <td>1</td>\n",
              "      <td>4</td>\n",
              "      <td>Curious about other opportunities;Better compe...</td>\n",
              "      <td>Company reviews from third party sites (e.g. G...</td>\n",
              "      <td>2</td>\n",
              "      <td>Not sure</td>\n",
              "      <td>Yes</td>\n",
              "      <td>Yes</td>\n",
              "      <td>Rarely: 1-2 days per year or less</td>\n",
              "      <td>Start a free trial</td>\n",
              "      <td>Amused</td>\n",
              "      <td>Stack Overflow (public Q&amp;A for anyone who codes)</td>\n",
              "      <td>Call a coworker or friend</td>\n",
              "      <td>Windows</td>\n",
              "      <td>20 to 99 employees</td>\n",
              "      <td>Android</td>\n",
              "      <td>iOS</td>\n",
              "      <td>I have little or no influence</td>\n",
              "      <td>Straight / Heterosexual</td>\n",
              "      <td>Not sure/can't remember</td>\n",
              "      <td>No, not really</td>\n",
              "      <td>Less than once per month or monthly</td>\n",
              "      <td>Less than once per month or monthly</td>\n",
              "      <td>Easy</td>\n",
              "      <td>Appropriate in length</td>\n",
              "      <td>No</td>\n",
              "      <td>Computer science, computer engineering, or sof...</td>\n",
              "      <td>Angular;Angular.js;Express;jQuery;React.js;Vue.js</td>\n",
              "      <td>NaN</td>\n",
              "      <td>Just as welcome now as I felt last year</td>\n",
              "      <td>40.0</td>\n",
              "      <td>10</td>\n",
              "      <td>Less than 1 year</td>\n",
              "    </tr>\n",
              "    <tr>\n",
              "      <th>64459</th>\n",
              "      <td>64925</td>\n",
              "      <td>1</td>\n",
              "      <td>1</td>\n",
              "      <td>30.834111</td>\n",
              "      <td>13</td>\n",
              "      <td>2</td>\n",
              "      <td>3.190464e+242</td>\n",
              "      <td>103756.05015</td>\n",
              "      <td>Poland</td>\n",
              "      <td>Japanese yen</td>\n",
              "      <td>JPY</td>\n",
              "      <td>DynamoDB;Elasticsearch;MongoDB;MySQL;PostgreSQL</td>\n",
              "      <td>Oracle</td>\n",
              "      <td>Senior executive/VP</td>\n",
              "      <td>5</td>\n",
              "      <td>Employed full-time</td>\n",
              "      <td>White or of European descent</td>\n",
              "      <td>Man</td>\n",
              "      <td>Languages, frameworks, and other technologies ...</td>\n",
              "      <td>0</td>\n",
              "      <td>2</td>\n",
              "      <td>HTML/CSS;Java;JavaScript</td>\n",
              "      <td>HTML/CSS</td>\n",
              "      <td>Node.js</td>\n",
              "      <td>.NET</td>\n",
              "      <td>Github;Gitlab</td>\n",
              "      <td>Confluence;Jira;Slack;Microsoft Teams</td>\n",
              "      <td>0</td>\n",
              "      <td>1</td>\n",
              "      <td>4</td>\n",
              "      <td>Curious about other opportunities;Better compe...</td>\n",
              "      <td>Company reviews from third party sites (e.g. G...</td>\n",
              "      <td>2</td>\n",
              "      <td>Not sure</td>\n",
              "      <td>Yes</td>\n",
              "      <td>Yes</td>\n",
              "      <td>Rarely: 1-2 days per year or less</td>\n",
              "      <td>Start a free trial</td>\n",
              "      <td>Hello, old friend</td>\n",
              "      <td>Stack Overflow (public Q&amp;A for anyone who codes)</td>\n",
              "      <td>Call a coworker or friend;Visit Stack Overflow</td>\n",
              "      <td>Windows</td>\n",
              "      <td>20 to 99 employees</td>\n",
              "      <td>Android</td>\n",
              "      <td>Linux;Windows</td>\n",
              "      <td>I have little or no influence</td>\n",
              "      <td>Straight / Heterosexual</td>\n",
              "      <td>Not sure/can't remember</td>\n",
              "      <td>No, not really</td>\n",
              "      <td>Less than once per month or monthly</td>\n",
              "      <td>Less than once per month or monthly</td>\n",
              "      <td>Easy</td>\n",
              "      <td>Appropriate in length</td>\n",
              "      <td>No</td>\n",
              "      <td>Computer science, computer engineering, or sof...</td>\n",
              "      <td>Angular;Angular.js;React.js</td>\n",
              "      <td>NaN</td>\n",
              "      <td>Just as welcome now as I felt last year</td>\n",
              "      <td>40.0</td>\n",
              "      <td>10</td>\n",
              "      <td>Less than 1 year</td>\n",
              "    </tr>\n",
              "    <tr>\n",
              "      <th>64460</th>\n",
              "      <td>65112</td>\n",
              "      <td>1</td>\n",
              "      <td>1</td>\n",
              "      <td>30.834111</td>\n",
              "      <td>13</td>\n",
              "      <td>2</td>\n",
              "      <td>3.190464e+242</td>\n",
              "      <td>103756.05015</td>\n",
              "      <td>Spain</td>\n",
              "      <td>Japanese yen</td>\n",
              "      <td>JPY</td>\n",
              "      <td>MariaDB;Microsoft SQL Server</td>\n",
              "      <td>MariaDB;Microsoft SQL Server;MySQL;Oracle</td>\n",
              "      <td>Senior executive/VP</td>\n",
              "      <td>4</td>\n",
              "      <td>Employed full-time</td>\n",
              "      <td>White or of European descent</td>\n",
              "      <td>Man</td>\n",
              "      <td>Languages, frameworks, and other technologies ...</td>\n",
              "      <td>0</td>\n",
              "      <td>2</td>\n",
              "      <td>C#;HTML/CSS;Java;JavaScript;SQL</td>\n",
              "      <td>C#;HTML/CSS;Java;JavaScript;SQL</td>\n",
              "      <td>.NET Core;Xamarin</td>\n",
              "      <td>.NET;.NET Core</td>\n",
              "      <td>Github;Microsoft Teams</td>\n",
              "      <td>Github</td>\n",
              "      <td>0</td>\n",
              "      <td>1</td>\n",
              "      <td>0</td>\n",
              "      <td>Curious about other opportunities;Better compe...</td>\n",
              "      <td>Company reviews from third party sites (e.g. G...</td>\n",
              "      <td>2</td>\n",
              "      <td>Not sure</td>\n",
              "      <td>Yes</td>\n",
              "      <td>Yes</td>\n",
              "      <td>Rarely: 1-2 days per year or less</td>\n",
              "      <td>Start a free trial;Ask developers I know/work ...</td>\n",
              "      <td>Indifferent</td>\n",
              "      <td>Stack Overflow (public Q&amp;A for anyone who codes)</td>\n",
              "      <td>Meditate;Visit Stack Overflow;Go for a walk or...</td>\n",
              "      <td>Windows</td>\n",
              "      <td>20 to 99 employees</td>\n",
              "      <td>Arduino;Linux;Raspberry Pi;Windows</td>\n",
              "      <td>Android;Arduino;Linux;Raspberry Pi;Windows</td>\n",
              "      <td>I have little or no influence</td>\n",
              "      <td>Straight / Heterosexual</td>\n",
              "      <td>Not sure/can't remember</td>\n",
              "      <td>No, not really</td>\n",
              "      <td>Less than once per month or monthly</td>\n",
              "      <td>Less than once per month or monthly</td>\n",
              "      <td>Easy</td>\n",
              "      <td>Appropriate in length</td>\n",
              "      <td>No</td>\n",
              "      <td>Computer science, computer engineering, or sof...</td>\n",
              "      <td>ASP.NET Core;jQuery</td>\n",
              "      <td>Angular;Angular.js;ASP.NET Core;jQuery</td>\n",
              "      <td>Just as welcome now as I felt last year</td>\n",
              "      <td>40.0</td>\n",
              "      <td>10</td>\n",
              "      <td>Less than 1 year</td>\n",
              "    </tr>\n",
              "  </tbody>\n",
              "</table>\n",
              "<p>64461 rows × 61 columns</p>\n",
              "</div>"
            ],
            "text/plain": [
              "       Respondent  MainBranch  ...  YearsCode      YearsCodePro\n",
              "0               1           0  ...         36                27\n",
              "1               2           0  ...          7                 4\n",
              "2               3           3  ...          4                 4\n",
              "3               4           0  ...          7                 4\n",
              "4               5           4  ...         15                 8\n",
              "...           ...         ...  ...        ...               ...\n",
              "64456       64858           1  ...         10  Less than 1 year\n",
              "64457       64867           1  ...         10  Less than 1 year\n",
              "64458       64898           1  ...         10  Less than 1 year\n",
              "64459       64925           1  ...         10  Less than 1 year\n",
              "64460       65112           1  ...         10  Less than 1 year\n",
              "\n",
              "[64461 rows x 61 columns]"
            ]
          },
          "metadata": {
            "tags": []
          },
          "execution_count": 201
        }
      ]
    },
    {
      "cell_type": "code",
      "metadata": {
        "id": "8iEYcwCwEouw"
      },
      "source": [],
      "execution_count": null,
      "outputs": []
    },
    {
      "cell_type": "markdown",
      "metadata": {
        "id": "pVsiXsFQ0czS"
      },
      "source": []
    },
    {
      "cell_type": "markdown",
      "metadata": {
        "id": "PhfBfUqiIlJg"
      },
      "source": [
        "***WebframeWorkedWith*** column is a categorical column and it can be either filled by backward fill or forward fill."
      ]
    },
    {
      "cell_type": "code",
      "metadata": {
        "id": "2MSLoTNtFW5d"
      },
      "source": [
        "df['WebframeWorkedWith'].fillna(method='bfill',inplace=True)"
      ],
      "execution_count": null,
      "outputs": []
    },
    {
      "cell_type": "code",
      "metadata": {
        "id": "vdrtyiRSFl1e",
        "outputId": "ed7a2ece-c527-45e4-ab5b-6148c602f045",
        "colab": {
          "base_uri": "https://localhost:8080/"
        }
      },
      "source": [
        "df['WebframeWorkedWith'].isnull().sum()"
      ],
      "execution_count": null,
      "outputs": [
        {
          "output_type": "execute_result",
          "data": {
            "text/plain": [
              "0"
            ]
          },
          "metadata": {
            "tags": []
          },
          "execution_count": 203
        }
      ]
    },
    {
      "cell_type": "code",
      "metadata": {
        "id": "9OKAVPG0N2WJ",
        "outputId": "c5e3bca7-d284-4711-b478-a10f4f14005d",
        "colab": {
          "base_uri": "https://localhost:8080/"
        }
      },
      "source": [
        "df['Country'].value_counts()[0:10].plot(kind='bar',figsize=(12,10))"
      ],
      "execution_count": null,
      "outputs": [
        {
          "output_type": "execute_result",
          "data": {
            "text/plain": [
              "<matplotlib.axes._subplots.AxesSubplot at 0x7f44e119c160>"
            ]
          },
          "metadata": {
            "tags": []
          },
          "execution_count": 204
        },
        {
          "output_type": "display_data",
          "data": {
            "image/png": "[encoded data removed]",
            "text/plain": [
              "<Figure size 864x720 with 1 Axes>"
            ]
          },
          "metadata": {
            "tags": [],
            "needs_background": "light"
          }
        }
      ]
    },
    {
      "cell_type": "code",
      "metadata": {
        "id": "BssjxuWYNdJt",
        "outputId": "0b7a6d3c-0749-4a8e-a78f-3874aa76feee",
        "colab": {
          "base_uri": "https://localhost:8080/"
        }
      },
      "source": [
        "import numpy as np\n",
        "import pandas as pd\n",
        "from plotly import tools\n",
        "import plotly.graph_objs as go\n",
        "\n",
        "import matplotlib.pyplot as plt\n",
        "temp = pd.DataFrame(df.Gender.dropna().str.split(';').tolist()).stack().value_counts(dropna = False).sort_values(ascending = True)\n",
        "labels = temp.index\n",
        "values = temp.values\n",
        "\n",
        "colors = ['gold', 'lightgreen']\n",
        "fig = go.Figure(data=[go.Pie(labels=labels, values=values)])\n",
        "\n",
        "fig.update_traces(hoverinfo='label+value', textinfo='percent', textfont_size=20,\n",
        "                  marker=dict(colors=colors, line=dict(color='#000000', width=2)))\n",
        "fig.update_layout(template = 'plotly_dark')\n",
        "fig.show()"
      ],
      "execution_count": null,
      "outputs": [
        {
          "output_type": "display_data",
          "data": {
            "text/html": [
              "<html>\n",
              "<head><meta charset=\"utf-8\" /></head>\n",
              "<body>\n",
              "    <div>\n",
              "            <script src=\"https://cdnjs.cloudflare.com/ajax/libs/mathjax/2.7.5/MathJax.js?config=TeX-AMS-MML_SVG\"></script><script type=\"text/javascript\">if (window.MathJax) {MathJax.Hub.Config({SVG: {font: \"STIX-Web\"}});}</script>\n",
              "                <script type=\"text/javascript\">window.PlotlyConfig = {MathJaxConfig: 'local'};</script>\n",
              "        <script src=\"https://cdn.plot.ly/plotly-latest.min.js\"></script>    \n",
              "            <div id=\"5cf86fd5-3f01-438d-b13b-e51e2b3d1362\" class=\"plotly-graph-div\" style=\"height:525px; width:100%;\"></div>\n",
              "            <script type=\"text/javascript\">\n",
              "                \n",
              "                    window.PLOTLYENV=window.PLOTLYENV || {};\n",
              "                    \n",
              "                if (document.getElementById(\"5cf86fd5-3f01-438d-b13b-e51e2b3d1362\")) {\n",
              "                    Plotly.newPlot(\n",
              "                        '5cf86fd5-3f01-438d-b13b-e51e2b3d1362',\n",
              "                        [{\"hoverinfo\": \"label+value\", \"labels\": [\"Non-binary, genderqueer, or gender non-conforming\", \"Woman\", \"Man\"], \"marker\": {\"colors\": [\"gold\", \"lightgreen\"], \"line\": {\"color\": \"#000000\", \"width\": 2}}, \"textfont\": {\"size\": 20}, \"textinfo\": \"percent\", \"type\": \"pie\", \"values\": [757, 5690, 58409]}],\n",
              "                        {\"template\": {\"data\": {\"bar\": [{\"error_x\": {\"color\": \"#f2f5fa\"}, \"error_y\": {\"color\": \"#f2f5fa\"}, \"marker\": {\"line\": {\"color\": \"rgb(17,17,17)\", \"width\": 0.5}}, \"type\": \"bar\"}], \"barpolar\": [{\"marker\": {\"line\": {\"color\": \"rgb(17,17,17)\", \"width\": 0.5}}, \"type\": \"barpolar\"}], \"carpet\": [{\"aaxis\": {\"endlinecolor\": \"#A2B1C6\", \"gridcolor\": \"#506784\", \"linecolor\": \"#506784\", \"minorgridcolor\": \"#506784\", \"startlinecolor\": \"#A2B1C6\"}, \"baxis\": {\"endlinecolor\": \"#A2B1C6\", \"gridcolor\": \"#506784\", \"linecolor\": \"#506784\", \"minorgridcolor\": \"#506784\", \"startlinecolor\": \"#A2B1C6\"}, \"type\": \"carpet\"}], \"choropleth\": [{\"colorbar\": {\"outlinewidth\": 0, \"ticks\": \"\"}, \"type\": \"choropleth\"}], \"contour\": [{\"colorbar\": {\"outlinewidth\": 0, \"ticks\": \"\"}, \"colorscale\": [[0.0, \"#0d0887\"], [0.1111111111111111, \"#46039f\"], [0.2222222222222222, \"#7201a8\"], [0.3333333333333333, \"#9c179e\"], [0.4444444444444444, \"#bd3786\"], [0.5555555555555556, \"#d8576b\"], [0.6666666666666666, \"#ed7953\"], [0.7777777777777778, \"#fb9f3a\"], [0.8888888888888888, \"#fdca26\"], [1.0, \"#f0f921\"]], \"type\": \"contour\"}], \"contourcarpet\": [{\"colorbar\": {\"outlinewidth\": 0, \"ticks\": \"\"}, \"type\": \"contourcarpet\"}], \"heatmap\": [{\"colorbar\": {\"outlinewidth\": 0, \"ticks\": \"\"}, \"colorscale\": [[0.0, \"#0d0887\"], [0.1111111111111111, \"#46039f\"], [0.2222222222222222, \"#7201a8\"], [0.3333333333333333, \"#9c179e\"], [0.4444444444444444, \"#bd3786\"], [0.5555555555555556, \"#d8576b\"], [0.6666666666666666, \"#ed7953\"], [0.7777777777777778, \"#fb9f3a\"], [0.8888888888888888, \"#fdca26\"], [1.0, \"#f0f921\"]], \"type\": \"heatmap\"}], \"heatmapgl\": [{\"colorbar\": {\"outlinewidth\": 0, \"ticks\": \"\"}, \"colorscale\": [[0.0, \"#0d0887\"], [0.1111111111111111, \"#46039f\"], [0.2222222222222222, \"#7201a8\"], [0.3333333333333333, \"#9c179e\"], [0.4444444444444444, \"#bd3786\"], [0.5555555555555556, \"#d8576b\"], [0.6666666666666666, \"#ed7953\"], [0.7777777777777778, \"#fb9f3a\"], [0.8888888888888888, \"#fdca26\"], [1.0, \"#f0f921\"]], \"type\": \"heatmapgl\"}], \"histogram\": [{\"marker\": {\"colorbar\": {\"outlinewidth\": 0, \"ticks\": \"\"}}, \"type\": \"histogram\"}], \"histogram2d\": [{\"colorbar\": {\"outlinewidth\": 0, \"ticks\": \"\"}, \"colorscale\": [[0.0, \"#0d0887\"], [0.1111111111111111, \"#46039f\"], [0.2222222222222222, \"#7201a8\"], [0.3333333333333333, \"#9c179e\"], [0.4444444444444444, \"#bd3786\"], [0.5555555555555556, \"#d8576b\"], [0.6666666666666666, \"#ed7953\"], [0.7777777777777778, \"#fb9f3a\"], [0.8888888888888888, \"#fdca26\"], [1.0, \"#f0f921\"]], \"type\": \"histogram2d\"}], \"histogram2dcontour\": [{\"colorbar\": {\"outlinewidth\": 0, \"ticks\": \"\"}, \"colorscale\": [[0.0, \"#0d0887\"], [0.1111111111111111, \"#46039f\"], [0.2222222222222222, \"#7201a8\"], [0.3333333333333333, \"#9c179e\"], [0.4444444444444444, \"#bd3786\"], [0.5555555555555556, \"#d8576b\"], [0.6666666666666666, \"#ed7953\"], [0.7777777777777778, \"#fb9f3a\"], [0.8888888888888888, \"#fdca26\"], [1.0, \"#f0f921\"]], \"type\": \"histogram2dcontour\"}], \"mesh3d\": [{\"colorbar\": {\"outlinewidth\": 0, \"ticks\": \"\"}, \"type\": \"mesh3d\"}], \"parcoords\": [{\"line\": {\"colorbar\": {\"outlinewidth\": 0, \"ticks\": \"\"}}, \"type\": \"parcoords\"}], \"pie\": [{\"automargin\": true, \"type\": \"pie\"}], \"scatter\": [{\"marker\": {\"line\": {\"color\": \"#283442\"}}, \"type\": \"scatter\"}], \"scatter3d\": [{\"line\": {\"colorbar\": {\"outlinewidth\": 0, \"ticks\": \"\"}}, \"marker\": {\"colorbar\": {\"outlinewidth\": 0, \"ticks\": \"\"}}, \"type\": \"scatter3d\"}], \"scattercarpet\": [{\"marker\": {\"colorbar\": {\"outlinewidth\": 0, \"ticks\": \"\"}}, \"type\": \"scattercarpet\"}], \"scattergeo\": [{\"marker\": {\"colorbar\": {\"outlinewidth\": 0, \"ticks\": \"\"}}, \"type\": \"scattergeo\"}], \"scattergl\": [{\"marker\": {\"line\": {\"color\": \"#283442\"}}, \"type\": \"scattergl\"}], \"scattermapbox\": [{\"marker\": {\"colorbar\": {\"outlinewidth\": 0, \"ticks\": \"\"}}, \"type\": \"scattermapbox\"}], \"scatterpolar\": [{\"marker\": {\"colorbar\": {\"outlinewidth\": 0, \"ticks\": \"\"}}, \"type\": \"scatterpolar\"}], \"scatterpolargl\": [{\"marker\": {\"colorbar\": {\"outlinewidth\": 0, \"ticks\": \"\"}}, \"type\": \"scatterpolargl\"}], \"scatterternary\": [{\"marker\": {\"colorbar\": {\"outlinewidth\": 0, \"ticks\": \"\"}}, \"type\": \"scatterternary\"}], \"surface\": [{\"colorbar\": {\"outlinewidth\": 0, \"ticks\": \"\"}, \"colorscale\": [[0.0, \"#0d0887\"], [0.1111111111111111, \"#46039f\"], [0.2222222222222222, \"#7201a8\"], [0.3333333333333333, \"#9c179e\"], [0.4444444444444444, \"#bd3786\"], [0.5555555555555556, \"#d8576b\"], [0.6666666666666666, \"#ed7953\"], [0.7777777777777778, \"#fb9f3a\"], [0.8888888888888888, \"#fdca26\"], [1.0, \"#f0f921\"]], \"type\": \"surface\"}], \"table\": [{\"cells\": {\"fill\": {\"color\": \"#506784\"}, \"line\": {\"color\": \"rgb(17,17,17)\"}}, \"header\": {\"fill\": {\"color\": \"#2a3f5f\"}, \"line\": {\"color\": \"rgb(17,17,17)\"}}, \"type\": \"table\"}]}, \"layout\": {\"annotationdefaults\": {\"arrowcolor\": \"#f2f5fa\", \"arrowhead\": 0, \"arrowwidth\": 1}, \"coloraxis\": {\"colorbar\": {\"outlinewidth\": 0, \"ticks\": \"\"}}, \"colorscale\": {\"diverging\": [[0, \"#8e0152\"], [0.1, \"#c51b7d\"], [0.2, \"#de77ae\"], [0.3, \"#f1b6da\"], [0.4, \"#fde0ef\"], [0.5, \"#f7f7f7\"], [0.6, \"#e6f5d0\"], [0.7, \"#b8e186\"], [0.8, \"#7fbc41\"], [0.9, \"#4d9221\"], [1, \"#276419\"]], \"sequential\": [[0.0, \"#0d0887\"], [0.1111111111111111, \"#46039f\"], [0.2222222222222222, \"#7201a8\"], [0.3333333333333333, \"#9c179e\"], [0.4444444444444444, \"#bd3786\"], [0.5555555555555556, \"#d8576b\"], [0.6666666666666666, \"#ed7953\"], [0.7777777777777778, \"#fb9f3a\"], [0.8888888888888888, \"#fdca26\"], [1.0, \"#f0f921\"]], \"sequentialminus\": [[0.0, \"#0d0887\"], [0.1111111111111111, \"#46039f\"], [0.2222222222222222, \"#7201a8\"], [0.3333333333333333, \"#9c179e\"], [0.4444444444444444, \"#bd3786\"], [0.5555555555555556, \"#d8576b\"], [0.6666666666666666, \"#ed7953\"], [0.7777777777777778, \"#fb9f3a\"], [0.8888888888888888, \"#fdca26\"], [1.0, \"#f0f921\"]]}, \"colorway\": [\"#636efa\", \"#EF553B\", \"#00cc96\", \"#ab63fa\", \"#FFA15A\", \"#19d3f3\", \"#FF6692\", \"#B6E880\", \"#FF97FF\", \"#FECB52\"], \"font\": {\"color\": \"#f2f5fa\"}, \"geo\": {\"bgcolor\": \"rgb(17,17,17)\", \"lakecolor\": \"rgb(17,17,17)\", \"landcolor\": \"rgb(17,17,17)\", \"showlakes\": true, \"showland\": true, \"subunitcolor\": \"#506784\"}, \"hoverlabel\": {\"align\": \"left\"}, \"hovermode\": \"closest\", \"mapbox\": {\"style\": \"dark\"}, \"paper_bgcolor\": \"rgb(17,17,17)\", \"plot_bgcolor\": \"rgb(17,17,17)\", \"polar\": {\"angularaxis\": {\"gridcolor\": \"#506784\", \"linecolor\": \"#506784\", \"ticks\": \"\"}, \"bgcolor\": \"rgb(17,17,17)\", \"radialaxis\": {\"gridcolor\": \"#506784\", \"linecolor\": \"#506784\", \"ticks\": \"\"}}, \"scene\": {\"xaxis\": {\"backgroundcolor\": \"rgb(17,17,17)\", \"gridcolor\": \"#506784\", \"gridwidth\": 2, \"linecolor\": \"#506784\", \"showbackground\": true, \"ticks\": \"\", \"zerolinecolor\": \"#C8D4E3\"}, \"yaxis\": {\"backgroundcolor\": \"rgb(17,17,17)\", \"gridcolor\": \"#506784\", \"gridwidth\": 2, \"linecolor\": \"#506784\", \"showbackground\": true, \"ticks\": \"\", \"zerolinecolor\": \"#C8D4E3\"}, \"zaxis\": {\"backgroundcolor\": \"rgb(17,17,17)\", \"gridcolor\": \"#506784\", \"gridwidth\": 2, \"linecolor\": \"#506784\", \"showbackground\": true, \"ticks\": \"\", \"zerolinecolor\": \"#C8D4E3\"}}, \"shapedefaults\": {\"line\": {\"color\": \"#f2f5fa\"}}, \"sliderdefaults\": {\"bgcolor\": \"#C8D4E3\", \"bordercolor\": \"rgb(17,17,17)\", \"borderwidth\": 1, \"tickwidth\": 0}, \"ternary\": {\"aaxis\": {\"gridcolor\": \"#506784\", \"linecolor\": \"#506784\", \"ticks\": \"\"}, \"baxis\": {\"gridcolor\": \"#506784\", \"linecolor\": \"#506784\", \"ticks\": \"\"}, \"bgcolor\": \"rgb(17,17,17)\", \"caxis\": {\"gridcolor\": \"#506784\", \"linecolor\": \"#506784\", \"ticks\": \"\"}}, \"title\": {\"x\": 0.05}, \"updatemenudefaults\": {\"bgcolor\": \"#506784\", \"borderwidth\": 0}, \"xaxis\": {\"automargin\": true, \"gridcolor\": \"#283442\", \"linecolor\": \"#506784\", \"ticks\": \"\", \"title\": {\"standoff\": 15}, \"zerolinecolor\": \"#283442\", \"zerolinewidth\": 2}, \"yaxis\": {\"automargin\": true, \"gridcolor\": \"#283442\", \"linecolor\": \"#506784\", \"ticks\": \"\", \"title\": {\"standoff\": 15}, \"zerolinecolor\": \"#283442\", \"zerolinewidth\": 2}}}},\n",
              "                        {\"responsive\": true}\n",
              "                    ).then(function(){\n",
              "                            \n",
              "var gd = document.getElementById('5cf86fd5-3f01-438d-b13b-e51e2b3d1362');\n",
              "var x = new MutationObserver(function (mutations, observer) {{\n",
              "        var display = window.getComputedStyle(gd).display;\n",
              "        if (!display || display === 'none') {{\n",
              "            console.log([gd, 'removed!']);\n",
              "            Plotly.purge(gd);\n",
              "            observer.disconnect();\n",
              "        }}\n",
              "}});\n",
              "\n",
              "// Listen for the removal of the full notebook cells\n",
              "var notebookContainer = gd.closest('#notebook-container');\n",
              "if (notebookContainer) {{\n",
              "    x.observe(notebookContainer, {childList: true});\n",
              "}}\n",
              "\n",
              "// Listen for the clearing of the current output cell\n",
              "var outputEl = gd.closest('.output');\n",
              "if (outputEl) {{\n",
              "    x.observe(outputEl, {childList: true});\n",
              "}}\n",
              "\n",
              "                        })\n",
              "                };\n",
              "                \n",
              "            </script>\n",
              "        </div>\n",
              "</body>\n",
              "</html>"
            ]
          },
          "metadata": {
            "tags": []
          }
        }
      ]
    },
    {
      "cell_type": "code",
      "metadata": {
        "id": "zyi4FoLNr5pN",
        "outputId": "a597df8f-dfac-487c-e68f-3e84ebf47915",
        "colab": {
          "base_uri": "https://localhost:8080/"
        }
      },
      "source": [
        "temp = pd.DataFrame(df.Country.value_counts()).reset_index()\n",
        "temp.rename(columns={'index':'Country','Country':'value'}, inplace=True)\n",
        "\n",
        "fig = go.Figure(data=go.Choropleth(\n",
        "    locations = temp['Country'],\n",
        "    z = temp['value'],\n",
        "    text = temp['Country'],\n",
        "    locationmode='country names',\n",
        "    colorscale = 'bluered',\n",
        "    autocolorscale=False,\n",
        "    reversescale=True,\n",
        "    marker_line_color='darkgray',\n",
        "    marker_line_width=0.5,\n",
        "    colorbar_tickprefix = '',\n",
        "    colorbar_title = 'Count of the<br>Participants',\n",
        "))\n",
        "\n",
        "fig.update_layout(\n",
        "    title_text='Where are they From?',\n",
        "    geo=dict(\n",
        "        showframe=False,\n",
        "        showcoastlines=False,\n",
        "        projection_type='equirectangular'\n",
        "    ),\n",
        "\n",
        ")\n",
        "\n",
        "fig.show()"
      ],
      "execution_count": null,
      "outputs": [
        {
          "output_type": "display_data",
          "data": {
            "text/html": [
              "<html>\n",
              "<head><meta charset=\"utf-8\" /></head>\n",
              "<body>\n",
              "    <div>\n",
              "            <script src=\"https://cdnjs.cloudflare.com/ajax/libs/mathjax/2.7.5/MathJax.js?config=TeX-AMS-MML_SVG\"></script><script type=\"text/javascript\">if (window.MathJax) {MathJax.Hub.Config({SVG: {font: \"STIX-Web\"}});}</script>\n",
              "                <script type=\"text/javascript\">window.PlotlyConfig = {MathJaxConfig: 'local'};</script>\n",
              "        <script src=\"https://cdn.plot.ly/plotly-latest.min.js\"></script>    \n",
              "            <div id=\"952cb6aa-3f4f-4a49-91ed-2658333823e5\" class=\"plotly-graph-div\" style=\"height:525px; width:100%;\"></div>\n",
              "            <script type=\"text/javascript\">\n",
              "                \n",
              "                    window.PLOTLYENV=window.PLOTLYENV || {};\n",
              "                    \n",
              "                if (document.getElementById(\"952cb6aa-3f4f-4a49-91ed-2658333823e5\")) {\n",
              "                    Plotly.newPlot(\n",
              "                        '952cb6aa-3f4f-4a49-91ed-2658333823e5',\n",
              "                        [{\"autocolorscale\": false, \"colorbar\": {\"tickprefix\": \"\", \"title\": {\"text\": \"Count of the<br>Participants\"}}, \"colorscale\": [[0.0, \"rgb(0,0,255)\"], [1.0, \"rgb(255,0,0)\"]], \"locationmode\": \"country names\", \"locations\": [\"United States\", \"India\", \"United Kingdom\", \"Germany\", \"Canada\", \"France\", \"Brazil\", \"Netherlands\", \"Poland\", \"Australia\", \"Spain\", \"Italy\", \"Russian Federation\", \"Sweden\", \"Pakistan\", \"Turkey\", \"Israel\", \"Switzerland\", \"Bangladesh\", \"Romania\", \"Nigeria\", \"Ukraine\", \"Mexico\", \"Austria\", \"Indonesia\", \"Czech Republic\", \"Iran\", \"South Africa\", \"Belgium\", \"Ireland\", \"Philippines\", \"Denmark\", \"Argentina\", \"Greece\", \"Portugal\", \"Norway\", \"China\", \"Hungary\", \"Viet Nam\", \"New Zealand\", \"Finland\", \"Bulgaria\", \"Serbia\", \"Sri Lanka\", \"Japan\", \"Colombia\", \"Egypt\", \"Kenya\", \"Nepal\", \"Malaysia\", \"Singapore\", \"South Korea\", \"Slovakia\", \"Croatia\", \"Chile\", \"Morocco\", \"Lithuania\", \"Taiwan\", \"Slovenia\", \"Thailand\", \"Estonia\", \"Belarus\", \"Tunisia\", \"United Arab Emirates\", \"Latvia\", \"Hong Kong (S.A.R.)\", \"Ghana\", \"Peru\", \"Uruguay\", \"Bosnia and Herzegovina\", \"Algeria\", \"Saudi Arabia\", \"Republic of Korea\", \"Afghanistan\", \"Uganda\", \"Costa Rica\", \"Lebanon\", \"Dominican Republic\", \"Venezuela, Bolivarian Republic of...\", \"Armenia\", \"Georgia\", \"Kazakhstan\", \"Ethiopia\", \"Jordan\", \"Albania\", \"Iceland\", \"Cameroon\", \"Myanmar\", \"Cyprus\", \"Azerbaijan\", \"Republic of Moldova\", \"Guatemala\", \"Ecuador\", \"Malta\", \"Iraq\", \"Uzbekistan\", \"Luxembourg\", \"Bolivia\", \"The former Yugoslav Republic of Macedonia\", \"Nicaragua\", \"Sudan\", \"Kosovo\", \"Cambodia\", \"Rwanda\", \"Zimbabwe\", \"Nomadic\", \"United Republic of Tanzania\", \"El Salvador\", \"Paraguay\", \"Senegal\", \"Panama\", \"Cuba\", \"Zambia\", \"Madagascar\", \"Honduras\", \"Qatar\", \"Kuwait\", \"Somalia\", \"Mauritius\", \"C\\u00f4te d'Ivoire\", \"Kyrgyzstan\", \"Jamaica\", \"Syrian Arab Republic\", \"Andorra\", \"Montenegro\", \"Mongolia\", \"Oman\", \"Maldives\", \"Togo\", \"Benin\", \"Angola\", \"Bahrain\", \"Libyan Arab Jamahiriya\", \"Botswana\", \"Namibia\", \"Congo, Republic of the...\", \"Isle of Man\", \"Malawi\", \"Democratic Republic of the Congo\", \"Yemen\", \"Bhutan\", \"Lao People's Democratic Republic\", \"Swaziland\", \"Trinidad and Tobago\", \"Mozambique\", \"Sierra Leone\", \"Burkina Faso\", \"Barbados\", \"Guyana\", \"Niger\", \"Guinea\", \"Haiti\", \"Turkmenistan\", \"Belize\", \"Mauritania\", \"Gambia\", \"Tajikistan\", \"Saint Vincent and the Grenadines\", \"Bahamas\", \"Brunei Darussalam\", \"Eritrea\", \"Djibouti\", \"Monaco\", \"Timor-Leste\", \"Papua New Guinea\", \"Fiji\", \"Burundi\", \"Cape Verde\", \"Solomon Islands\", \"Antigua and Barbuda\", \"San Marino\", \"Nauru\", \"North Korea\", \"Kiribati\", \"Chad\", \"Grenada\", \"Gabon\", \"Micronesia, Federated States of...\", \"Lesotho\", \"Liechtenstein\", \"Mali\", \"Saint Lucia\", \"Marshall Islands\"], \"marker\": {\"line\": {\"color\": \"darkgray\", \"width\": 0.5}}, \"reversescale\": true, \"text\": [\"United States\", \"India\", \"United Kingdom\", \"Germany\", \"Canada\", \"France\", \"Brazil\", \"Netherlands\", \"Poland\", \"Australia\", \"Spain\", \"Italy\", \"Russian Federation\", \"Sweden\", \"Pakistan\", \"Turkey\", \"Israel\", \"Switzerland\", \"Bangladesh\", \"Romania\", \"Nigeria\", \"Ukraine\", \"Mexico\", \"Austria\", \"Indonesia\", \"Czech Republic\", \"Iran\", \"South Africa\", \"Belgium\", \"Ireland\", \"Philippines\", \"Denmark\", \"Argentina\", \"Greece\", \"Portugal\", \"Norway\", \"China\", \"Hungary\", \"Viet Nam\", \"New Zealand\", \"Finland\", \"Bulgaria\", \"Serbia\", \"Sri Lanka\", \"Japan\", \"Colombia\", \"Egypt\", \"Kenya\", \"Nepal\", \"Malaysia\", \"Singapore\", \"South Korea\", \"Slovakia\", \"Croatia\", \"Chile\", \"Morocco\", \"Lithuania\", \"Taiwan\", \"Slovenia\", \"Thailand\", \"Estonia\", \"Belarus\", \"Tunisia\", \"United Arab Emirates\", \"Latvia\", \"Hong Kong (S.A.R.)\", \"Ghana\", \"Peru\", \"Uruguay\", \"Bosnia and Herzegovina\", \"Algeria\", \"Saudi Arabia\", \"Republic of Korea\", \"Afghanistan\", \"Uganda\", \"Costa Rica\", \"Lebanon\", \"Dominican Republic\", \"Venezuela, Bolivarian Republic of...\", \"Armenia\", \"Georgia\", \"Kazakhstan\", \"Ethiopia\", \"Jordan\", \"Albania\", \"Iceland\", \"Cameroon\", \"Myanmar\", \"Cyprus\", \"Azerbaijan\", \"Republic of Moldova\", \"Guatemala\", \"Ecuador\", \"Malta\", \"Iraq\", \"Uzbekistan\", \"Luxembourg\", \"Bolivia\", \"The former Yugoslav Republic of Macedonia\", \"Nicaragua\", \"Sudan\", \"Kosovo\", \"Cambodia\", \"Rwanda\", \"Zimbabwe\", \"Nomadic\", \"United Republic of Tanzania\", \"El Salvador\", \"Paraguay\", \"Senegal\", \"Panama\", \"Cuba\", \"Zambia\", \"Madagascar\", \"Honduras\", \"Qatar\", \"Kuwait\", \"Somalia\", \"Mauritius\", \"C\\u00f4te d'Ivoire\", \"Kyrgyzstan\", \"Jamaica\", \"Syrian Arab Republic\", \"Andorra\", \"Montenegro\", \"Mongolia\", \"Oman\", \"Maldives\", \"Togo\", \"Benin\", \"Angola\", \"Bahrain\", \"Libyan Arab Jamahiriya\", \"Botswana\", \"Namibia\", \"Congo, Republic of the...\", \"Isle of Man\", \"Malawi\", \"Democratic Republic of the Congo\", \"Yemen\", \"Bhutan\", \"Lao People's Democratic Republic\", \"Swaziland\", \"Trinidad and Tobago\", \"Mozambique\", \"Sierra Leone\", \"Burkina Faso\", \"Barbados\", \"Guyana\", \"Niger\", \"Guinea\", \"Haiti\", \"Turkmenistan\", \"Belize\", \"Mauritania\", \"Gambia\", \"Tajikistan\", \"Saint Vincent and the Grenadines\", \"Bahamas\", \"Brunei Darussalam\", \"Eritrea\", \"Djibouti\", \"Monaco\", \"Timor-Leste\", \"Papua New Guinea\", \"Fiji\", \"Burundi\", \"Cape Verde\", \"Solomon Islands\", \"Antigua and Barbuda\", \"San Marino\", \"Nauru\", \"North Korea\", \"Kiribati\", \"Chad\", \"Grenada\", \"Gabon\", \"Micronesia, Federated States of...\", \"Lesotho\", \"Liechtenstein\", \"Mali\", \"Saint Lucia\", \"Marshall Islands\"], \"type\": \"choropleth\", \"z\": [12510, 8470, 3922, 3904, 2205, 1906, 1822, 1353, 1291, 1217, 1171, 1128, 1098, 891, 821, 782, 657, 630, 616, 609, 593, 544, 544, 542, 507, 500, 496, 495, 463, 445, 410, 401, 396, 392, 391, 385, 374, 374, 367, 354, 349, 325, 308, 298, 298, 287, 283, 271, 242, 232, 228, 201, 191, 185, 182, 180, 172, 160, 157, 149, 146, 129, 126, 116, 111, 111, 105, 101, 100, 99, 99, 93, 89, 87, 81, 77, 72, 72, 70, 67, 67, 61, 59, 59, 54, 53, 52, 52, 51, 50, 50, 49, 49, 47, 44, 42, 42, 42, 38, 35, 34, 34, 33, 31, 31, 31, 31, 26, 26, 26, 24, 22, 21, 21, 21, 20, 18, 18, 18, 17, 16, 14, 13, 13, 13, 12, 11, 10, 10, 9, 9, 9, 8, 8, 8, 8, 8, 8, 7, 7, 7, 7, 7, 7, 7, 6, 6, 5, 5, 5, 5, 5, 4, 4, 4, 4, 4, 3, 3, 3, 3, 2, 2, 2, 2, 2, 2, 2, 2, 2, 2, 1, 1, 1, 1, 1, 1, 1, 1, 1, 1, 1, 1]}],\n",
              "                        {\"geo\": {\"projection\": {\"type\": \"equirectangular\"}, \"showcoastlines\": false, \"showframe\": false}, \"template\": {\"data\": {\"bar\": [{\"error_x\": {\"color\": \"#2a3f5f\"}, \"error_y\": {\"color\": \"#2a3f5f\"}, \"marker\": {\"line\": {\"color\": \"#E5ECF6\", \"width\": 0.5}}, \"type\": \"bar\"}], \"barpolar\": [{\"marker\": {\"line\": {\"color\": \"#E5ECF6\", \"width\": 0.5}}, \"type\": \"barpolar\"}], \"carpet\": [{\"aaxis\": {\"endlinecolor\": \"#2a3f5f\", \"gridcolor\": \"white\", \"linecolor\": \"white\", \"minorgridcolor\": \"white\", \"startlinecolor\": \"#2a3f5f\"}, \"baxis\": {\"endlinecolor\": \"#2a3f5f\", \"gridcolor\": \"white\", \"linecolor\": \"white\", \"minorgridcolor\": \"white\", \"startlinecolor\": \"#2a3f5f\"}, \"type\": \"carpet\"}], \"choropleth\": [{\"colorbar\": {\"outlinewidth\": 0, \"ticks\": \"\"}, \"type\": \"choropleth\"}], \"contour\": [{\"colorbar\": {\"outlinewidth\": 0, \"ticks\": \"\"}, \"colorscale\": [[0.0, \"#0d0887\"], [0.1111111111111111, \"#46039f\"], [0.2222222222222222, \"#7201a8\"], [0.3333333333333333, \"#9c179e\"], [0.4444444444444444, \"#bd3786\"], [0.5555555555555556, \"#d8576b\"], [0.6666666666666666, \"#ed7953\"], [0.7777777777777778, \"#fb9f3a\"], [0.8888888888888888, \"#fdca26\"], [1.0, \"#f0f921\"]], \"type\": \"contour\"}], \"contourcarpet\": [{\"colorbar\": {\"outlinewidth\": 0, \"ticks\": \"\"}, \"type\": \"contourcarpet\"}], \"heatmap\": [{\"colorbar\": {\"outlinewidth\": 0, \"ticks\": \"\"}, \"colorscale\": [[0.0, \"#0d0887\"], [0.1111111111111111, \"#46039f\"], [0.2222222222222222, \"#7201a8\"], [0.3333333333333333, \"#9c179e\"], [0.4444444444444444, \"#bd3786\"], [0.5555555555555556, \"#d8576b\"], [0.6666666666666666, \"#ed7953\"], [0.7777777777777778, \"#fb9f3a\"], [0.8888888888888888, \"#fdca26\"], [1.0, \"#f0f921\"]], \"type\": \"heatmap\"}], \"heatmapgl\": [{\"colorbar\": {\"outlinewidth\": 0, \"ticks\": \"\"}, \"colorscale\": [[0.0, \"#0d0887\"], [0.1111111111111111, \"#46039f\"], [0.2222222222222222, \"#7201a8\"], [0.3333333333333333, \"#9c179e\"], [0.4444444444444444, \"#bd3786\"], [0.5555555555555556, \"#d8576b\"], [0.6666666666666666, \"#ed7953\"], [0.7777777777777778, \"#fb9f3a\"], [0.8888888888888888, \"#fdca26\"], [1.0, \"#f0f921\"]], \"type\": \"heatmapgl\"}], \"histogram\": [{\"marker\": {\"colorbar\": {\"outlinewidth\": 0, \"ticks\": \"\"}}, \"type\": \"histogram\"}], \"histogram2d\": [{\"colorbar\": {\"outlinewidth\": 0, \"ticks\": \"\"}, \"colorscale\": [[0.0, \"#0d0887\"], [0.1111111111111111, \"#46039f\"], [0.2222222222222222, \"#7201a8\"], [0.3333333333333333, \"#9c179e\"], [0.4444444444444444, \"#bd3786\"], [0.5555555555555556, \"#d8576b\"], [0.6666666666666666, \"#ed7953\"], [0.7777777777777778, \"#fb9f3a\"], [0.8888888888888888, \"#fdca26\"], [1.0, \"#f0f921\"]], \"type\": \"histogram2d\"}], \"histogram2dcontour\": [{\"colorbar\": {\"outlinewidth\": 0, \"ticks\": \"\"}, \"colorscale\": [[0.0, \"#0d0887\"], [0.1111111111111111, \"#46039f\"], [0.2222222222222222, \"#7201a8\"], [0.3333333333333333, \"#9c179e\"], [0.4444444444444444, \"#bd3786\"], [0.5555555555555556, \"#d8576b\"], [0.6666666666666666, \"#ed7953\"], [0.7777777777777778, \"#fb9f3a\"], [0.8888888888888888, \"#fdca26\"], [1.0, \"#f0f921\"]], \"type\": \"histogram2dcontour\"}], \"mesh3d\": [{\"colorbar\": {\"outlinewidth\": 0, \"ticks\": \"\"}, \"type\": \"mesh3d\"}], \"parcoords\": [{\"line\": {\"colorbar\": {\"outlinewidth\": 0, \"ticks\": \"\"}}, \"type\": \"parcoords\"}], \"pie\": [{\"automargin\": true, \"type\": \"pie\"}], \"scatter\": [{\"marker\": {\"colorbar\": {\"outlinewidth\": 0, \"ticks\": \"\"}}, \"type\": \"scatter\"}], \"scatter3d\": [{\"line\": {\"colorbar\": {\"outlinewidth\": 0, \"ticks\": \"\"}}, \"marker\": {\"colorbar\": {\"outlinewidth\": 0, \"ticks\": \"\"}}, \"type\": \"scatter3d\"}], \"scattercarpet\": [{\"marker\": {\"colorbar\": {\"outlinewidth\": 0, \"ticks\": \"\"}}, \"type\": \"scattercarpet\"}], \"scattergeo\": [{\"marker\": {\"colorbar\": {\"outlinewidth\": 0, \"ticks\": \"\"}}, \"type\": \"scattergeo\"}], \"scattergl\": [{\"marker\": {\"colorbar\": {\"outlinewidth\": 0, \"ticks\": \"\"}}, \"type\": \"scattergl\"}], \"scattermapbox\": [{\"marker\": {\"colorbar\": {\"outlinewidth\": 0, \"ticks\": \"\"}}, \"type\": \"scattermapbox\"}], \"scatterpolar\": [{\"marker\": {\"colorbar\": {\"outlinewidth\": 0, \"ticks\": \"\"}}, \"type\": \"scatterpolar\"}], \"scatterpolargl\": [{\"marker\": {\"colorbar\": {\"outlinewidth\": 0, \"ticks\": \"\"}}, \"type\": \"scatterpolargl\"}], \"scatterternary\": [{\"marker\": {\"colorbar\": {\"outlinewidth\": 0, \"ticks\": \"\"}}, \"type\": \"scatterternary\"}], \"surface\": [{\"colorbar\": {\"outlinewidth\": 0, \"ticks\": \"\"}, \"colorscale\": [[0.0, \"#0d0887\"], [0.1111111111111111, \"#46039f\"], [0.2222222222222222, \"#7201a8\"], [0.3333333333333333, \"#9c179e\"], [0.4444444444444444, \"#bd3786\"], [0.5555555555555556, \"#d8576b\"], [0.6666666666666666, \"#ed7953\"], [0.7777777777777778, \"#fb9f3a\"], [0.8888888888888888, \"#fdca26\"], [1.0, \"#f0f921\"]], \"type\": \"surface\"}], \"table\": [{\"cells\": {\"fill\": {\"color\": \"#EBF0F8\"}, \"line\": {\"color\": \"white\"}}, \"header\": {\"fill\": {\"color\": \"#C8D4E3\"}, \"line\": {\"color\": \"white\"}}, \"type\": \"table\"}]}, \"layout\": {\"annotationdefaults\": {\"arrowcolor\": \"#2a3f5f\", \"arrowhead\": 0, \"arrowwidth\": 1}, \"coloraxis\": {\"colorbar\": {\"outlinewidth\": 0, \"ticks\": \"\"}}, \"colorscale\": {\"diverging\": [[0, \"#8e0152\"], [0.1, \"#c51b7d\"], [0.2, \"#de77ae\"], [0.3, \"#f1b6da\"], [0.4, \"#fde0ef\"], [0.5, \"#f7f7f7\"], [0.6, \"#e6f5d0\"], [0.7, \"#b8e186\"], [0.8, \"#7fbc41\"], [0.9, \"#4d9221\"], [1, \"#276419\"]], \"sequential\": [[0.0, \"#0d0887\"], [0.1111111111111111, \"#46039f\"], [0.2222222222222222, \"#7201a8\"], [0.3333333333333333, \"#9c179e\"], [0.4444444444444444, \"#bd3786\"], [0.5555555555555556, \"#d8576b\"], [0.6666666666666666, \"#ed7953\"], [0.7777777777777778, \"#fb9f3a\"], [0.8888888888888888, \"#fdca26\"], [1.0, \"#f0f921\"]], \"sequentialminus\": [[0.0, \"#0d0887\"], [0.1111111111111111, \"#46039f\"], [0.2222222222222222, \"#7201a8\"], [0.3333333333333333, \"#9c179e\"], [0.4444444444444444, \"#bd3786\"], [0.5555555555555556, \"#d8576b\"], [0.6666666666666666, \"#ed7953\"], [0.7777777777777778, \"#fb9f3a\"], [0.8888888888888888, \"#fdca26\"], [1.0, \"#f0f921\"]]}, \"colorway\": [\"#636efa\", \"#EF553B\", \"#00cc96\", \"#ab63fa\", \"#FFA15A\", \"#19d3f3\", \"#FF6692\", \"#B6E880\", \"#FF97FF\", \"#FECB52\"], \"font\": {\"color\": \"#2a3f5f\"}, \"geo\": {\"bgcolor\": \"white\", \"lakecolor\": \"white\", \"landcolor\": \"#E5ECF6\", \"showlakes\": true, \"showland\": true, \"subunitcolor\": \"white\"}, \"hoverlabel\": {\"align\": \"left\"}, \"hovermode\": \"closest\", \"mapbox\": {\"style\": \"light\"}, \"paper_bgcolor\": \"white\", \"plot_bgcolor\": \"#E5ECF6\", \"polar\": {\"angularaxis\": {\"gridcolor\": \"white\", \"linecolor\": \"white\", \"ticks\": \"\"}, \"bgcolor\": \"#E5ECF6\", \"radialaxis\": {\"gridcolor\": \"white\", \"linecolor\": \"white\", \"ticks\": \"\"}}, \"scene\": {\"xaxis\": {\"backgroundcolor\": \"#E5ECF6\", \"gridcolor\": \"white\", \"gridwidth\": 2, \"linecolor\": \"white\", \"showbackground\": true, \"ticks\": \"\", \"zerolinecolor\": \"white\"}, \"yaxis\": {\"backgroundcolor\": \"#E5ECF6\", \"gridcolor\": \"white\", \"gridwidth\": 2, \"linecolor\": \"white\", \"showbackground\": true, \"ticks\": \"\", \"zerolinecolor\": \"white\"}, \"zaxis\": {\"backgroundcolor\": \"#E5ECF6\", \"gridcolor\": \"white\", \"gridwidth\": 2, \"linecolor\": \"white\", \"showbackground\": true, \"ticks\": \"\", \"zerolinecolor\": \"white\"}}, \"shapedefaults\": {\"line\": {\"color\": \"#2a3f5f\"}}, \"ternary\": {\"aaxis\": {\"gridcolor\": \"white\", \"linecolor\": \"white\", \"ticks\": \"\"}, \"baxis\": {\"gridcolor\": \"white\", \"linecolor\": \"white\", \"ticks\": \"\"}, \"bgcolor\": \"#E5ECF6\", \"caxis\": {\"gridcolor\": \"white\", \"linecolor\": \"white\", \"ticks\": \"\"}}, \"title\": {\"x\": 0.05}, \"xaxis\": {\"automargin\": true, \"gridcolor\": \"white\", \"linecolor\": \"white\", \"ticks\": \"\", \"title\": {\"standoff\": 15}, \"zerolinecolor\": \"white\", \"zerolinewidth\": 2}, \"yaxis\": {\"automargin\": true, \"gridcolor\": \"white\", \"linecolor\": \"white\", \"ticks\": \"\", \"title\": {\"standoff\": 15}, \"zerolinecolor\": \"white\", \"zerolinewidth\": 2}}}, \"title\": {\"text\": \"Where are they From?\"}},\n",
              "                        {\"responsive\": true}\n",
              "                    ).then(function(){\n",
              "                            \n",
              "var gd = document.getElementById('952cb6aa-3f4f-4a49-91ed-2658333823e5');\n",
              "var x = new MutationObserver(function (mutations, observer) {{\n",
              "        var display = window.getComputedStyle(gd).display;\n",
              "        if (!display || display === 'none') {{\n",
              "            console.log([gd, 'removed!']);\n",
              "            Plotly.purge(gd);\n",
              "            observer.disconnect();\n",
              "        }}\n",
              "}});\n",
              "\n",
              "// Listen for the removal of the full notebook cells\n",
              "var notebookContainer = gd.closest('#notebook-container');\n",
              "if (notebookContainer) {{\n",
              "    x.observe(notebookContainer, {childList: true});\n",
              "}}\n",
              "\n",
              "// Listen for the clearing of the current output cell\n",
              "var outputEl = gd.closest('.output');\n",
              "if (outputEl) {{\n",
              "    x.observe(outputEl, {childList: true});\n",
              "}}\n",
              "\n",
              "                        })\n",
              "                };\n",
              "                \n",
              "            </script>\n",
              "        </div>\n",
              "</body>\n",
              "</html>"
            ]
          },
          "metadata": {
            "tags": []
          }
        }
      ]
    },
    {
      "cell_type": "code",
      "metadata": {
        "id": "ob0kHIg6N_z8",
        "outputId": "fa995cad-1711-4678-bf54-ea3c904039ee",
        "colab": {
          "base_uri": "https://localhost:8080/"
        }
      },
      "source": [
        "df.columns"
      ],
      "execution_count": null,
      "outputs": [
        {
          "output_type": "execute_result",
          "data": {
            "text/plain": [
              "Index(['Respondent', 'MainBranch', 'Hobbyist', 'Age', 'Age1stCode', 'CompFreq',\n",
              "       'CompTotal', 'ConvertedComp', 'Country', 'CurrencyDesc',\n",
              "       'CurrencySymbol', 'DatabaseDesireNextYear', 'DatabaseWorkedWith',\n",
              "       'DevType', 'EdLevel', 'Employment', 'Ethnicity', 'Gender', 'JobFactors',\n",
              "       'JobSat', 'JobSeek', 'LanguageDesireNextYear', 'LanguageWorkedWith',\n",
              "       'MiscTechDesireNextYear', 'MiscTechWorkedWith',\n",
              "       'NEWCollabToolsDesireNextYear', 'NEWCollabToolsWorkedWith', 'NEWDevOps',\n",
              "       'NEWDevOpsImpt', 'NEWEdImpt', 'NEWJobHunt', 'NEWJobHuntResearch',\n",
              "       'NEWLearn', 'NEWOffTopic', 'NEWOnboardGood', 'NEWOtherComms',\n",
              "       'NEWOvertime', 'NEWPurchaseResearch', 'NEWPurpleLink', 'NEWSOSites',\n",
              "       'NEWStuck', 'OpSys', 'OrgSize', 'PlatformDesireNextYear',\n",
              "       'PlatformWorkedWith', 'PurchaseWhat', 'Sexuality', 'SOAccount',\n",
              "       'SOComm', 'SOPartFreq', 'SOVisitFreq', 'SurveyEase', 'SurveyLength',\n",
              "       'Trans', 'UndergradMajor', 'WebframeDesireNextYear',\n",
              "       'WebframeWorkedWith', 'WelcomeChange', 'WorkWeekHrs', 'YearsCode',\n",
              "       'YearsCodePro'],\n",
              "      dtype='object')"
            ]
          },
          "metadata": {
            "tags": []
          },
          "execution_count": 207
        }
      ]
    },
    {
      "cell_type": "code",
      "metadata": {
        "id": "bb8si9eGR0Uk",
        "outputId": "265bc803-9881-4a2a-f01b-ec4dcc4b7bee",
        "colab": {
          "base_uri": "https://localhost:8080/"
        }
      },
      "source": [
        "temp = df.UndergradMajor.value_counts(dropna = False).sort_values(ascending = True)\n",
        "trace = go.Bar(\n",
        "    x = temp.values,\n",
        "    y = temp.index,\n",
        "    orientation = 'h',\n",
        "    marker = dict(\n",
        "        colorscale = 'Greens',\n",
        "    )\n",
        "\n",
        ")\n",
        "layout = dict(\n",
        "    title = 'What is/was Their Major in College?',\n",
        "    height = 800,\n",
        "    margin = dict(\n",
        "        l=450,\n",
        "    )\n",
        ")\n",
        "data =[trace]\n",
        "fig = go.Figure(data = data, layout = layout)\n",
        "fig.show()"
      ],
      "execution_count": null,
      "outputs": [
        {
          "output_type": "display_data",
          "data": {
            "text/html": [
              "<html>\n",
              "<head><meta charset=\"utf-8\" /></head>\n",
              "<body>\n",
              "    <div>\n",
              "            <script src=\"https://cdnjs.cloudflare.com/ajax/libs/mathjax/2.7.5/MathJax.js?config=TeX-AMS-MML_SVG\"></script><script type=\"text/javascript\">if (window.MathJax) {MathJax.Hub.Config({SVG: {font: \"STIX-Web\"}});}</script>\n",
              "                <script type=\"text/javascript\">window.PlotlyConfig = {MathJaxConfig: 'local'};</script>\n",
              "        <script src=\"https://cdn.plot.ly/plotly-latest.min.js\"></script>    \n",
              "            <div id=\"7588f978-ca35-470b-9fa3-585d28014a82\" class=\"plotly-graph-div\" style=\"height:800px; width:100%;\"></div>\n",
              "            <script type=\"text/javascript\">\n",
              "                \n",
              "                    window.PLOTLYENV=window.PLOTLYENV || {};\n",
              "                    \n",
              "                if (document.getElementById(\"7588f978-ca35-470b-9fa3-585d28014a82\")) {\n",
              "                    Plotly.newPlot(\n",
              "                        '7588f978-ca35-470b-9fa3-585d28014a82',\n",
              "                        [{\"marker\": {\"colorscale\": [[0.0, \"rgb(247,252,245)\"], [0.125, \"rgb(229,245,224)\"], [0.25, \"rgb(199,233,192)\"], [0.375, \"rgb(161,217,155)\"], [0.5, \"rgb(116,196,118)\"], [0.625, \"rgb(65,171,93)\"], [0.75, \"rgb(35,139,69)\"], [0.875, \"rgb(0,109,44)\"], [1.0, \"rgb(0,68,27)\"]]}, \"orientation\": \"h\", \"type\": \"bar\", \"x\": [313, 595, 911, 1201, 1275, 1762, 2301, 2316, 2754, 5179, 6016, 39838], \"y\": [\"A health science (such as nursing, pharmacy, radiology, etc.)\", \"I never declared a major\", \"Fine arts or performing arts (such as graphic design, music, studio art, etc.)\", \"A social science (such as anthropology, psychology, political science, etc.)\", \"A humanities discipline (such as literature, history, philosophy, etc.)\", \"A business discipline (such as accounting, finance, marketing, etc.)\", \"Web development or web design\", \"Mathematics or statistics\", \"A natural science (such as biology, chemistry, physics, etc.)\", \"Information systems, information technology, or system administration\", \"Another engineering discipline (such as civil, electrical, mechanical, etc.)\", \"Computer science, computer engineering, or software engineering\"]}],\n",
              "                        {\"height\": 800, \"margin\": {\"l\": 450}, \"template\": {\"data\": {\"bar\": [{\"error_x\": {\"color\": \"#2a3f5f\"}, \"error_y\": {\"color\": \"#2a3f5f\"}, \"marker\": {\"line\": {\"color\": \"#E5ECF6\", \"width\": 0.5}}, \"type\": \"bar\"}], \"barpolar\": [{\"marker\": {\"line\": {\"color\": \"#E5ECF6\", \"width\": 0.5}}, \"type\": \"barpolar\"}], \"carpet\": [{\"aaxis\": {\"endlinecolor\": \"#2a3f5f\", \"gridcolor\": \"white\", \"linecolor\": \"white\", \"minorgridcolor\": \"white\", \"startlinecolor\": \"#2a3f5f\"}, \"baxis\": {\"endlinecolor\": \"#2a3f5f\", \"gridcolor\": \"white\", \"linecolor\": \"white\", \"minorgridcolor\": \"white\", \"startlinecolor\": \"#2a3f5f\"}, \"type\": \"carpet\"}], \"choropleth\": [{\"colorbar\": {\"outlinewidth\": 0, \"ticks\": \"\"}, \"type\": \"choropleth\"}], \"contour\": [{\"colorbar\": {\"outlinewidth\": 0, \"ticks\": \"\"}, \"colorscale\": [[0.0, \"#0d0887\"], [0.1111111111111111, \"#46039f\"], [0.2222222222222222, \"#7201a8\"], [0.3333333333333333, \"#9c179e\"], [0.4444444444444444, \"#bd3786\"], [0.5555555555555556, \"#d8576b\"], [0.6666666666666666, \"#ed7953\"], [0.7777777777777778, \"#fb9f3a\"], [0.8888888888888888, \"#fdca26\"], [1.0, \"#f0f921\"]], \"type\": \"contour\"}], \"contourcarpet\": [{\"colorbar\": {\"outlinewidth\": 0, \"ticks\": \"\"}, \"type\": \"contourcarpet\"}], \"heatmap\": [{\"colorbar\": {\"outlinewidth\": 0, \"ticks\": \"\"}, \"colorscale\": [[0.0, \"#0d0887\"], [0.1111111111111111, \"#46039f\"], [0.2222222222222222, \"#7201a8\"], [0.3333333333333333, \"#9c179e\"], [0.4444444444444444, \"#bd3786\"], [0.5555555555555556, \"#d8576b\"], [0.6666666666666666, \"#ed7953\"], [0.7777777777777778, \"#fb9f3a\"], [0.8888888888888888, \"#fdca26\"], [1.0, \"#f0f921\"]], \"type\": \"heatmap\"}], \"heatmapgl\": [{\"colorbar\": {\"outlinewidth\": 0, \"ticks\": \"\"}, \"colorscale\": [[0.0, \"#0d0887\"], [0.1111111111111111, \"#46039f\"], [0.2222222222222222, \"#7201a8\"], [0.3333333333333333, \"#9c179e\"], [0.4444444444444444, \"#bd3786\"], [0.5555555555555556, \"#d8576b\"], [0.6666666666666666, \"#ed7953\"], [0.7777777777777778, \"#fb9f3a\"], [0.8888888888888888, \"#fdca26\"], [1.0, \"#f0f921\"]], \"type\": \"heatmapgl\"}], \"histogram\": [{\"marker\": {\"colorbar\": {\"outlinewidth\": 0, \"ticks\": \"\"}}, \"type\": \"histogram\"}], \"histogram2d\": [{\"colorbar\": {\"outlinewidth\": 0, \"ticks\": \"\"}, \"colorscale\": [[0.0, \"#0d0887\"], [0.1111111111111111, \"#46039f\"], [0.2222222222222222, \"#7201a8\"], [0.3333333333333333, \"#9c179e\"], [0.4444444444444444, \"#bd3786\"], [0.5555555555555556, \"#d8576b\"], [0.6666666666666666, \"#ed7953\"], [0.7777777777777778, \"#fb9f3a\"], [0.8888888888888888, \"#fdca26\"], [1.0, \"#f0f921\"]], \"type\": \"histogram2d\"}], \"histogram2dcontour\": [{\"colorbar\": {\"outlinewidth\": 0, \"ticks\": \"\"}, \"colorscale\": [[0.0, \"#0d0887\"], [0.1111111111111111, \"#46039f\"], [0.2222222222222222, \"#7201a8\"], [0.3333333333333333, \"#9c179e\"], [0.4444444444444444, \"#bd3786\"], [0.5555555555555556, \"#d8576b\"], [0.6666666666666666, \"#ed7953\"], [0.7777777777777778, \"#fb9f3a\"], [0.8888888888888888, \"#fdca26\"], [1.0, \"#f0f921\"]], \"type\": \"histogram2dcontour\"}], \"mesh3d\": [{\"colorbar\": {\"outlinewidth\": 0, \"ticks\": \"\"}, \"type\": \"mesh3d\"}], \"parcoords\": [{\"line\": {\"colorbar\": {\"outlinewidth\": 0, \"ticks\": \"\"}}, \"type\": \"parcoords\"}], \"pie\": [{\"automargin\": true, \"type\": \"pie\"}], \"scatter\": [{\"marker\": {\"colorbar\": {\"outlinewidth\": 0, \"ticks\": \"\"}}, \"type\": \"scatter\"}], \"scatter3d\": [{\"line\": {\"colorbar\": {\"outlinewidth\": 0, \"ticks\": \"\"}}, \"marker\": {\"colorbar\": {\"outlinewidth\": 0, \"ticks\": \"\"}}, \"type\": \"scatter3d\"}], \"scattercarpet\": [{\"marker\": {\"colorbar\": {\"outlinewidth\": 0, \"ticks\": \"\"}}, \"type\": \"scattercarpet\"}], \"scattergeo\": [{\"marker\": {\"colorbar\": {\"outlinewidth\": 0, \"ticks\": \"\"}}, \"type\": \"scattergeo\"}], \"scattergl\": [{\"marker\": {\"colorbar\": {\"outlinewidth\": 0, \"ticks\": \"\"}}, \"type\": \"scattergl\"}], \"scattermapbox\": [{\"marker\": {\"colorbar\": {\"outlinewidth\": 0, \"ticks\": \"\"}}, \"type\": \"scattermapbox\"}], \"scatterpolar\": [{\"marker\": {\"colorbar\": {\"outlinewidth\": 0, \"ticks\": \"\"}}, \"type\": \"scatterpolar\"}], \"scatterpolargl\": [{\"marker\": {\"colorbar\": {\"outlinewidth\": 0, \"ticks\": \"\"}}, \"type\": \"scatterpolargl\"}], \"scatterternary\": [{\"marker\": {\"colorbar\": {\"outlinewidth\": 0, \"ticks\": \"\"}}, \"type\": \"scatterternary\"}], \"surface\": [{\"colorbar\": {\"outlinewidth\": 0, \"ticks\": \"\"}, \"colorscale\": [[0.0, \"#0d0887\"], [0.1111111111111111, \"#46039f\"], [0.2222222222222222, \"#7201a8\"], [0.3333333333333333, \"#9c179e\"], [0.4444444444444444, \"#bd3786\"], [0.5555555555555556, \"#d8576b\"], [0.6666666666666666, \"#ed7953\"], [0.7777777777777778, \"#fb9f3a\"], [0.8888888888888888, \"#fdca26\"], [1.0, \"#f0f921\"]], \"type\": \"surface\"}], \"table\": [{\"cells\": {\"fill\": {\"color\": \"#EBF0F8\"}, \"line\": {\"color\": \"white\"}}, \"header\": {\"fill\": {\"color\": \"#C8D4E3\"}, \"line\": {\"color\": \"white\"}}, \"type\": \"table\"}]}, \"layout\": {\"annotationdefaults\": {\"arrowcolor\": \"#2a3f5f\", \"arrowhead\": 0, \"arrowwidth\": 1}, \"coloraxis\": {\"colorbar\": {\"outlinewidth\": 0, \"ticks\": \"\"}}, \"colorscale\": {\"diverging\": [[0, \"#8e0152\"], [0.1, \"#c51b7d\"], [0.2, \"#de77ae\"], [0.3, \"#f1b6da\"], [0.4, \"#fde0ef\"], [0.5, \"#f7f7f7\"], [0.6, \"#e6f5d0\"], [0.7, \"#b8e186\"], [0.8, \"#7fbc41\"], [0.9, \"#4d9221\"], [1, \"#276419\"]], \"sequential\": [[0.0, \"#0d0887\"], [0.1111111111111111, \"#46039f\"], [0.2222222222222222, \"#7201a8\"], [0.3333333333333333, \"#9c179e\"], [0.4444444444444444, \"#bd3786\"], [0.5555555555555556, \"#d8576b\"], [0.6666666666666666, \"#ed7953\"], [0.7777777777777778, \"#fb9f3a\"], [0.8888888888888888, \"#fdca26\"], [1.0, \"#f0f921\"]], \"sequentialminus\": [[0.0, \"#0d0887\"], [0.1111111111111111, \"#46039f\"], [0.2222222222222222, \"#7201a8\"], [0.3333333333333333, \"#9c179e\"], [0.4444444444444444, \"#bd3786\"], [0.5555555555555556, \"#d8576b\"], [0.6666666666666666, \"#ed7953\"], [0.7777777777777778, \"#fb9f3a\"], [0.8888888888888888, \"#fdca26\"], [1.0, \"#f0f921\"]]}, \"colorway\": [\"#636efa\", \"#EF553B\", \"#00cc96\", \"#ab63fa\", \"#FFA15A\", \"#19d3f3\", \"#FF6692\", \"#B6E880\", \"#FF97FF\", \"#FECB52\"], \"font\": {\"color\": \"#2a3f5f\"}, \"geo\": {\"bgcolor\": \"white\", \"lakecolor\": \"white\", \"landcolor\": \"#E5ECF6\", \"showlakes\": true, \"showland\": true, \"subunitcolor\": \"white\"}, \"hoverlabel\": {\"align\": \"left\"}, \"hovermode\": \"closest\", \"mapbox\": {\"style\": \"light\"}, \"paper_bgcolor\": \"white\", \"plot_bgcolor\": \"#E5ECF6\", \"polar\": {\"angularaxis\": {\"gridcolor\": \"white\", \"linecolor\": \"white\", \"ticks\": \"\"}, \"bgcolor\": \"#E5ECF6\", \"radialaxis\": {\"gridcolor\": \"white\", \"linecolor\": \"white\", \"ticks\": \"\"}}, \"scene\": {\"xaxis\": {\"backgroundcolor\": \"#E5ECF6\", \"gridcolor\": \"white\", \"gridwidth\": 2, \"linecolor\": \"white\", \"showbackground\": true, \"ticks\": \"\", \"zerolinecolor\": \"white\"}, \"yaxis\": {\"backgroundcolor\": \"#E5ECF6\", \"gridcolor\": \"white\", \"gridwidth\": 2, \"linecolor\": \"white\", \"showbackground\": true, \"ticks\": \"\", \"zerolinecolor\": \"white\"}, \"zaxis\": {\"backgroundcolor\": \"#E5ECF6\", \"gridcolor\": \"white\", \"gridwidth\": 2, \"linecolor\": \"white\", \"showbackground\": true, \"ticks\": \"\", \"zerolinecolor\": \"white\"}}, \"shapedefaults\": {\"line\": {\"color\": \"#2a3f5f\"}}, \"ternary\": {\"aaxis\": {\"gridcolor\": \"white\", \"linecolor\": \"white\", \"ticks\": \"\"}, \"baxis\": {\"gridcolor\": \"white\", \"linecolor\": \"white\", \"ticks\": \"\"}, \"bgcolor\": \"#E5ECF6\", \"caxis\": {\"gridcolor\": \"white\", \"linecolor\": \"white\", \"ticks\": \"\"}}, \"title\": {\"x\": 0.05}, \"xaxis\": {\"automargin\": true, \"gridcolor\": \"white\", \"linecolor\": \"white\", \"ticks\": \"\", \"title\": {\"standoff\": 15}, \"zerolinecolor\": \"white\", \"zerolinewidth\": 2}, \"yaxis\": {\"automargin\": true, \"gridcolor\": \"white\", \"linecolor\": \"white\", \"ticks\": \"\", \"title\": {\"standoff\": 15}, \"zerolinecolor\": \"white\", \"zerolinewidth\": 2}}}, \"title\": {\"text\": \"What is/was Their Major in College?\"}},\n",
              "                        {\"responsive\": true}\n",
              "                    ).then(function(){\n",
              "                            \n",
              "var gd = document.getElementById('7588f978-ca35-470b-9fa3-585d28014a82');\n",
              "var x = new MutationObserver(function (mutations, observer) {{\n",
              "        var display = window.getComputedStyle(gd).display;\n",
              "        if (!display || display === 'none') {{\n",
              "            console.log([gd, 'removed!']);\n",
              "            Plotly.purge(gd);\n",
              "            observer.disconnect();\n",
              "        }}\n",
              "}});\n",
              "\n",
              "// Listen for the removal of the full notebook cells\n",
              "var notebookContainer = gd.closest('#notebook-container');\n",
              "if (notebookContainer) {{\n",
              "    x.observe(notebookContainer, {childList: true});\n",
              "}}\n",
              "\n",
              "// Listen for the clearing of the current output cell\n",
              "var outputEl = gd.closest('.output');\n",
              "if (outputEl) {{\n",
              "    x.observe(outputEl, {childList: true});\n",
              "}}\n",
              "\n",
              "                        })\n",
              "                };\n",
              "                \n",
              "            </script>\n",
              "        </div>\n",
              "</body>\n",
              "</html>"
            ]
          },
          "metadata": {
            "tags": []
          }
        }
      ]
    },
    {
      "cell_type": "code",
      "metadata": {
        "id": "nJ2cADeUSZVl",
        "outputId": "dfad36d1-7044-4a15-bd15-4fe05b9f22a3",
        "colab": {
          "base_uri": "https://localhost:8080/"
        }
      },
      "source": [
        "temp = df.Employment.value_counts(dropna = False)\n",
        "data = go.Bar(\n",
        "    y = temp.values,\n",
        "    x = temp.index,\n",
        "#     orientation = 'h',\n",
        "    marker = dict(\n",
        "        colorscale = 'Greens',\n",
        "    )\n",
        "\n",
        ")\n",
        "layout = dict(\n",
        "    title = 'Who Took the Surveys?',\n",
        "    height = 800,\n",
        "#     xaxis = '# of Participants',\n",
        "    margin = dict(\n",
        "#         l=300,\n",
        "    )\n",
        ")\n",
        "fig = go.Figure(data = data, layout = layout)\n",
        "fig.show()"
      ],
      "execution_count": null,
      "outputs": [
        {
          "output_type": "display_data",
          "data": {
            "text/html": [
              "<html>\n",
              "<head><meta charset=\"utf-8\" /></head>\n",
              "<body>\n",
              "    <div>\n",
              "            <script src=\"https://cdnjs.cloudflare.com/ajax/libs/mathjax/2.7.5/MathJax.js?config=TeX-AMS-MML_SVG\"></script><script type=\"text/javascript\">if (window.MathJax) {MathJax.Hub.Config({SVG: {font: \"STIX-Web\"}});}</script>\n",
              "                <script type=\"text/javascript\">window.PlotlyConfig = {MathJaxConfig: 'local'};</script>\n",
              "        <script src=\"https://cdn.plot.ly/plotly-latest.min.js\"></script>    \n",
              "            <div id=\"a5ca2d14-8b3b-439f-8a6c-e542330e449c\" class=\"plotly-graph-div\" style=\"height:800px; width:100%;\"></div>\n",
              "            <script type=\"text/javascript\">\n",
              "                \n",
              "                    window.PLOTLYENV=window.PLOTLYENV || {};\n",
              "                    \n",
              "                if (document.getElementById(\"a5ca2d14-8b3b-439f-8a6c-e542330e449c\")) {\n",
              "                    Plotly.newPlot(\n",
              "                        'a5ca2d14-8b3b-439f-8a6c-e542330e449c',\n",
              "                        [{\"marker\": {\"colorscale\": [[0.0, \"rgb(247,252,245)\"], [0.125, \"rgb(229,245,224)\"], [0.25, \"rgb(199,233,192)\"], [0.375, \"rgb(161,217,155)\"], [0.5, \"rgb(116,196,118)\"], [0.625, \"rgb(65,171,93)\"], [0.75, \"rgb(35,139,69)\"], [0.875, \"rgb(0,109,44)\"], [1.0, \"rgb(0,68,27)\"]]}, \"type\": \"bar\", \"x\": [\"Employed full-time\", \"Student\", \"Independent contractor, freelancer, or self-employed\", \"Not employed, but looking for work\", \"Employed part-time\", \"Not employed, and not looking for work\", \"Retired\"], \"y\": [45672, 7879, 5723, 2377, 2234, 324, 252]}],\n",
              "                        {\"height\": 800, \"template\": {\"data\": {\"bar\": [{\"error_x\": {\"color\": \"#2a3f5f\"}, \"error_y\": {\"color\": \"#2a3f5f\"}, \"marker\": {\"line\": {\"color\": \"#E5ECF6\", \"width\": 0.5}}, \"type\": \"bar\"}], \"barpolar\": [{\"marker\": {\"line\": {\"color\": \"#E5ECF6\", \"width\": 0.5}}, \"type\": \"barpolar\"}], \"carpet\": [{\"aaxis\": {\"endlinecolor\": \"#2a3f5f\", \"gridcolor\": \"white\", \"linecolor\": \"white\", \"minorgridcolor\": \"white\", \"startlinecolor\": \"#2a3f5f\"}, \"baxis\": {\"endlinecolor\": \"#2a3f5f\", \"gridcolor\": \"white\", \"linecolor\": \"white\", \"minorgridcolor\": \"white\", \"startlinecolor\": \"#2a3f5f\"}, \"type\": \"carpet\"}], \"choropleth\": [{\"colorbar\": {\"outlinewidth\": 0, \"ticks\": \"\"}, \"type\": \"choropleth\"}], \"contour\": [{\"colorbar\": {\"outlinewidth\": 0, \"ticks\": \"\"}, \"colorscale\": [[0.0, \"#0d0887\"], [0.1111111111111111, \"#46039f\"], [0.2222222222222222, \"#7201a8\"], [0.3333333333333333, \"#9c179e\"], [0.4444444444444444, \"#bd3786\"], [0.5555555555555556, \"#d8576b\"], [0.6666666666666666, \"#ed7953\"], [0.7777777777777778, \"#fb9f3a\"], [0.8888888888888888, \"#fdca26\"], [1.0, \"#f0f921\"]], \"type\": \"contour\"}], \"contourcarpet\": [{\"colorbar\": {\"outlinewidth\": 0, \"ticks\": \"\"}, \"type\": \"contourcarpet\"}], \"heatmap\": [{\"colorbar\": {\"outlinewidth\": 0, \"ticks\": \"\"}, \"colorscale\": [[0.0, \"#0d0887\"], [0.1111111111111111, \"#46039f\"], [0.2222222222222222, \"#7201a8\"], [0.3333333333333333, \"#9c179e\"], [0.4444444444444444, \"#bd3786\"], [0.5555555555555556, \"#d8576b\"], [0.6666666666666666, \"#ed7953\"], [0.7777777777777778, \"#fb9f3a\"], [0.8888888888888888, \"#fdca26\"], [1.0, \"#f0f921\"]], \"type\": \"heatmap\"}], \"heatmapgl\": [{\"colorbar\": {\"outlinewidth\": 0, \"ticks\": \"\"}, \"colorscale\": [[0.0, \"#0d0887\"], [0.1111111111111111, \"#46039f\"], [0.2222222222222222, \"#7201a8\"], [0.3333333333333333, \"#9c179e\"], [0.4444444444444444, \"#bd3786\"], [0.5555555555555556, \"#d8576b\"], [0.6666666666666666, \"#ed7953\"], [0.7777777777777778, \"#fb9f3a\"], [0.8888888888888888, \"#fdca26\"], [1.0, \"#f0f921\"]], \"type\": \"heatmapgl\"}], \"histogram\": [{\"marker\": {\"colorbar\": {\"outlinewidth\": 0, \"ticks\": \"\"}}, \"type\": \"histogram\"}], \"histogram2d\": [{\"colorbar\": {\"outlinewidth\": 0, \"ticks\": \"\"}, \"colorscale\": [[0.0, \"#0d0887\"], [0.1111111111111111, \"#46039f\"], [0.2222222222222222, \"#7201a8\"], [0.3333333333333333, \"#9c179e\"], [0.4444444444444444, \"#bd3786\"], [0.5555555555555556, \"#d8576b\"], [0.6666666666666666, \"#ed7953\"], [0.7777777777777778, \"#fb9f3a\"], [0.8888888888888888, \"#fdca26\"], [1.0, \"#f0f921\"]], \"type\": \"histogram2d\"}], \"histogram2dcontour\": [{\"colorbar\": {\"outlinewidth\": 0, \"ticks\": \"\"}, \"colorscale\": [[0.0, \"#0d0887\"], [0.1111111111111111, \"#46039f\"], [0.2222222222222222, \"#7201a8\"], [0.3333333333333333, \"#9c179e\"], [0.4444444444444444, \"#bd3786\"], [0.5555555555555556, \"#d8576b\"], [0.6666666666666666, \"#ed7953\"], [0.7777777777777778, \"#fb9f3a\"], [0.8888888888888888, \"#fdca26\"], [1.0, \"#f0f921\"]], \"type\": \"histogram2dcontour\"}], \"mesh3d\": [{\"colorbar\": {\"outlinewidth\": 0, \"ticks\": \"\"}, \"type\": \"mesh3d\"}], \"parcoords\": [{\"line\": {\"colorbar\": {\"outlinewidth\": 0, \"ticks\": \"\"}}, \"type\": \"parcoords\"}], \"pie\": [{\"automargin\": true, \"type\": \"pie\"}], \"scatter\": [{\"marker\": {\"colorbar\": {\"outlinewidth\": 0, \"ticks\": \"\"}}, \"type\": \"scatter\"}], \"scatter3d\": [{\"line\": {\"colorbar\": {\"outlinewidth\": 0, \"ticks\": \"\"}}, \"marker\": {\"colorbar\": {\"outlinewidth\": 0, \"ticks\": \"\"}}, \"type\": \"scatter3d\"}], \"scattercarpet\": [{\"marker\": {\"colorbar\": {\"outlinewidth\": 0, \"ticks\": \"\"}}, \"type\": \"scattercarpet\"}], \"scattergeo\": [{\"marker\": {\"colorbar\": {\"outlinewidth\": 0, \"ticks\": \"\"}}, \"type\": \"scattergeo\"}], \"scattergl\": [{\"marker\": {\"colorbar\": {\"outlinewidth\": 0, \"ticks\": \"\"}}, \"type\": \"scattergl\"}], \"scattermapbox\": [{\"marker\": {\"colorbar\": {\"outlinewidth\": 0, \"ticks\": \"\"}}, \"type\": \"scattermapbox\"}], \"scatterpolar\": [{\"marker\": {\"colorbar\": {\"outlinewidth\": 0, \"ticks\": \"\"}}, \"type\": \"scatterpolar\"}], \"scatterpolargl\": [{\"marker\": {\"colorbar\": {\"outlinewidth\": 0, \"ticks\": \"\"}}, \"type\": \"scatterpolargl\"}], \"scatterternary\": [{\"marker\": {\"colorbar\": {\"outlinewidth\": 0, \"ticks\": \"\"}}, \"type\": \"scatterternary\"}], \"surface\": [{\"colorbar\": {\"outlinewidth\": 0, \"ticks\": \"\"}, \"colorscale\": [[0.0, \"#0d0887\"], [0.1111111111111111, \"#46039f\"], [0.2222222222222222, \"#7201a8\"], [0.3333333333333333, \"#9c179e\"], [0.4444444444444444, \"#bd3786\"], [0.5555555555555556, \"#d8576b\"], [0.6666666666666666, \"#ed7953\"], [0.7777777777777778, \"#fb9f3a\"], [0.8888888888888888, \"#fdca26\"], [1.0, \"#f0f921\"]], \"type\": \"surface\"}], \"table\": [{\"cells\": {\"fill\": {\"color\": \"#EBF0F8\"}, \"line\": {\"color\": \"white\"}}, \"header\": {\"fill\": {\"color\": \"#C8D4E3\"}, \"line\": {\"color\": \"white\"}}, \"type\": \"table\"}]}, \"layout\": {\"annotationdefaults\": {\"arrowcolor\": \"#2a3f5f\", \"arrowhead\": 0, \"arrowwidth\": 1}, \"coloraxis\": {\"colorbar\": {\"outlinewidth\": 0, \"ticks\": \"\"}}, \"colorscale\": {\"diverging\": [[0, \"#8e0152\"], [0.1, \"#c51b7d\"], [0.2, \"#de77ae\"], [0.3, \"#f1b6da\"], [0.4, \"#fde0ef\"], [0.5, \"#f7f7f7\"], [0.6, \"#e6f5d0\"], [0.7, \"#b8e186\"], [0.8, \"#7fbc41\"], [0.9, \"#4d9221\"], [1, \"#276419\"]], \"sequential\": [[0.0, \"#0d0887\"], [0.1111111111111111, \"#46039f\"], [0.2222222222222222, \"#7201a8\"], [0.3333333333333333, \"#9c179e\"], [0.4444444444444444, \"#bd3786\"], [0.5555555555555556, \"#d8576b\"], [0.6666666666666666, \"#ed7953\"], [0.7777777777777778, \"#fb9f3a\"], [0.8888888888888888, \"#fdca26\"], [1.0, \"#f0f921\"]], \"sequentialminus\": [[0.0, \"#0d0887\"], [0.1111111111111111, \"#46039f\"], [0.2222222222222222, \"#7201a8\"], [0.3333333333333333, \"#9c179e\"], [0.4444444444444444, \"#bd3786\"], [0.5555555555555556, \"#d8576b\"], [0.6666666666666666, \"#ed7953\"], [0.7777777777777778, \"#fb9f3a\"], [0.8888888888888888, \"#fdca26\"], [1.0, \"#f0f921\"]]}, \"colorway\": [\"#636efa\", \"#EF553B\", \"#00cc96\", \"#ab63fa\", \"#FFA15A\", \"#19d3f3\", \"#FF6692\", \"#B6E880\", \"#FF97FF\", \"#FECB52\"], \"font\": {\"color\": \"#2a3f5f\"}, \"geo\": {\"bgcolor\": \"white\", \"lakecolor\": \"white\", \"landcolor\": \"#E5ECF6\", \"showlakes\": true, \"showland\": true, \"subunitcolor\": \"white\"}, \"hoverlabel\": {\"align\": \"left\"}, \"hovermode\": \"closest\", \"mapbox\": {\"style\": \"light\"}, \"paper_bgcolor\": \"white\", \"plot_bgcolor\": \"#E5ECF6\", \"polar\": {\"angularaxis\": {\"gridcolor\": \"white\", \"linecolor\": \"white\", \"ticks\": \"\"}, \"bgcolor\": \"#E5ECF6\", \"radialaxis\": {\"gridcolor\": \"white\", \"linecolor\": \"white\", \"ticks\": \"\"}}, \"scene\": {\"xaxis\": {\"backgroundcolor\": \"#E5ECF6\", \"gridcolor\": \"white\", \"gridwidth\": 2, \"linecolor\": \"white\", \"showbackground\": true, \"ticks\": \"\", \"zerolinecolor\": \"white\"}, \"yaxis\": {\"backgroundcolor\": \"#E5ECF6\", \"gridcolor\": \"white\", \"gridwidth\": 2, \"linecolor\": \"white\", \"showbackground\": true, \"ticks\": \"\", \"zerolinecolor\": \"white\"}, \"zaxis\": {\"backgroundcolor\": \"#E5ECF6\", \"gridcolor\": \"white\", \"gridwidth\": 2, \"linecolor\": \"white\", \"showbackground\": true, \"ticks\": \"\", \"zerolinecolor\": \"white\"}}, \"shapedefaults\": {\"line\": {\"color\": \"#2a3f5f\"}}, \"ternary\": {\"aaxis\": {\"gridcolor\": \"white\", \"linecolor\": \"white\", \"ticks\": \"\"}, \"baxis\": {\"gridcolor\": \"white\", \"linecolor\": \"white\", \"ticks\": \"\"}, \"bgcolor\": \"#E5ECF6\", \"caxis\": {\"gridcolor\": \"white\", \"linecolor\": \"white\", \"ticks\": \"\"}}, \"title\": {\"x\": 0.05}, \"xaxis\": {\"automargin\": true, \"gridcolor\": \"white\", \"linecolor\": \"white\", \"ticks\": \"\", \"title\": {\"standoff\": 15}, \"zerolinecolor\": \"white\", \"zerolinewidth\": 2}, \"yaxis\": {\"automargin\": true, \"gridcolor\": \"white\", \"linecolor\": \"white\", \"ticks\": \"\", \"title\": {\"standoff\": 15}, \"zerolinecolor\": \"white\", \"zerolinewidth\": 2}}}, \"title\": {\"text\": \"Who Took the Surveys?\"}},\n",
              "                        {\"responsive\": true}\n",
              "                    ).then(function(){\n",
              "                            \n",
              "var gd = document.getElementById('a5ca2d14-8b3b-439f-8a6c-e542330e449c');\n",
              "var x = new MutationObserver(function (mutations, observer) {{\n",
              "        var display = window.getComputedStyle(gd).display;\n",
              "        if (!display || display === 'none') {{\n",
              "            console.log([gd, 'removed!']);\n",
              "            Plotly.purge(gd);\n",
              "            observer.disconnect();\n",
              "        }}\n",
              "}});\n",
              "\n",
              "// Listen for the removal of the full notebook cells\n",
              "var notebookContainer = gd.closest('#notebook-container');\n",
              "if (notebookContainer) {{\n",
              "    x.observe(notebookContainer, {childList: true});\n",
              "}}\n",
              "\n",
              "// Listen for the clearing of the current output cell\n",
              "var outputEl = gd.closest('.output');\n",
              "if (outputEl) {{\n",
              "    x.observe(outputEl, {childList: true});\n",
              "}}\n",
              "\n",
              "                        })\n",
              "                };\n",
              "                \n",
              "            </script>\n",
              "        </div>\n",
              "</body>\n",
              "</html>"
            ]
          },
          "metadata": {
            "tags": []
          }
        }
      ]
    },
    {
      "cell_type": "code",
      "metadata": {
        "id": "KUFzKqeRS9_F",
        "outputId": "abd69e11-6a6d-4f49-e85f-191ea59a04db",
        "colab": {
          "base_uri": "https://localhost:8080/"
        }
      },
      "source": [
        "temp = df.OrgSize.value_counts(dropna = False)\n",
        "labels = temp.index\n",
        "values = temp.values\n",
        "\n",
        "colors = ['gold', 'lightgreen']\n",
        "# Use `hole` to create a donut-like pie chart\n",
        "fig = go.Figure(data=[go.Pie(labels=labels, values=values, hole=.3)])\n",
        "\n",
        "fig.update_traces(hoverinfo='label+value', textinfo='percent', textfont_size=20,\n",
        "                  marker=dict(colors=colors, line=dict(color='#000000', width=2)))\n",
        "# fig.update_layout(template = 'plotly_dark')\n",
        "fig.show()"
      ],
      "execution_count": null,
      "outputs": [
        {
          "output_type": "display_data",
          "data": {
            "text/html": [
              "<html>\n",
              "<head><meta charset=\"utf-8\" /></head>\n",
              "<body>\n",
              "    <div>\n",
              "            <script src=\"https://cdnjs.cloudflare.com/ajax/libs/mathjax/2.7.5/MathJax.js?config=TeX-AMS-MML_SVG\"></script><script type=\"text/javascript\">if (window.MathJax) {MathJax.Hub.Config({SVG: {font: \"STIX-Web\"}});}</script>\n",
              "                <script type=\"text/javascript\">window.PlotlyConfig = {MathJaxConfig: 'local'};</script>\n",
              "        <script src=\"https://cdn.plot.ly/plotly-latest.min.js\"></script>    \n",
              "            <div id=\"fe6e381e-cab6-4667-9719-297e45fe4cbf\" class=\"plotly-graph-div\" style=\"height:525px; width:100%;\"></div>\n",
              "            <script type=\"text/javascript\">\n",
              "                \n",
              "                    window.PLOTLYENV=window.PLOTLYENV || {};\n",
              "                    \n",
              "                if (document.getElementById(\"fe6e381e-cab6-4667-9719-297e45fe4cbf\")) {\n",
              "                    Plotly.newPlot(\n",
              "                        'fe6e381e-cab6-4667-9719-297e45fe4cbf',\n",
              "                        [{\"hole\": 0.3, \"hoverinfo\": \"label+value\", \"labels\": [\"20 to 99 employees\", \"100 to 499 employees\", \"10,000 or more employees\", \"1,000 to 4,999 employees\", \"2 to 9 employees\", \"10 to 19 employees\", \"500 to 999 employees\", \"Just me - I am a freelancer, sole proprietor, etc.\", \"5,000 to 9,999 employees\"], \"marker\": {\"colors\": [\"gold\", \"lightgreen\"], \"line\": {\"color\": \"#000000\", \"width\": 2}}, \"textfont\": {\"size\": 20}, \"textinfo\": \"percent\", \"type\": \"pie\", \"values\": [14105, 12014, 8761, 6975, 6406, 6116, 4207, 3266, 2611]}],\n",
              "                        {\"template\": {\"data\": {\"bar\": [{\"error_x\": {\"color\": \"#2a3f5f\"}, \"error_y\": {\"color\": \"#2a3f5f\"}, \"marker\": {\"line\": {\"color\": \"#E5ECF6\", \"width\": 0.5}}, \"type\": \"bar\"}], \"barpolar\": [{\"marker\": {\"line\": {\"color\": \"#E5ECF6\", \"width\": 0.5}}, \"type\": \"barpolar\"}], \"carpet\": [{\"aaxis\": {\"endlinecolor\": \"#2a3f5f\", \"gridcolor\": \"white\", \"linecolor\": \"white\", \"minorgridcolor\": \"white\", \"startlinecolor\": \"#2a3f5f\"}, \"baxis\": {\"endlinecolor\": \"#2a3f5f\", \"gridcolor\": \"white\", \"linecolor\": \"white\", \"minorgridcolor\": \"white\", \"startlinecolor\": \"#2a3f5f\"}, \"type\": \"carpet\"}], \"choropleth\": [{\"colorbar\": {\"outlinewidth\": 0, \"ticks\": \"\"}, \"type\": \"choropleth\"}], \"contour\": [{\"colorbar\": {\"outlinewidth\": 0, \"ticks\": \"\"}, \"colorscale\": [[0.0, \"#0d0887\"], [0.1111111111111111, \"#46039f\"], [0.2222222222222222, \"#7201a8\"], [0.3333333333333333, \"#9c179e\"], [0.4444444444444444, \"#bd3786\"], [0.5555555555555556, \"#d8576b\"], [0.6666666666666666, \"#ed7953\"], [0.7777777777777778, \"#fb9f3a\"], [0.8888888888888888, \"#fdca26\"], [1.0, \"#f0f921\"]], \"type\": \"contour\"}], \"contourcarpet\": [{\"colorbar\": {\"outlinewidth\": 0, \"ticks\": \"\"}, \"type\": \"contourcarpet\"}], \"heatmap\": [{\"colorbar\": {\"outlinewidth\": 0, \"ticks\": \"\"}, \"colorscale\": [[0.0, \"#0d0887\"], [0.1111111111111111, \"#46039f\"], [0.2222222222222222, \"#7201a8\"], [0.3333333333333333, \"#9c179e\"], [0.4444444444444444, \"#bd3786\"], [0.5555555555555556, \"#d8576b\"], [0.6666666666666666, \"#ed7953\"], [0.7777777777777778, \"#fb9f3a\"], [0.8888888888888888, \"#fdca26\"], [1.0, \"#f0f921\"]], \"type\": \"heatmap\"}], \"heatmapgl\": [{\"colorbar\": {\"outlinewidth\": 0, \"ticks\": \"\"}, \"colorscale\": [[0.0, \"#0d0887\"], [0.1111111111111111, \"#46039f\"], [0.2222222222222222, \"#7201a8\"], [0.3333333333333333, \"#9c179e\"], [0.4444444444444444, \"#bd3786\"], [0.5555555555555556, \"#d8576b\"], [0.6666666666666666, \"#ed7953\"], [0.7777777777777778, \"#fb9f3a\"], [0.8888888888888888, \"#fdca26\"], [1.0, \"#f0f921\"]], \"type\": \"heatmapgl\"}], \"histogram\": [{\"marker\": {\"colorbar\": {\"outlinewidth\": 0, \"ticks\": \"\"}}, \"type\": \"histogram\"}], \"histogram2d\": [{\"colorbar\": {\"outlinewidth\": 0, \"ticks\": \"\"}, \"colorscale\": [[0.0, \"#0d0887\"], [0.1111111111111111, \"#46039f\"], [0.2222222222222222, \"#7201a8\"], [0.3333333333333333, \"#9c179e\"], [0.4444444444444444, \"#bd3786\"], [0.5555555555555556, \"#d8576b\"], [0.6666666666666666, \"#ed7953\"], [0.7777777777777778, \"#fb9f3a\"], [0.8888888888888888, \"#fdca26\"], [1.0, \"#f0f921\"]], \"type\": \"histogram2d\"}], \"histogram2dcontour\": [{\"colorbar\": {\"outlinewidth\": 0, \"ticks\": \"\"}, \"colorscale\": [[0.0, \"#0d0887\"], [0.1111111111111111, \"#46039f\"], [0.2222222222222222, \"#7201a8\"], [0.3333333333333333, \"#9c179e\"], [0.4444444444444444, \"#bd3786\"], [0.5555555555555556, \"#d8576b\"], [0.6666666666666666, \"#ed7953\"], [0.7777777777777778, \"#fb9f3a\"], [0.8888888888888888, \"#fdca26\"], [1.0, \"#f0f921\"]], \"type\": \"histogram2dcontour\"}], \"mesh3d\": [{\"colorbar\": {\"outlinewidth\": 0, \"ticks\": \"\"}, \"type\": \"mesh3d\"}], \"parcoords\": [{\"line\": {\"colorbar\": {\"outlinewidth\": 0, \"ticks\": \"\"}}, \"type\": \"parcoords\"}], \"pie\": [{\"automargin\": true, \"type\": \"pie\"}], \"scatter\": [{\"marker\": {\"colorbar\": {\"outlinewidth\": 0, \"ticks\": \"\"}}, \"type\": \"scatter\"}], \"scatter3d\": [{\"line\": {\"colorbar\": {\"outlinewidth\": 0, \"ticks\": \"\"}}, \"marker\": {\"colorbar\": {\"outlinewidth\": 0, \"ticks\": \"\"}}, \"type\": \"scatter3d\"}], \"scattercarpet\": [{\"marker\": {\"colorbar\": {\"outlinewidth\": 0, \"ticks\": \"\"}}, \"type\": \"scattercarpet\"}], \"scattergeo\": [{\"marker\": {\"colorbar\": {\"outlinewidth\": 0, \"ticks\": \"\"}}, \"type\": \"scattergeo\"}], \"scattergl\": [{\"marker\": {\"colorbar\": {\"outlinewidth\": 0, \"ticks\": \"\"}}, \"type\": \"scattergl\"}], \"scattermapbox\": [{\"marker\": {\"colorbar\": {\"outlinewidth\": 0, \"ticks\": \"\"}}, \"type\": \"scattermapbox\"}], \"scatterpolar\": [{\"marker\": {\"colorbar\": {\"outlinewidth\": 0, \"ticks\": \"\"}}, \"type\": \"scatterpolar\"}], \"scatterpolargl\": [{\"marker\": {\"colorbar\": {\"outlinewidth\": 0, \"ticks\": \"\"}}, \"type\": \"scatterpolargl\"}], \"scatterternary\": [{\"marker\": {\"colorbar\": {\"outlinewidth\": 0, \"ticks\": \"\"}}, \"type\": \"scatterternary\"}], \"surface\": [{\"colorbar\": {\"outlinewidth\": 0, \"ticks\": \"\"}, \"colorscale\": [[0.0, \"#0d0887\"], [0.1111111111111111, \"#46039f\"], [0.2222222222222222, \"#7201a8\"], [0.3333333333333333, \"#9c179e\"], [0.4444444444444444, \"#bd3786\"], [0.5555555555555556, \"#d8576b\"], [0.6666666666666666, \"#ed7953\"], [0.7777777777777778, \"#fb9f3a\"], [0.8888888888888888, \"#fdca26\"], [1.0, \"#f0f921\"]], \"type\": \"surface\"}], \"table\": [{\"cells\": {\"fill\": {\"color\": \"#EBF0F8\"}, \"line\": {\"color\": \"white\"}}, \"header\": {\"fill\": {\"color\": \"#C8D4E3\"}, \"line\": {\"color\": \"white\"}}, \"type\": \"table\"}]}, \"layout\": {\"annotationdefaults\": {\"arrowcolor\": \"#2a3f5f\", \"arrowhead\": 0, \"arrowwidth\": 1}, \"coloraxis\": {\"colorbar\": {\"outlinewidth\": 0, \"ticks\": \"\"}}, \"colorscale\": {\"diverging\": [[0, \"#8e0152\"], [0.1, \"#c51b7d\"], [0.2, \"#de77ae\"], [0.3, \"#f1b6da\"], [0.4, \"#fde0ef\"], [0.5, \"#f7f7f7\"], [0.6, \"#e6f5d0\"], [0.7, \"#b8e186\"], [0.8, \"#7fbc41\"], [0.9, \"#4d9221\"], [1, \"#276419\"]], \"sequential\": [[0.0, \"#0d0887\"], [0.1111111111111111, \"#46039f\"], [0.2222222222222222, \"#7201a8\"], [0.3333333333333333, \"#9c179e\"], [0.4444444444444444, \"#bd3786\"], [0.5555555555555556, \"#d8576b\"], [0.6666666666666666, \"#ed7953\"], [0.7777777777777778, \"#fb9f3a\"], [0.8888888888888888, \"#fdca26\"], [1.0, \"#f0f921\"]], \"sequentialminus\": [[0.0, \"#0d0887\"], [0.1111111111111111, \"#46039f\"], [0.2222222222222222, \"#7201a8\"], [0.3333333333333333, \"#9c179e\"], [0.4444444444444444, \"#bd3786\"], [0.5555555555555556, \"#d8576b\"], [0.6666666666666666, \"#ed7953\"], [0.7777777777777778, \"#fb9f3a\"], [0.8888888888888888, \"#fdca26\"], [1.0, \"#f0f921\"]]}, \"colorway\": [\"#636efa\", \"#EF553B\", \"#00cc96\", \"#ab63fa\", \"#FFA15A\", \"#19d3f3\", \"#FF6692\", \"#B6E880\", \"#FF97FF\", \"#FECB52\"], \"font\": {\"color\": \"#2a3f5f\"}, \"geo\": {\"bgcolor\": \"white\", \"lakecolor\": \"white\", \"landcolor\": \"#E5ECF6\", \"showlakes\": true, \"showland\": true, \"subunitcolor\": \"white\"}, \"hoverlabel\": {\"align\": \"left\"}, \"hovermode\": \"closest\", \"mapbox\": {\"style\": \"light\"}, \"paper_bgcolor\": \"white\", \"plot_bgcolor\": \"#E5ECF6\", \"polar\": {\"angularaxis\": {\"gridcolor\": \"white\", \"linecolor\": \"white\", \"ticks\": \"\"}, \"bgcolor\": \"#E5ECF6\", \"radialaxis\": {\"gridcolor\": \"white\", \"linecolor\": \"white\", \"ticks\": \"\"}}, \"scene\": {\"xaxis\": {\"backgroundcolor\": \"#E5ECF6\", \"gridcolor\": \"white\", \"gridwidth\": 2, \"linecolor\": \"white\", \"showbackground\": true, \"ticks\": \"\", \"zerolinecolor\": \"white\"}, \"yaxis\": {\"backgroundcolor\": \"#E5ECF6\", \"gridcolor\": \"white\", \"gridwidth\": 2, \"linecolor\": \"white\", \"showbackground\": true, \"ticks\": \"\", \"zerolinecolor\": \"white\"}, \"zaxis\": {\"backgroundcolor\": \"#E5ECF6\", \"gridcolor\": \"white\", \"gridwidth\": 2, \"linecolor\": \"white\", \"showbackground\": true, \"ticks\": \"\", \"zerolinecolor\": \"white\"}}, \"shapedefaults\": {\"line\": {\"color\": \"#2a3f5f\"}}, \"ternary\": {\"aaxis\": {\"gridcolor\": \"white\", \"linecolor\": \"white\", \"ticks\": \"\"}, \"baxis\": {\"gridcolor\": \"white\", \"linecolor\": \"white\", \"ticks\": \"\"}, \"bgcolor\": \"#E5ECF6\", \"caxis\": {\"gridcolor\": \"white\", \"linecolor\": \"white\", \"ticks\": \"\"}}, \"title\": {\"x\": 0.05}, \"xaxis\": {\"automargin\": true, \"gridcolor\": \"white\", \"linecolor\": \"white\", \"ticks\": \"\", \"title\": {\"standoff\": 15}, \"zerolinecolor\": \"white\", \"zerolinewidth\": 2}, \"yaxis\": {\"automargin\": true, \"gridcolor\": \"white\", \"linecolor\": \"white\", \"ticks\": \"\", \"title\": {\"standoff\": 15}, \"zerolinecolor\": \"white\", \"zerolinewidth\": 2}}}},\n",
              "                        {\"responsive\": true}\n",
              "                    ).then(function(){\n",
              "                            \n",
              "var gd = document.getElementById('fe6e381e-cab6-4667-9719-297e45fe4cbf');\n",
              "var x = new MutationObserver(function (mutations, observer) {{\n",
              "        var display = window.getComputedStyle(gd).display;\n",
              "        if (!display || display === 'none') {{\n",
              "            console.log([gd, 'removed!']);\n",
              "            Plotly.purge(gd);\n",
              "            observer.disconnect();\n",
              "        }}\n",
              "}});\n",
              "\n",
              "// Listen for the removal of the full notebook cells\n",
              "var notebookContainer = gd.closest('#notebook-container');\n",
              "if (notebookContainer) {{\n",
              "    x.observe(notebookContainer, {childList: true});\n",
              "}}\n",
              "\n",
              "// Listen for the clearing of the current output cell\n",
              "var outputEl = gd.closest('.output');\n",
              "if (outputEl) {{\n",
              "    x.observe(outputEl, {childList: true});\n",
              "}}\n",
              "\n",
              "                        })\n",
              "                };\n",
              "                \n",
              "            </script>\n",
              "        </div>\n",
              "</body>\n",
              "</html>"
            ]
          },
          "metadata": {
            "tags": []
          }
        }
      ]
    },
    {
      "cell_type": "code",
      "metadata": {
        "id": "ky_AmduyTgss",
        "outputId": "7ecddd46-6239-4e52-fcb9-817f0596fc73",
        "colab": {
          "base_uri": "https://localhost:8080/"
        }
      },
      "source": [
        "temp = pd.DataFrame(df.PlatformWorkedWith.dropna().str.split(';').tolist()).stack().value_counts().sort_values(ascending = True)\n",
        "\n",
        "trace = go.Bar(\n",
        "    x = temp.values,\n",
        "    y = temp.index,\n",
        "    orientation = 'h',\n",
        "    marker = dict(\n",
        "        color = 'rgba(50, 205, 50, 0.6)',\n",
        "        line = dict(\n",
        "            color = 'rgba(0, 0, 0, 1.0)',\n",
        "            width = 2))\n",
        "\n",
        ")\n",
        "layout = dict(\n",
        "    title = 'What Platform did They Work With?',\n",
        "    height = 1000,\n",
        "    #xaxis = '# of Participants',\n",
        "    margin = dict(\n",
        "        l=210,\n",
        "    )\n",
        ")\n",
        "data =[trace]\n",
        "fig = go.Figure(data = data, layout = layout)\n",
        "fig.show()"
      ],
      "execution_count": null,
      "outputs": [
        {
          "output_type": "display_data",
          "data": {
            "text/html": [
              "<html>\n",
              "<head><meta charset=\"utf-8\" /></head>\n",
              "<body>\n",
              "    <div>\n",
              "            <script src=\"https://cdnjs.cloudflare.com/ajax/libs/mathjax/2.7.5/MathJax.js?config=TeX-AMS-MML_SVG\"></script><script type=\"text/javascript\">if (window.MathJax) {MathJax.Hub.Config({SVG: {font: \"STIX-Web\"}});}</script>\n",
              "                <script type=\"text/javascript\">window.PlotlyConfig = {MathJaxConfig: 'local'};</script>\n",
              "        <script src=\"https://cdn.plot.ly/plotly-latest.min.js\"></script>    \n",
              "            <div id=\"0c3c8f6e-21e0-4b26-8d99-27225a2a7694\" class=\"plotly-graph-div\" style=\"height:1000px; width:100%;\"></div>\n",
              "            <script type=\"text/javascript\">\n",
              "                \n",
              "                    window.PLOTLYENV=window.PLOTLYENV || {};\n",
              "                    \n",
              "                if (document.getElementById(\"0c3c8f6e-21e0-4b26-8d99-27225a2a7694\")) {\n",
              "                    Plotly.newPlot(\n",
              "                        '0c3c8f6e-21e0-4b26-8d99-27225a2a7694',\n",
              "                        [{\"marker\": {\"color\": \"rgba(50, 205, 50, 0.6)\", \"line\": {\"color\": \"rgba(0, 0, 0, 1.0)\", \"width\": 2}}, \"orientation\": \"h\", \"type\": \"bar\", \"x\": [1061, 4769, 6884, 7203, 7327, 7870, 9173, 9223, 9249, 9555, 15355, 17072, 17073, 22318, 34203, 35243], \"y\": [\"IBM Cloud or Watson\", \"Slack Apps and Integrations\", \"Arduino\", \"Heroku\", \"Kubernetes\", \"iOS\", \"Google Cloud Platform\", \"Microsoft Azure\", \"WordPress\", \"Raspberry Pi\", \"MacOS\", \"AWS\", \"Android\", \"Docker\", \"Windows\", \"Linux\"]}],\n",
              "                        {\"height\": 1000, \"margin\": {\"l\": 210}, \"template\": {\"data\": {\"bar\": [{\"error_x\": {\"color\": \"#2a3f5f\"}, \"error_y\": {\"color\": \"#2a3f5f\"}, \"marker\": {\"line\": {\"color\": \"#E5ECF6\", \"width\": 0.5}}, \"type\": \"bar\"}], \"barpolar\": [{\"marker\": {\"line\": {\"color\": \"#E5ECF6\", \"width\": 0.5}}, \"type\": \"barpolar\"}], \"carpet\": [{\"aaxis\": {\"endlinecolor\": \"#2a3f5f\", \"gridcolor\": \"white\", \"linecolor\": \"white\", \"minorgridcolor\": \"white\", \"startlinecolor\": \"#2a3f5f\"}, \"baxis\": {\"endlinecolor\": \"#2a3f5f\", \"gridcolor\": \"white\", \"linecolor\": \"white\", \"minorgridcolor\": \"white\", \"startlinecolor\": \"#2a3f5f\"}, \"type\": \"carpet\"}], \"choropleth\": [{\"colorbar\": {\"outlinewidth\": 0, \"ticks\": \"\"}, \"type\": \"choropleth\"}], \"contour\": [{\"colorbar\": {\"outlinewidth\": 0, \"ticks\": \"\"}, \"colorscale\": [[0.0, \"#0d0887\"], [0.1111111111111111, \"#46039f\"], [0.2222222222222222, \"#7201a8\"], [0.3333333333333333, \"#9c179e\"], [0.4444444444444444, \"#bd3786\"], [0.5555555555555556, \"#d8576b\"], [0.6666666666666666, \"#ed7953\"], [0.7777777777777778, \"#fb9f3a\"], [0.8888888888888888, \"#fdca26\"], [1.0, \"#f0f921\"]], \"type\": \"contour\"}], \"contourcarpet\": [{\"colorbar\": {\"outlinewidth\": 0, \"ticks\": \"\"}, \"type\": \"contourcarpet\"}], \"heatmap\": [{\"colorbar\": {\"outlinewidth\": 0, \"ticks\": \"\"}, \"colorscale\": [[0.0, \"#0d0887\"], [0.1111111111111111, \"#46039f\"], [0.2222222222222222, \"#7201a8\"], [0.3333333333333333, \"#9c179e\"], [0.4444444444444444, \"#bd3786\"], [0.5555555555555556, \"#d8576b\"], [0.6666666666666666, \"#ed7953\"], [0.7777777777777778, \"#fb9f3a\"], [0.8888888888888888, \"#fdca26\"], [1.0, \"#f0f921\"]], \"type\": \"heatmap\"}], \"heatmapgl\": [{\"colorbar\": {\"outlinewidth\": 0, \"ticks\": \"\"}, \"colorscale\": [[0.0, \"#0d0887\"], [0.1111111111111111, \"#46039f\"], [0.2222222222222222, \"#7201a8\"], [0.3333333333333333, \"#9c179e\"], [0.4444444444444444, \"#bd3786\"], [0.5555555555555556, \"#d8576b\"], [0.6666666666666666, \"#ed7953\"], [0.7777777777777778, \"#fb9f3a\"], [0.8888888888888888, \"#fdca26\"], [1.0, \"#f0f921\"]], \"type\": \"heatmapgl\"}], \"histogram\": [{\"marker\": {\"colorbar\": {\"outlinewidth\": 0, \"ticks\": \"\"}}, \"type\": \"histogram\"}], \"histogram2d\": [{\"colorbar\": {\"outlinewidth\": 0, \"ticks\": \"\"}, \"colorscale\": [[0.0, \"#0d0887\"], [0.1111111111111111, \"#46039f\"], [0.2222222222222222, \"#7201a8\"], [0.3333333333333333, \"#9c179e\"], [0.4444444444444444, \"#bd3786\"], [0.5555555555555556, \"#d8576b\"], [0.6666666666666666, \"#ed7953\"], [0.7777777777777778, \"#fb9f3a\"], [0.8888888888888888, \"#fdca26\"], [1.0, \"#f0f921\"]], \"type\": \"histogram2d\"}], \"histogram2dcontour\": [{\"colorbar\": {\"outlinewidth\": 0, \"ticks\": \"\"}, \"colorscale\": [[0.0, \"#0d0887\"], [0.1111111111111111, \"#46039f\"], [0.2222222222222222, \"#7201a8\"], [0.3333333333333333, \"#9c179e\"], [0.4444444444444444, \"#bd3786\"], [0.5555555555555556, \"#d8576b\"], [0.6666666666666666, \"#ed7953\"], [0.7777777777777778, \"#fb9f3a\"], [0.8888888888888888, \"#fdca26\"], [1.0, \"#f0f921\"]], \"type\": \"histogram2dcontour\"}], \"mesh3d\": [{\"colorbar\": {\"outlinewidth\": 0, \"ticks\": \"\"}, \"type\": \"mesh3d\"}], \"parcoords\": [{\"line\": {\"colorbar\": {\"outlinewidth\": 0, \"ticks\": \"\"}}, \"type\": \"parcoords\"}], \"pie\": [{\"automargin\": true, \"type\": \"pie\"}], \"scatter\": [{\"marker\": {\"colorbar\": {\"outlinewidth\": 0, \"ticks\": \"\"}}, \"type\": \"scatter\"}], \"scatter3d\": [{\"line\": {\"colorbar\": {\"outlinewidth\": 0, \"ticks\": \"\"}}, \"marker\": {\"colorbar\": {\"outlinewidth\": 0, \"ticks\": \"\"}}, \"type\": \"scatter3d\"}], \"scattercarpet\": [{\"marker\": {\"colorbar\": {\"outlinewidth\": 0, \"ticks\": \"\"}}, \"type\": \"scattercarpet\"}], \"scattergeo\": [{\"marker\": {\"colorbar\": {\"outlinewidth\": 0, \"ticks\": \"\"}}, \"type\": \"scattergeo\"}], \"scattergl\": [{\"marker\": {\"colorbar\": {\"outlinewidth\": 0, \"ticks\": \"\"}}, \"type\": \"scattergl\"}], \"scattermapbox\": [{\"marker\": {\"colorbar\": {\"outlinewidth\": 0, \"ticks\": \"\"}}, \"type\": \"scattermapbox\"}], \"scatterpolar\": [{\"marker\": {\"colorbar\": {\"outlinewidth\": 0, \"ticks\": \"\"}}, \"type\": \"scatterpolar\"}], \"scatterpolargl\": [{\"marker\": {\"colorbar\": {\"outlinewidth\": 0, \"ticks\": \"\"}}, \"type\": \"scatterpolargl\"}], \"scatterternary\": [{\"marker\": {\"colorbar\": {\"outlinewidth\": 0, \"ticks\": \"\"}}, \"type\": \"scatterternary\"}], \"surface\": [{\"colorbar\": {\"outlinewidth\": 0, \"ticks\": \"\"}, \"colorscale\": [[0.0, \"#0d0887\"], [0.1111111111111111, \"#46039f\"], [0.2222222222222222, \"#7201a8\"], [0.3333333333333333, \"#9c179e\"], [0.4444444444444444, \"#bd3786\"], [0.5555555555555556, \"#d8576b\"], [0.6666666666666666, \"#ed7953\"], [0.7777777777777778, \"#fb9f3a\"], [0.8888888888888888, \"#fdca26\"], [1.0, \"#f0f921\"]], \"type\": \"surface\"}], \"table\": [{\"cells\": {\"fill\": {\"color\": \"#EBF0F8\"}, \"line\": {\"color\": \"white\"}}, \"header\": {\"fill\": {\"color\": \"#C8D4E3\"}, \"line\": {\"color\": \"white\"}}, \"type\": \"table\"}]}, \"layout\": {\"annotationdefaults\": {\"arrowcolor\": \"#2a3f5f\", \"arrowhead\": 0, \"arrowwidth\": 1}, \"coloraxis\": {\"colorbar\": {\"outlinewidth\": 0, \"ticks\": \"\"}}, \"colorscale\": {\"diverging\": [[0, \"#8e0152\"], [0.1, \"#c51b7d\"], [0.2, \"#de77ae\"], [0.3, \"#f1b6da\"], [0.4, \"#fde0ef\"], [0.5, \"#f7f7f7\"], [0.6, \"#e6f5d0\"], [0.7, \"#b8e186\"], [0.8, \"#7fbc41\"], [0.9, \"#4d9221\"], [1, \"#276419\"]], \"sequential\": [[0.0, \"#0d0887\"], [0.1111111111111111, \"#46039f\"], [0.2222222222222222, \"#7201a8\"], [0.3333333333333333, \"#9c179e\"], [0.4444444444444444, \"#bd3786\"], [0.5555555555555556, \"#d8576b\"], [0.6666666666666666, \"#ed7953\"], [0.7777777777777778, \"#fb9f3a\"], [0.8888888888888888, \"#fdca26\"], [1.0, \"#f0f921\"]], \"sequentialminus\": [[0.0, \"#0d0887\"], [0.1111111111111111, \"#46039f\"], [0.2222222222222222, \"#7201a8\"], [0.3333333333333333, \"#9c179e\"], [0.4444444444444444, \"#bd3786\"], [0.5555555555555556, \"#d8576b\"], [0.6666666666666666, \"#ed7953\"], [0.7777777777777778, \"#fb9f3a\"], [0.8888888888888888, \"#fdca26\"], [1.0, \"#f0f921\"]]}, \"colorway\": [\"#636efa\", \"#EF553B\", \"#00cc96\", \"#ab63fa\", \"#FFA15A\", \"#19d3f3\", \"#FF6692\", \"#B6E880\", \"#FF97FF\", \"#FECB52\"], \"font\": {\"color\": \"#2a3f5f\"}, \"geo\": {\"bgcolor\": \"white\", \"lakecolor\": \"white\", \"landcolor\": \"#E5ECF6\", \"showlakes\": true, \"showland\": true, \"subunitcolor\": \"white\"}, \"hoverlabel\": {\"align\": \"left\"}, \"hovermode\": \"closest\", \"mapbox\": {\"style\": \"light\"}, \"paper_bgcolor\": \"white\", \"plot_bgcolor\": \"#E5ECF6\", \"polar\": {\"angularaxis\": {\"gridcolor\": \"white\", \"linecolor\": \"white\", \"ticks\": \"\"}, \"bgcolor\": \"#E5ECF6\", \"radialaxis\": {\"gridcolor\": \"white\", \"linecolor\": \"white\", \"ticks\": \"\"}}, \"scene\": {\"xaxis\": {\"backgroundcolor\": \"#E5ECF6\", \"gridcolor\": \"white\", \"gridwidth\": 2, \"linecolor\": \"white\", \"showbackground\": true, \"ticks\": \"\", \"zerolinecolor\": \"white\"}, \"yaxis\": {\"backgroundcolor\": \"#E5ECF6\", \"gridcolor\": \"white\", \"gridwidth\": 2, \"linecolor\": \"white\", \"showbackground\": true, \"ticks\": \"\", \"zerolinecolor\": \"white\"}, \"zaxis\": {\"backgroundcolor\": \"#E5ECF6\", \"gridcolor\": \"white\", \"gridwidth\": 2, \"linecolor\": \"white\", \"showbackground\": true, \"ticks\": \"\", \"zerolinecolor\": \"white\"}}, \"shapedefaults\": {\"line\": {\"color\": \"#2a3f5f\"}}, \"ternary\": {\"aaxis\": {\"gridcolor\": \"white\", \"linecolor\": \"white\", \"ticks\": \"\"}, \"baxis\": {\"gridcolor\": \"white\", \"linecolor\": \"white\", \"ticks\": \"\"}, \"bgcolor\": \"#E5ECF6\", \"caxis\": {\"gridcolor\": \"white\", \"linecolor\": \"white\", \"ticks\": \"\"}}, \"title\": {\"x\": 0.05}, \"xaxis\": {\"automargin\": true, \"gridcolor\": \"white\", \"linecolor\": \"white\", \"ticks\": \"\", \"title\": {\"standoff\": 15}, \"zerolinecolor\": \"white\", \"zerolinewidth\": 2}, \"yaxis\": {\"automargin\": true, \"gridcolor\": \"white\", \"linecolor\": \"white\", \"ticks\": \"\", \"title\": {\"standoff\": 15}, \"zerolinecolor\": \"white\", \"zerolinewidth\": 2}}}, \"title\": {\"text\": \"What Platform did They Work With?\"}},\n",
              "                        {\"responsive\": true}\n",
              "                    ).then(function(){\n",
              "                            \n",
              "var gd = document.getElementById('0c3c8f6e-21e0-4b26-8d99-27225a2a7694');\n",
              "var x = new MutationObserver(function (mutations, observer) {{\n",
              "        var display = window.getComputedStyle(gd).display;\n",
              "        if (!display || display === 'none') {{\n",
              "            console.log([gd, 'removed!']);\n",
              "            Plotly.purge(gd);\n",
              "            observer.disconnect();\n",
              "        }}\n",
              "}});\n",
              "\n",
              "// Listen for the removal of the full notebook cells\n",
              "var notebookContainer = gd.closest('#notebook-container');\n",
              "if (notebookContainer) {{\n",
              "    x.observe(notebookContainer, {childList: true});\n",
              "}}\n",
              "\n",
              "// Listen for the clearing of the current output cell\n",
              "var outputEl = gd.closest('.output');\n",
              "if (outputEl) {{\n",
              "    x.observe(outputEl, {childList: true});\n",
              "}}\n",
              "\n",
              "                        })\n",
              "                };\n",
              "                \n",
              "            </script>\n",
              "        </div>\n",
              "</body>\n",
              "</html>"
            ]
          },
          "metadata": {
            "tags": []
          }
        }
      ]
    },
    {
      "cell_type": "code",
      "metadata": {
        "id": "BsuvMdCmUpbo",
        "outputId": "a9e8cc23-d479-4a89-a72b-168829090a02",
        "colab": {
          "base_uri": "https://localhost:8080/"
        }
      },
      "source": [
        "temp = df.YearsCodePro.value_counts(dropna = False)\n",
        "\n",
        "trace = go.Bar(\n",
        "    y = temp.values,\n",
        "    x = temp.index,\n",
        "    marker = dict(\n",
        "        colorscale = 'Greens',\n",
        "        line = dict(\n",
        "            color = 'rgba(0, 0, 0, 1.0)',\n",
        "            width = 2)\n",
        "    )\n",
        "\n",
        ")\n",
        "layout = dict(\n",
        "    title = 'How many years of experience do they have?',\n",
        "    height = 800,\n",
        "    margin = dict(\n",
        "#         l=290,\n",
        "    )\n",
        ")\n",
        "data =[trace]\n",
        "fig = go.Figure(data = data, layout = layout)\n",
        "fig.show()"
      ],
      "execution_count": null,
      "outputs": [
        {
          "output_type": "display_data",
          "data": {
            "text/html": [
              "<html>\n",
              "<head><meta charset=\"utf-8\" /></head>\n",
              "<body>\n",
              "    <div>\n",
              "            <script src=\"https://cdnjs.cloudflare.com/ajax/libs/mathjax/2.7.5/MathJax.js?config=TeX-AMS-MML_SVG\"></script><script type=\"text/javascript\">if (window.MathJax) {MathJax.Hub.Config({SVG: {font: \"STIX-Web\"}});}</script>\n",
              "                <script type=\"text/javascript\">window.PlotlyConfig = {MathJaxConfig: 'local'};</script>\n",
              "        <script src=\"https://cdn.plot.ly/plotly-latest.min.js\"></script>    \n",
              "            <div id=\"f14bc045-7223-4b97-afaf-b82e9f165956\" class=\"plotly-graph-div\" style=\"height:800px; width:100%;\"></div>\n",
              "            <script type=\"text/javascript\">\n",
              "                \n",
              "                    window.PLOTLYENV=window.PLOTLYENV || {};\n",
              "                    \n",
              "                if (document.getElementById(\"f14bc045-7223-4b97-afaf-b82e9f165956\")) {\n",
              "                    Plotly.newPlot(\n",
              "                        'f14bc045-7223-4b97-afaf-b82e9f165956',\n",
              "                        [{\"marker\": {\"colorscale\": [[0.0, \"rgb(247,252,245)\"], [0.125, \"rgb(229,245,224)\"], [0.25, \"rgb(199,233,192)\"], [0.375, \"rgb(161,217,155)\"], [0.5, \"rgb(116,196,118)\"], [0.625, \"rgb(65,171,93)\"], [0.75, \"rgb(35,139,69)\"], [0.875, \"rgb(0,109,44)\"], [1.0, \"rgb(0,68,27)\"]], \"line\": {\"color\": \"rgba(0, 0, 0, 1.0)\", \"width\": 2}}, \"type\": \"bar\", \"x\": [\"2\", \"3\", \"5\", \"4\", \"1\", \"6\", \"10\", \"Less than 1 year\", \"7\", \"8\", \"15\", \"12\", \"20\", \"9\", \"11\", \"13\", \"14\", \"16\", \"25\", \"18\", \"17\", \"22\", \"30\", \"19\", \"21\", \"23\", \"24\", \"26\", \"35\", \"27\", \"28\", \"40\", \"32\", \"33\", \"34\", \"31\", \"29\", \"38\", \"36\", \"37\", \"More than 50 years\", \"39\", \"42\", \"45\", \"41\", \"44\", \"43\", \"50\", \"46\", \"47\", \"48\", \"49\"], \"y\": [6828, 6725, 5580, 5138, 4042, 3804, 3793, 3271, 3066, 3059, 2096, 2019, 1901, 1677, 1301, 1209, 1016, 825, 790, 771, 633, 599, 495, 489, 469, 448, 357, 255, 226, 185, 171, 132, 131, 122, 111, 104, 97, 90, 83, 70, 67, 66, 30, 28, 25, 19, 16, 11, 8, 7, 5, 1]}],\n",
              "                        {\"height\": 800, \"template\": {\"data\": {\"bar\": [{\"error_x\": {\"color\": \"#2a3f5f\"}, \"error_y\": {\"color\": \"#2a3f5f\"}, \"marker\": {\"line\": {\"color\": \"#E5ECF6\", \"width\": 0.5}}, \"type\": \"bar\"}], \"barpolar\": [{\"marker\": {\"line\": {\"color\": \"#E5ECF6\", \"width\": 0.5}}, \"type\": \"barpolar\"}], \"carpet\": [{\"aaxis\": {\"endlinecolor\": \"#2a3f5f\", \"gridcolor\": \"white\", \"linecolor\": \"white\", \"minorgridcolor\": \"white\", \"startlinecolor\": \"#2a3f5f\"}, \"baxis\": {\"endlinecolor\": \"#2a3f5f\", \"gridcolor\": \"white\", \"linecolor\": \"white\", \"minorgridcolor\": \"white\", \"startlinecolor\": \"#2a3f5f\"}, \"type\": \"carpet\"}], \"choropleth\": [{\"colorbar\": {\"outlinewidth\": 0, \"ticks\": \"\"}, \"type\": \"choropleth\"}], \"contour\": [{\"colorbar\": {\"outlinewidth\": 0, \"ticks\": \"\"}, \"colorscale\": [[0.0, \"#0d0887\"], [0.1111111111111111, \"#46039f\"], [0.2222222222222222, \"#7201a8\"], [0.3333333333333333, \"#9c179e\"], [0.4444444444444444, \"#bd3786\"], [0.5555555555555556, \"#d8576b\"], [0.6666666666666666, \"#ed7953\"], [0.7777777777777778, \"#fb9f3a\"], [0.8888888888888888, \"#fdca26\"], [1.0, \"#f0f921\"]], \"type\": \"contour\"}], \"contourcarpet\": [{\"colorbar\": {\"outlinewidth\": 0, \"ticks\": \"\"}, \"type\": \"contourcarpet\"}], \"heatmap\": [{\"colorbar\": {\"outlinewidth\": 0, \"ticks\": \"\"}, \"colorscale\": [[0.0, \"#0d0887\"], [0.1111111111111111, \"#46039f\"], [0.2222222222222222, \"#7201a8\"], [0.3333333333333333, \"#9c179e\"], [0.4444444444444444, \"#bd3786\"], [0.5555555555555556, \"#d8576b\"], [0.6666666666666666, \"#ed7953\"], [0.7777777777777778, \"#fb9f3a\"], [0.8888888888888888, \"#fdca26\"], [1.0, \"#f0f921\"]], \"type\": \"heatmap\"}], \"heatmapgl\": [{\"colorbar\": {\"outlinewidth\": 0, \"ticks\": \"\"}, \"colorscale\": [[0.0, \"#0d0887\"], [0.1111111111111111, \"#46039f\"], [0.2222222222222222, \"#7201a8\"], [0.3333333333333333, \"#9c179e\"], [0.4444444444444444, \"#bd3786\"], [0.5555555555555556, \"#d8576b\"], [0.6666666666666666, \"#ed7953\"], [0.7777777777777778, \"#fb9f3a\"], [0.8888888888888888, \"#fdca26\"], [1.0, \"#f0f921\"]], \"type\": \"heatmapgl\"}], \"histogram\": [{\"marker\": {\"colorbar\": {\"outlinewidth\": 0, \"ticks\": \"\"}}, \"type\": \"histogram\"}], \"histogram2d\": [{\"colorbar\": {\"outlinewidth\": 0, \"ticks\": \"\"}, \"colorscale\": [[0.0, \"#0d0887\"], [0.1111111111111111, \"#46039f\"], [0.2222222222222222, \"#7201a8\"], [0.3333333333333333, \"#9c179e\"], [0.4444444444444444, \"#bd3786\"], [0.5555555555555556, \"#d8576b\"], [0.6666666666666666, \"#ed7953\"], [0.7777777777777778, \"#fb9f3a\"], [0.8888888888888888, \"#fdca26\"], [1.0, \"#f0f921\"]], \"type\": \"histogram2d\"}], \"histogram2dcontour\": [{\"colorbar\": {\"outlinewidth\": 0, \"ticks\": \"\"}, \"colorscale\": [[0.0, \"#0d0887\"], [0.1111111111111111, \"#46039f\"], [0.2222222222222222, \"#7201a8\"], [0.3333333333333333, \"#9c179e\"], [0.4444444444444444, \"#bd3786\"], [0.5555555555555556, \"#d8576b\"], [0.6666666666666666, \"#ed7953\"], [0.7777777777777778, \"#fb9f3a\"], [0.8888888888888888, \"#fdca26\"], [1.0, \"#f0f921\"]], \"type\": \"histogram2dcontour\"}], \"mesh3d\": [{\"colorbar\": {\"outlinewidth\": 0, \"ticks\": \"\"}, \"type\": \"mesh3d\"}], \"parcoords\": [{\"line\": {\"colorbar\": {\"outlinewidth\": 0, \"ticks\": \"\"}}, \"type\": \"parcoords\"}], \"pie\": [{\"automargin\": true, \"type\": \"pie\"}], \"scatter\": [{\"marker\": {\"colorbar\": {\"outlinewidth\": 0, \"ticks\": \"\"}}, \"type\": \"scatter\"}], \"scatter3d\": [{\"line\": {\"colorbar\": {\"outlinewidth\": 0, \"ticks\": \"\"}}, \"marker\": {\"colorbar\": {\"outlinewidth\": 0, \"ticks\": \"\"}}, \"type\": \"scatter3d\"}], \"scattercarpet\": [{\"marker\": {\"colorbar\": {\"outlinewidth\": 0, \"ticks\": \"\"}}, \"type\": \"scattercarpet\"}], \"scattergeo\": [{\"marker\": {\"colorbar\": {\"outlinewidth\": 0, \"ticks\": \"\"}}, \"type\": \"scattergeo\"}], \"scattergl\": [{\"marker\": {\"colorbar\": {\"outlinewidth\": 0, \"ticks\": \"\"}}, \"type\": \"scattergl\"}], \"scattermapbox\": [{\"marker\": {\"colorbar\": {\"outlinewidth\": 0, \"ticks\": \"\"}}, \"type\": \"scattermapbox\"}], \"scatterpolar\": [{\"marker\": {\"colorbar\": {\"outlinewidth\": 0, \"ticks\": \"\"}}, \"type\": \"scatterpolar\"}], \"scatterpolargl\": [{\"marker\": {\"colorbar\": {\"outlinewidth\": 0, \"ticks\": \"\"}}, \"type\": \"scatterpolargl\"}], \"scatterternary\": [{\"marker\": {\"colorbar\": {\"outlinewidth\": 0, \"ticks\": \"\"}}, \"type\": \"scatterternary\"}], \"surface\": [{\"colorbar\": {\"outlinewidth\": 0, \"ticks\": \"\"}, \"colorscale\": [[0.0, \"#0d0887\"], [0.1111111111111111, \"#46039f\"], [0.2222222222222222, \"#7201a8\"], [0.3333333333333333, \"#9c179e\"], [0.4444444444444444, \"#bd3786\"], [0.5555555555555556, \"#d8576b\"], [0.6666666666666666, \"#ed7953\"], [0.7777777777777778, \"#fb9f3a\"], [0.8888888888888888, \"#fdca26\"], [1.0, \"#f0f921\"]], \"type\": \"surface\"}], \"table\": [{\"cells\": {\"fill\": {\"color\": \"#EBF0F8\"}, \"line\": {\"color\": \"white\"}}, \"header\": {\"fill\": {\"color\": \"#C8D4E3\"}, \"line\": {\"color\": \"white\"}}, \"type\": \"table\"}]}, \"layout\": {\"annotationdefaults\": {\"arrowcolor\": \"#2a3f5f\", \"arrowhead\": 0, \"arrowwidth\": 1}, \"coloraxis\": {\"colorbar\": {\"outlinewidth\": 0, \"ticks\": \"\"}}, \"colorscale\": {\"diverging\": [[0, \"#8e0152\"], [0.1, \"#c51b7d\"], [0.2, \"#de77ae\"], [0.3, \"#f1b6da\"], [0.4, \"#fde0ef\"], [0.5, \"#f7f7f7\"], [0.6, \"#e6f5d0\"], [0.7, \"#b8e186\"], [0.8, \"#7fbc41\"], [0.9, \"#4d9221\"], [1, \"#276419\"]], \"sequential\": [[0.0, \"#0d0887\"], [0.1111111111111111, \"#46039f\"], [0.2222222222222222, \"#7201a8\"], [0.3333333333333333, \"#9c179e\"], [0.4444444444444444, \"#bd3786\"], [0.5555555555555556, \"#d8576b\"], [0.6666666666666666, \"#ed7953\"], [0.7777777777777778, \"#fb9f3a\"], [0.8888888888888888, \"#fdca26\"], [1.0, \"#f0f921\"]], \"sequentialminus\": [[0.0, \"#0d0887\"], [0.1111111111111111, \"#46039f\"], [0.2222222222222222, \"#7201a8\"], [0.3333333333333333, \"#9c179e\"], [0.4444444444444444, \"#bd3786\"], [0.5555555555555556, \"#d8576b\"], [0.6666666666666666, \"#ed7953\"], [0.7777777777777778, \"#fb9f3a\"], [0.8888888888888888, \"#fdca26\"], [1.0, \"#f0f921\"]]}, \"colorway\": [\"#636efa\", \"#EF553B\", \"#00cc96\", \"#ab63fa\", \"#FFA15A\", \"#19d3f3\", \"#FF6692\", \"#B6E880\", \"#FF97FF\", \"#FECB52\"], \"font\": {\"color\": \"#2a3f5f\"}, \"geo\": {\"bgcolor\": \"white\", \"lakecolor\": \"white\", \"landcolor\": \"#E5ECF6\", \"showlakes\": true, \"showland\": true, \"subunitcolor\": \"white\"}, \"hoverlabel\": {\"align\": \"left\"}, \"hovermode\": \"closest\", \"mapbox\": {\"style\": \"light\"}, \"paper_bgcolor\": \"white\", \"plot_bgcolor\": \"#E5ECF6\", \"polar\": {\"angularaxis\": {\"gridcolor\": \"white\", \"linecolor\": \"white\", \"ticks\": \"\"}, \"bgcolor\": \"#E5ECF6\", \"radialaxis\": {\"gridcolor\": \"white\", \"linecolor\": \"white\", \"ticks\": \"\"}}, \"scene\": {\"xaxis\": {\"backgroundcolor\": \"#E5ECF6\", \"gridcolor\": \"white\", \"gridwidth\": 2, \"linecolor\": \"white\", \"showbackground\": true, \"ticks\": \"\", \"zerolinecolor\": \"white\"}, \"yaxis\": {\"backgroundcolor\": \"#E5ECF6\", \"gridcolor\": \"white\", \"gridwidth\": 2, \"linecolor\": \"white\", \"showbackground\": true, \"ticks\": \"\", \"zerolinecolor\": \"white\"}, \"zaxis\": {\"backgroundcolor\": \"#E5ECF6\", \"gridcolor\": \"white\", \"gridwidth\": 2, \"linecolor\": \"white\", \"showbackground\": true, \"ticks\": \"\", \"zerolinecolor\": \"white\"}}, \"shapedefaults\": {\"line\": {\"color\": \"#2a3f5f\"}}, \"ternary\": {\"aaxis\": {\"gridcolor\": \"white\", \"linecolor\": \"white\", \"ticks\": \"\"}, \"baxis\": {\"gridcolor\": \"white\", \"linecolor\": \"white\", \"ticks\": \"\"}, \"bgcolor\": \"#E5ECF6\", \"caxis\": {\"gridcolor\": \"white\", \"linecolor\": \"white\", \"ticks\": \"\"}}, \"title\": {\"x\": 0.05}, \"xaxis\": {\"automargin\": true, \"gridcolor\": \"white\", \"linecolor\": \"white\", \"ticks\": \"\", \"title\": {\"standoff\": 15}, \"zerolinecolor\": \"white\", \"zerolinewidth\": 2}, \"yaxis\": {\"automargin\": true, \"gridcolor\": \"white\", \"linecolor\": \"white\", \"ticks\": \"\", \"title\": {\"standoff\": 15}, \"zerolinecolor\": \"white\", \"zerolinewidth\": 2}}}, \"title\": {\"text\": \"How many years of experience do they have?\"}},\n",
              "                        {\"responsive\": true}\n",
              "                    ).then(function(){\n",
              "                            \n",
              "var gd = document.getElementById('f14bc045-7223-4b97-afaf-b82e9f165956');\n",
              "var x = new MutationObserver(function (mutations, observer) {{\n",
              "        var display = window.getComputedStyle(gd).display;\n",
              "        if (!display || display === 'none') {{\n",
              "            console.log([gd, 'removed!']);\n",
              "            Plotly.purge(gd);\n",
              "            observer.disconnect();\n",
              "        }}\n",
              "}});\n",
              "\n",
              "// Listen for the removal of the full notebook cells\n",
              "var notebookContainer = gd.closest('#notebook-container');\n",
              "if (notebookContainer) {{\n",
              "    x.observe(notebookContainer, {childList: true});\n",
              "}}\n",
              "\n",
              "// Listen for the clearing of the current output cell\n",
              "var outputEl = gd.closest('.output');\n",
              "if (outputEl) {{\n",
              "    x.observe(outputEl, {childList: true});\n",
              "}}\n",
              "\n",
              "                        })\n",
              "                };\n",
              "                \n",
              "            </script>\n",
              "        </div>\n",
              "</body>\n",
              "</html>"
            ]
          },
          "metadata": {
            "tags": []
          }
        }
      ]
    },
    {
      "cell_type": "code",
      "metadata": {
        "id": "-O1TsNa8VvMn",
        "outputId": "b8c89ab6-b2ea-4dd2-f620-631ec2fa7f9d",
        "colab": {
          "base_uri": "https://localhost:8080/"
        }
      },
      "source": [
        "temp = df.Hobbyist.value_counts(dropna = False)\n",
        "labels = temp.index\n",
        "values = temp.values\n",
        "\n",
        "colors = ['gold', 'lightgreen']\n",
        "fig = go.Figure(data=[go.Pie(labels=labels, values=values, hole=.3)])\n",
        "\n",
        "fig.update_traces(hoverinfo='label+value', textinfo='percent', textfont_size=20,\n",
        "                  marker=dict(colors=colors, line=dict(color='#000000', width=2)))\n",
        "fig.update_layout(template = 'plotly_dark')\n",
        "fig.show()"
      ],
      "execution_count": null,
      "outputs": [
        {
          "output_type": "display_data",
          "data": {
            "text/html": [
              "<html>\n",
              "<head><meta charset=\"utf-8\" /></head>\n",
              "<body>\n",
              "    <div>\n",
              "            <script src=\"https://cdnjs.cloudflare.com/ajax/libs/mathjax/2.7.5/MathJax.js?config=TeX-AMS-MML_SVG\"></script><script type=\"text/javascript\">if (window.MathJax) {MathJax.Hub.Config({SVG: {font: \"STIX-Web\"}});}</script>\n",
              "                <script type=\"text/javascript\">window.PlotlyConfig = {MathJaxConfig: 'local'};</script>\n",
              "        <script src=\"https://cdn.plot.ly/plotly-latest.min.js\"></script>    \n",
              "            <div id=\"bcabbba0-cfde-4ea4-9149-1a5c6644434f\" class=\"plotly-graph-div\" style=\"height:525px; width:100%;\"></div>\n",
              "            <script type=\"text/javascript\">\n",
              "                \n",
              "                    window.PLOTLYENV=window.PLOTLYENV || {};\n",
              "                    \n",
              "                if (document.getElementById(\"bcabbba0-cfde-4ea4-9149-1a5c6644434f\")) {\n",
              "                    Plotly.newPlot(\n",
              "                        'bcabbba0-cfde-4ea4-9149-1a5c6644434f',\n",
              "                        [{\"hole\": 0.3, \"hoverinfo\": \"label+value\", \"labels\": [1, 0], \"marker\": {\"colors\": [\"gold\", \"lightgreen\"], \"line\": {\"color\": \"#000000\", \"width\": 2}}, \"textfont\": {\"size\": 20}, \"textinfo\": \"percent\", \"type\": \"pie\", \"values\": [50426, 14035]}],\n",
              "                        {\"template\": {\"data\": {\"bar\": [{\"error_x\": {\"color\": \"#f2f5fa\"}, \"error_y\": {\"color\": \"#f2f5fa\"}, \"marker\": {\"line\": {\"color\": \"rgb(17,17,17)\", \"width\": 0.5}}, \"type\": \"bar\"}], \"barpolar\": [{\"marker\": {\"line\": {\"color\": \"rgb(17,17,17)\", \"width\": 0.5}}, \"type\": \"barpolar\"}], \"carpet\": [{\"aaxis\": {\"endlinecolor\": \"#A2B1C6\", \"gridcolor\": \"#506784\", \"linecolor\": \"#506784\", \"minorgridcolor\": \"#506784\", \"startlinecolor\": \"#A2B1C6\"}, \"baxis\": {\"endlinecolor\": \"#A2B1C6\", \"gridcolor\": \"#506784\", \"linecolor\": \"#506784\", \"minorgridcolor\": \"#506784\", \"startlinecolor\": \"#A2B1C6\"}, \"type\": \"carpet\"}], \"choropleth\": [{\"colorbar\": {\"outlinewidth\": 0, \"ticks\": \"\"}, \"type\": \"choropleth\"}], \"contour\": [{\"colorbar\": {\"outlinewidth\": 0, \"ticks\": \"\"}, \"colorscale\": [[0.0, \"#0d0887\"], [0.1111111111111111, \"#46039f\"], [0.2222222222222222, \"#7201a8\"], [0.3333333333333333, \"#9c179e\"], [0.4444444444444444, \"#bd3786\"], [0.5555555555555556, \"#d8576b\"], [0.6666666666666666, \"#ed7953\"], [0.7777777777777778, \"#fb9f3a\"], [0.8888888888888888, \"#fdca26\"], [1.0, \"#f0f921\"]], \"type\": \"contour\"}], \"contourcarpet\": [{\"colorbar\": {\"outlinewidth\": 0, \"ticks\": \"\"}, \"type\": \"contourcarpet\"}], \"heatmap\": [{\"colorbar\": {\"outlinewidth\": 0, \"ticks\": \"\"}, \"colorscale\": [[0.0, \"#0d0887\"], [0.1111111111111111, \"#46039f\"], [0.2222222222222222, \"#7201a8\"], [0.3333333333333333, \"#9c179e\"], [0.4444444444444444, \"#bd3786\"], [0.5555555555555556, \"#d8576b\"], [0.6666666666666666, \"#ed7953\"], [0.7777777777777778, \"#fb9f3a\"], [0.8888888888888888, \"#fdca26\"], [1.0, \"#f0f921\"]], \"type\": \"heatmap\"}], \"heatmapgl\": [{\"colorbar\": {\"outlinewidth\": 0, \"ticks\": \"\"}, \"colorscale\": [[0.0, \"#0d0887\"], [0.1111111111111111, \"#46039f\"], [0.2222222222222222, \"#7201a8\"], [0.3333333333333333, \"#9c179e\"], [0.4444444444444444, \"#bd3786\"], [0.5555555555555556, \"#d8576b\"], [0.6666666666666666, \"#ed7953\"], [0.7777777777777778, \"#fb9f3a\"], [0.8888888888888888, \"#fdca26\"], [1.0, \"#f0f921\"]], \"type\": \"heatmapgl\"}], \"histogram\": [{\"marker\": {\"colorbar\": {\"outlinewidth\": 0, \"ticks\": \"\"}}, \"type\": \"histogram\"}], \"histogram2d\": [{\"colorbar\": {\"outlinewidth\": 0, \"ticks\": \"\"}, \"colorscale\": [[0.0, \"#0d0887\"], [0.1111111111111111, \"#46039f\"], [0.2222222222222222, \"#7201a8\"], [0.3333333333333333, \"#9c179e\"], [0.4444444444444444, \"#bd3786\"], [0.5555555555555556, \"#d8576b\"], [0.6666666666666666, \"#ed7953\"], [0.7777777777777778, \"#fb9f3a\"], [0.8888888888888888, \"#fdca26\"], [1.0, \"#f0f921\"]], \"type\": \"histogram2d\"}], \"histogram2dcontour\": [{\"colorbar\": {\"outlinewidth\": 0, \"ticks\": \"\"}, \"colorscale\": [[0.0, \"#0d0887\"], [0.1111111111111111, \"#46039f\"], [0.2222222222222222, \"#7201a8\"], [0.3333333333333333, \"#9c179e\"], [0.4444444444444444, \"#bd3786\"], [0.5555555555555556, \"#d8576b\"], [0.6666666666666666, \"#ed7953\"], [0.7777777777777778, \"#fb9f3a\"], [0.8888888888888888, \"#fdca26\"], [1.0, \"#f0f921\"]], \"type\": \"histogram2dcontour\"}], \"mesh3d\": [{\"colorbar\": {\"outlinewidth\": 0, \"ticks\": \"\"}, \"type\": \"mesh3d\"}], \"parcoords\": [{\"line\": {\"colorbar\": {\"outlinewidth\": 0, \"ticks\": \"\"}}, \"type\": \"parcoords\"}], \"pie\": [{\"automargin\": true, \"type\": \"pie\"}], \"scatter\": [{\"marker\": {\"line\": {\"color\": \"#283442\"}}, \"type\": \"scatter\"}], \"scatter3d\": [{\"line\": {\"colorbar\": {\"outlinewidth\": 0, \"ticks\": \"\"}}, \"marker\": {\"colorbar\": {\"outlinewidth\": 0, \"ticks\": \"\"}}, \"type\": \"scatter3d\"}], \"scattercarpet\": [{\"marker\": {\"colorbar\": {\"outlinewidth\": 0, \"ticks\": \"\"}}, \"type\": \"scattercarpet\"}], \"scattergeo\": [{\"marker\": {\"colorbar\": {\"outlinewidth\": 0, \"ticks\": \"\"}}, \"type\": \"scattergeo\"}], \"scattergl\": [{\"marker\": {\"line\": {\"color\": \"#283442\"}}, \"type\": \"scattergl\"}], \"scattermapbox\": [{\"marker\": {\"colorbar\": {\"outlinewidth\": 0, \"ticks\": \"\"}}, \"type\": \"scattermapbox\"}], \"scatterpolar\": [{\"marker\": {\"colorbar\": {\"outlinewidth\": 0, \"ticks\": \"\"}}, \"type\": \"scatterpolar\"}], \"scatterpolargl\": [{\"marker\": {\"colorbar\": {\"outlinewidth\": 0, \"ticks\": \"\"}}, \"type\": \"scatterpolargl\"}], \"scatterternary\": [{\"marker\": {\"colorbar\": {\"outlinewidth\": 0, \"ticks\": \"\"}}, \"type\": \"scatterternary\"}], \"surface\": [{\"colorbar\": {\"outlinewidth\": 0, \"ticks\": \"\"}, \"colorscale\": [[0.0, \"#0d0887\"], [0.1111111111111111, \"#46039f\"], [0.2222222222222222, \"#7201a8\"], [0.3333333333333333, \"#9c179e\"], [0.4444444444444444, \"#bd3786\"], [0.5555555555555556, \"#d8576b\"], [0.6666666666666666, \"#ed7953\"], [0.7777777777777778, \"#fb9f3a\"], [0.8888888888888888, \"#fdca26\"], [1.0, \"#f0f921\"]], \"type\": \"surface\"}], \"table\": [{\"cells\": {\"fill\": {\"color\": \"#506784\"}, \"line\": {\"color\": \"rgb(17,17,17)\"}}, \"header\": {\"fill\": {\"color\": \"#2a3f5f\"}, \"line\": {\"color\": \"rgb(17,17,17)\"}}, \"type\": \"table\"}]}, \"layout\": {\"annotationdefaults\": {\"arrowcolor\": \"#f2f5fa\", \"arrowhead\": 0, \"arrowwidth\": 1}, \"coloraxis\": {\"colorbar\": {\"outlinewidth\": 0, \"ticks\": \"\"}}, \"colorscale\": {\"diverging\": [[0, \"#8e0152\"], [0.1, \"#c51b7d\"], [0.2, \"#de77ae\"], [0.3, \"#f1b6da\"], [0.4, \"#fde0ef\"], [0.5, \"#f7f7f7\"], [0.6, \"#e6f5d0\"], [0.7, \"#b8e186\"], [0.8, \"#7fbc41\"], [0.9, \"#4d9221\"], [1, \"#276419\"]], \"sequential\": [[0.0, \"#0d0887\"], [0.1111111111111111, \"#46039f\"], [0.2222222222222222, \"#7201a8\"], [0.3333333333333333, \"#9c179e\"], [0.4444444444444444, \"#bd3786\"], [0.5555555555555556, \"#d8576b\"], [0.6666666666666666, \"#ed7953\"], [0.7777777777777778, \"#fb9f3a\"], [0.8888888888888888, \"#fdca26\"], [1.0, \"#f0f921\"]], \"sequentialminus\": [[0.0, \"#0d0887\"], [0.1111111111111111, \"#46039f\"], [0.2222222222222222, \"#7201a8\"], [0.3333333333333333, \"#9c179e\"], [0.4444444444444444, \"#bd3786\"], [0.5555555555555556, \"#d8576b\"], [0.6666666666666666, \"#ed7953\"], [0.7777777777777778, \"#fb9f3a\"], [0.8888888888888888, \"#fdca26\"], [1.0, \"#f0f921\"]]}, \"colorway\": [\"#636efa\", \"#EF553B\", \"#00cc96\", \"#ab63fa\", \"#FFA15A\", \"#19d3f3\", \"#FF6692\", \"#B6E880\", \"#FF97FF\", \"#FECB52\"], \"font\": {\"color\": \"#f2f5fa\"}, \"geo\": {\"bgcolor\": \"rgb(17,17,17)\", \"lakecolor\": \"rgb(17,17,17)\", \"landcolor\": \"rgb(17,17,17)\", \"showlakes\": true, \"showland\": true, \"subunitcolor\": \"#506784\"}, \"hoverlabel\": {\"align\": \"left\"}, \"hovermode\": \"closest\", \"mapbox\": {\"style\": \"dark\"}, \"paper_bgcolor\": \"rgb(17,17,17)\", \"plot_bgcolor\": \"rgb(17,17,17)\", \"polar\": {\"angularaxis\": {\"gridcolor\": \"#506784\", \"linecolor\": \"#506784\", \"ticks\": \"\"}, \"bgcolor\": \"rgb(17,17,17)\", \"radialaxis\": {\"gridcolor\": \"#506784\", \"linecolor\": \"#506784\", \"ticks\": \"\"}}, \"scene\": {\"xaxis\": {\"backgroundcolor\": \"rgb(17,17,17)\", \"gridcolor\": \"#506784\", \"gridwidth\": 2, \"linecolor\": \"#506784\", \"showbackground\": true, \"ticks\": \"\", \"zerolinecolor\": \"#C8D4E3\"}, \"yaxis\": {\"backgroundcolor\": \"rgb(17,17,17)\", \"gridcolor\": \"#506784\", \"gridwidth\": 2, \"linecolor\": \"#506784\", \"showbackground\": true, \"ticks\": \"\", \"zerolinecolor\": \"#C8D4E3\"}, \"zaxis\": {\"backgroundcolor\": \"rgb(17,17,17)\", \"gridcolor\": \"#506784\", \"gridwidth\": 2, \"linecolor\": \"#506784\", \"showbackground\": true, \"ticks\": \"\", \"zerolinecolor\": \"#C8D4E3\"}}, \"shapedefaults\": {\"line\": {\"color\": \"#f2f5fa\"}}, \"sliderdefaults\": {\"bgcolor\": \"#C8D4E3\", \"bordercolor\": \"rgb(17,17,17)\", \"borderwidth\": 1, \"tickwidth\": 0}, \"ternary\": {\"aaxis\": {\"gridcolor\": \"#506784\", \"linecolor\": \"#506784\", \"ticks\": \"\"}, \"baxis\": {\"gridcolor\": \"#506784\", \"linecolor\": \"#506784\", \"ticks\": \"\"}, \"bgcolor\": \"rgb(17,17,17)\", \"caxis\": {\"gridcolor\": \"#506784\", \"linecolor\": \"#506784\", \"ticks\": \"\"}}, \"title\": {\"x\": 0.05}, \"updatemenudefaults\": {\"bgcolor\": \"#506784\", \"borderwidth\": 0}, \"xaxis\": {\"automargin\": true, \"gridcolor\": \"#283442\", \"linecolor\": \"#506784\", \"ticks\": \"\", \"title\": {\"standoff\": 15}, \"zerolinecolor\": \"#283442\", \"zerolinewidth\": 2}, \"yaxis\": {\"automargin\": true, \"gridcolor\": \"#283442\", \"linecolor\": \"#506784\", \"ticks\": \"\", \"title\": {\"standoff\": 15}, \"zerolinecolor\": \"#283442\", \"zerolinewidth\": 2}}}},\n",
              "                        {\"responsive\": true}\n",
              "                    ).then(function(){\n",
              "                            \n",
              "var gd = document.getElementById('bcabbba0-cfde-4ea4-9149-1a5c6644434f');\n",
              "var x = new MutationObserver(function (mutations, observer) {{\n",
              "        var display = window.getComputedStyle(gd).display;\n",
              "        if (!display || display === 'none') {{\n",
              "            console.log([gd, 'removed!']);\n",
              "            Plotly.purge(gd);\n",
              "            observer.disconnect();\n",
              "        }}\n",
              "}});\n",
              "\n",
              "// Listen for the removal of the full notebook cells\n",
              "var notebookContainer = gd.closest('#notebook-container');\n",
              "if (notebookContainer) {{\n",
              "    x.observe(notebookContainer, {childList: true});\n",
              "}}\n",
              "\n",
              "// Listen for the clearing of the current output cell\n",
              "var outputEl = gd.closest('.output');\n",
              "if (outputEl) {{\n",
              "    x.observe(outputEl, {childList: true});\n",
              "}}\n",
              "\n",
              "                        })\n",
              "                };\n",
              "                \n",
              "            </script>\n",
              "        </div>\n",
              "</body>\n",
              "</html>"
            ]
          },
          "metadata": {
            "tags": []
          }
        }
      ]
    },
    {
      "cell_type": "markdown",
      "metadata": {
        "id": "Y79zvIWotPDs"
      },
      "source": [
        "----------------------------------------------------------------------------------"
      ]
    },
    {
      "cell_type": "code",
      "metadata": {
        "id": "Ygykf6BSWYn5",
        "outputId": "5bdcb2bb-537f-4535-a45c-a63e73f78715",
        "colab": {
          "base_uri": "https://localhost:8080/"
        }
      },
      "source": [
        "plt.figure(figsize=(20,10))\n",
        "sns.countplot(df['Hobbyist'])"
      ],
      "execution_count": null,
      "outputs": [
        {
          "output_type": "execute_result",
          "data": {
            "text/plain": [
              "<matplotlib.axes._subplots.AxesSubplot at 0x7f44ddb91be0>"
            ]
          },
          "metadata": {
            "tags": []
          },
          "execution_count": 215
        },
        {
          "output_type": "display_data",
          "data": {
            "image/png": "[encoded data removed]",
            "text/plain": [
              "<Figure size 1440x720 with 1 Axes>"
            ]
          },
          "metadata": {
            "tags": [],
            "needs_background": "light"
          }
        }
      ]
    },
    {
      "cell_type": "code",
      "metadata": {
        "id": "SuvwqtXl24rj",
        "outputId": "54e875fe-a81b-4004-87bd-c5c0bc30dd1c",
        "colab": {
          "base_uri": "https://localhost:8080/"
        }
      },
      "source": [
        "df.columns"
      ],
      "execution_count": null,
      "outputs": [
        {
          "output_type": "execute_result",
          "data": {
            "text/plain": [
              "Index(['Respondent', 'MainBranch', 'Hobbyist', 'Age', 'Age1stCode', 'CompFreq',\n",
              "       'CompTotal', 'ConvertedComp', 'Country', 'CurrencyDesc',\n",
              "       'CurrencySymbol', 'DatabaseDesireNextYear', 'DatabaseWorkedWith',\n",
              "       'DevType', 'EdLevel', 'Employment', 'Ethnicity', 'Gender', 'JobFactors',\n",
              "       'JobSat', 'JobSeek', 'LanguageDesireNextYear', 'LanguageWorkedWith',\n",
              "       'MiscTechDesireNextYear', 'MiscTechWorkedWith',\n",
              "       'NEWCollabToolsDesireNextYear', 'NEWCollabToolsWorkedWith', 'NEWDevOps',\n",
              "       'NEWDevOpsImpt', 'NEWEdImpt', 'NEWJobHunt', 'NEWJobHuntResearch',\n",
              "       'NEWLearn', 'NEWOffTopic', 'NEWOnboardGood', 'NEWOtherComms',\n",
              "       'NEWOvertime', 'NEWPurchaseResearch', 'NEWPurpleLink', 'NEWSOSites',\n",
              "       'NEWStuck', 'OpSys', 'OrgSize', 'PlatformDesireNextYear',\n",
              "       'PlatformWorkedWith', 'PurchaseWhat', 'Sexuality', 'SOAccount',\n",
              "       'SOComm', 'SOPartFreq', 'SOVisitFreq', 'SurveyEase', 'SurveyLength',\n",
              "       'Trans', 'UndergradMajor', 'WebframeDesireNextYear',\n",
              "       'WebframeWorkedWith', 'WelcomeChange', 'WorkWeekHrs', 'YearsCode',\n",
              "       'YearsCodePro'],\n",
              "      dtype='object')"
            ]
          },
          "metadata": {
            "tags": []
          },
          "execution_count": 292
        }
      ]
    },
    {
      "cell_type": "markdown",
      "metadata": {
        "id": "LgxJBEttJJHd"
      },
      "source": [
        "##Hypothesis Testing"
      ]
    },
    {
      "cell_type": "code",
      "metadata": {
        "id": "94yvNa-oSI4z"
      },
      "source": [
        "from scipy.stats import norm\n",
        "from scipy.stats import t\n",
        "from scipy.stats import chi2_contingency\n",
        "import scipy.stats as st\n",
        "from scipy.stats import shapiro\n",
        "from numpy import exp\n",
        "from scipy.stats import boxcox\n",
        "from matplotlib import pyplot"
      ],
      "execution_count": null,
      "outputs": []
    },
    {
      "cell_type": "code",
      "metadata": {
        "id": "1HtIwIDAJm2I"
      },
      "source": [
        "dataset=df[['Age','CompTotal','Ethnicity','JobSeek','UndergradMajor','Employment','CompFreq','WorkWeekHrs','Gender']]"
      ],
      "execution_count": null,
      "outputs": []
    },
    {
      "cell_type": "code",
      "metadata": {
        "id": "XXbVbf_KMa-C",
        "outputId": "7c11d65a-0b25-4659-8eba-912551abdab5",
        "colab": {
          "base_uri": "https://localhost:8080/"
        }
      },
      "source": [
        "dataset.shape"
      ],
      "execution_count": null,
      "outputs": [
        {
          "output_type": "execute_result",
          "data": {
            "text/plain": [
              "(64461, 9)"
            ]
          },
          "metadata": {
            "tags": []
          },
          "execution_count": 122
        }
      ]
    },
    {
      "cell_type": "code",
      "metadata": {
        "id": "KjrpByvRKKAb"
      },
      "source": [
        "dataset.dropna(how='any',inplace=True)"
      ],
      "execution_count": null,
      "outputs": []
    },
    {
      "cell_type": "code",
      "metadata": {
        "id": "ZwgfH2NrVa2A"
      },
      "source": [
        "dataset['Gender']=['M' if i=='Man' else 'F' for i in dataset['Gender']]\n",
        "list1=['White or of European descent','South Asian','Hispanic or Latino/a/x','Black or of African descent','Southeast Asian'  ]\n",
        "dataset['Ethnicity']=dataset['Ethnicity'].apply(lambda x: x if x in list1 else \"Others\")"
      ],
      "execution_count": null,
      "outputs": []
    },
    {
      "cell_type": "code",
      "metadata": {
        "id": "TE9YzCr6QnrH",
        "outputId": "ddd83474-ebe6-4209-a157-f49fc1b80430",
        "colab": {
          "base_uri": "https://localhost:8080/"
        }
      },
      "source": [
        "dataset.isnull().sum()"
      ],
      "execution_count": null,
      "outputs": [
        {
          "output_type": "execute_result",
          "data": {
            "text/plain": [
              "Age               0\n",
              "CompTotal         0\n",
              "Ethnicity         0\n",
              "JobSeek           0\n",
              "UndergradMajor    0\n",
              "Employment        0\n",
              "CompFreq          0\n",
              "WorkWeekHrs       0\n",
              "Gender            0\n",
              "dtype: int64"
            ]
          },
          "metadata": {
            "tags": []
          },
          "execution_count": 125
        }
      ]
    },
    {
      "cell_type": "code",
      "metadata": {
        "id": "4618QqMNB5dd"
      },
      "source": [
        "data_cluster1=dataset\n",
        "dataset=dataset[dataset['CompFreq']=='Yearly']\n"
      ],
      "execution_count": null,
      "outputs": []
    },
    {
      "cell_type": "code",
      "metadata": {
        "id": "AVTA6Ef7BNBv"
      },
      "source": [
        "\n",
        "cleaned_data = dataset[dataset['Age'].apply(lambda x: np.abs(x - dataset['Age'].mean()) / dataset['Age'].std() < 3)]\n",
        "final_df = cleaned_data[cleaned_data['CompTotal'].apply(lambda x: np.abs(x - cleaned_data['CompTotal'].mean()) / cleaned_data['CompTotal'].std() < 3)]\n",
        "number_of_rows_after_removal = final_df.shape[0]\n",
        ""
      ],
      "execution_count": null,
      "outputs": []
    },
    {
      "cell_type": "code",
      "metadata": {
        "id": "cAEU9qr13c3X",
        "outputId": "0d21590c-23f0-450d-e3c5-8974442d4de3",
        "colab": {
          "base_uri": "https://localhost:8080/",
          "height": 265
        }
      },
      "source": [
        "from numpy import exp\n",
        "from scipy.stats import boxcox\n",
        "from matplotlib import pyplot\n",
        "# sample=dataset['Age'].head(20)\n",
        "sample = np.log(final_df['Age'].head(80))\n",
        "# # power transform\n",
        "sample = boxcox(sample, 0)\n",
        "# histogram\n",
        "pyplot.hist(sample)\n",
        "pyplot.show()"
      ],
      "execution_count": null,
      "outputs": [
        {
          "output_type": "display_data",
          "data": {
            "image/png": "[encoded data removed]",
            "text/plain": [
              "<Figure size 432x288 with 1 Axes>"
            ]
          },
          "metadata": {
            "tags": [],
            "needs_background": "light"
          }
        }
      ]
    },
    {
      "cell_type": "markdown",
      "metadata": {
        "id": "wPrnz_RiUmNW"
      },
      "source": [
        "Shapiro Wilk test of Normality"
      ]
    },
    {
      "cell_type": "code",
      "metadata": {
        "id": "QI2rHZOW8aJH",
        "outputId": "9c456a45-0154-42f9-ba18-486bca2552ad",
        "colab": {
          "base_uri": "https://localhost:8080/"
        }
      },
      "source": [
        "stat, p = shapiro(sample)\n",
        "print('Statistics=%.3f, p=%.3f' % (stat, p))\n",
        "# interpret\n",
        "alpha = 0.05\n",
        "if p > alpha:\n",
        "\tprint('Sample looks Gaussian (fail to reject H0)')\n",
        "else:\n",
        "\tprint('Sample does not look Gaussian (reject H0)')"
      ],
      "execution_count": null,
      "outputs": [
        {
          "output_type": "stream",
          "text": [
            "Statistics=0.971, p=0.069\n",
            "Sample looks Gaussian (fail to reject H0)\n"
          ],
          "name": "stdout"
        }
      ]
    },
    {
      "cell_type": "code",
      "metadata": {
        "id": "0J0_Gx8QD3hI"
      },
      "source": [
        "sample=pd.DataFrame(sample)"
      ],
      "execution_count": null,
      "outputs": []
    },
    {
      "cell_type": "code",
      "metadata": {
        "id": "rTF6lEVZDl_u"
      },
      "source": [
        "random_sample=sample.sample(n=20, replace=True, random_state=1)"
      ],
      "execution_count": null,
      "outputs": []
    },
    {
      "cell_type": "markdown",
      "metadata": {
        "id": "18qHuuzabRGa"
      },
      "source": [
        "###Hypothesis 1\n",
        "Average age of stack overflow's survey is more than 1.2. A random sample of 20 entries of age is given above. A researcher claims that average age has been increased? Is there enough evidence to support the researcher's claim at alpha=0.10?"
      ]
    },
    {
      "cell_type": "code",
      "metadata": {
        "id": "ePaktDN2cnXx",
        "outputId": "31367fa6-46c1-486e-d9bc-9a0da38307ac",
        "colab": {
          "base_uri": "https://localhost:8080/"
        }
      },
      "source": [
        "alpha=0.01\n",
        "# H0 = population mean ; Ha>population mean\n",
        "n = 20\n",
        "xbar = random_sample[0].mean()\n",
        "mu = sample[0].mean()\n",
        "sigma = sample[0].std()\n",
        "z = (xbar -mu)/(sigma/np.sqrt(n))\n",
        "z_critical =st.norm.ppf(alpha)\n",
        "if(z<z_critical):\n",
        "  print('With a significance of '+ str(alpha) + '% null hypothesis cannot be rejected' )\n",
        "else:\n",
        "  print('With a significance of '+ str(alpha) + '% null hypothesis can be rejected' )\n",
        "\n",
        ""
      ],
      "execution_count": null,
      "outputs": [
        {
          "output_type": "stream",
          "text": [
            "With a significance of 0.01% null hypothesis can be rejected\n"
          ],
          "name": "stdout"
        }
      ]
    },
    {
      "cell_type": "markdown",
      "metadata": {
        "id": "oaV2tBn2iMWc"
      },
      "source": [
        "###Hypothesis 2\n",
        "There is a claim that gender and Employment is dependent. Can the claim be accepted"
      ]
    },
    {
      "cell_type": "code",
      "metadata": {
        "id": "PZl2mz-LNJ_l"
      },
      "source": [
        "#H0 - Gender and employment are independent\n",
        "#H1 - Gender and employment are not independent"
      ],
      "execution_count": null,
      "outputs": []
    },
    {
      "cell_type": "code",
      "metadata": {
        "id": "kVs1HLmhHK3f"
      },
      "source": [
        "random_sample1=final_df.sample(n=100, replace=True, random_state=1)"
      ],
      "execution_count": null,
      "outputs": []
    },
    {
      "cell_type": "code",
      "metadata": {
        "id": "MG5MT6N4jCTH"
      },
      "source": [
        " voter_tab = pd.crosstab(random_sample1['Gender'], random_sample1['Employment'], margins = True)\n"
      ],
      "execution_count": null,
      "outputs": []
    },
    {
      "cell_type": "code",
      "metadata": {
        "id": "R6lYN47prpOF"
      },
      "source": [
        "observed = voter_tab.iloc[0:2,0:2]"
      ],
      "execution_count": null,
      "outputs": []
    },
    {
      "cell_type": "code",
      "metadata": {
        "id": "S4t61DugsdUm"
      },
      "source": [
        "stats,p,dof,expected=st.chi2_contingency(observed= observed)"
      ],
      "execution_count": null,
      "outputs": []
    },
    {
      "cell_type": "code",
      "metadata": {
        "id": "_lVQaRk-l7w_",
        "outputId": "af68aca3-ded3-4fd0-ad79-6a624d294b3f",
        "colab": {
          "base_uri": "https://localhost:8080/"
        }
      },
      "source": [
        "print(p)"
      ],
      "execution_count": null,
      "outputs": [
        {
          "output_type": "stream",
          "text": [
            "0.40252351140979226\n"
          ],
          "name": "stdout"
        }
      ]
    },
    {
      "cell_type": "code",
      "metadata": {
        "id": "RTdMlDUospD3",
        "outputId": "a4191adc-9b1d-4dff-e8b1-2dcec29005f7",
        "colab": {
          "base_uri": "https://localhost:8080/"
        }
      },
      "source": [
        "if p<0.05:\n",
        "  print('Reject Null Hyothesis. Gender and Employment are not independent')\n",
        "else:\n",
        "  print('Do no reject Null Hyothesis. Gender and Employment are independent')\n",
        "\n"
      ],
      "execution_count": null,
      "outputs": [
        {
          "output_type": "stream",
          "text": [
            "Do no reject Null Hyothesis. Gender and Employment are independent\n"
          ],
          "name": "stdout"
        }
      ]
    },
    {
      "cell_type": "markdown",
      "metadata": {
        "id": "Wt5qWQ3fIcgr"
      },
      "source": [
        "The gender and employment are two independent columns. Through this we can identify that there is no gender bias in employment."
      ]
    },
    {
      "cell_type": "markdown",
      "metadata": {
        "id": "J0xNJw8BNZdH"
      },
      "source": [
        "###Hypothesis 3\n",
        "There is a claim that employment and ethnicity are dependent."
      ]
    },
    {
      "cell_type": "code",
      "metadata": {
        "id": "VZTFEXAmVBvK"
      },
      "source": [
        "#H0 - Employment and ethnicity are independent\n",
        "#H1 - Employment and ethnicity are dependent"
      ],
      "execution_count": null,
      "outputs": []
    },
    {
      "cell_type": "code",
      "metadata": {
        "id": "wXlPPvM17tiw"
      },
      "source": [
        "voter_tab = pd.crosstab(random_sample1['Employment'], random_sample1['Ethnicity'], margins = True)\n"
      ],
      "execution_count": null,
      "outputs": []
    },
    {
      "cell_type": "code",
      "metadata": {
        "id": "tRhixlhV7ti8"
      },
      "source": [
        "observed = voter_tab.iloc[0:3,0:6]"
      ],
      "execution_count": null,
      "outputs": []
    },
    {
      "cell_type": "code",
      "metadata": {
        "id": "dULVFvZ07tjB"
      },
      "source": [
        "stats,p,dof,expected=st.chi2_contingency(observed= observed)"
      ],
      "execution_count": null,
      "outputs": []
    },
    {
      "cell_type": "code",
      "metadata": {
        "id": "wG_jlqOT7tjH",
        "outputId": "60b53b44-e091-4dfe-8c3e-e5635d66afb4",
        "colab": {
          "base_uri": "https://localhost:8080/"
        }
      },
      "source": [
        "print(p)"
      ],
      "execution_count": null,
      "outputs": [
        {
          "output_type": "stream",
          "text": [
            "0.9999998727329258\n"
          ],
          "name": "stdout"
        }
      ]
    },
    {
      "cell_type": "code",
      "metadata": {
        "id": "6U-sbggj7tjM",
        "outputId": "a13bfc95-8de3-4f25-99c0-ab12d8241713",
        "colab": {
          "base_uri": "https://localhost:8080/"
        }
      },
      "source": [
        "if p<0.05:\n",
        "  print('Reject Null Hyothesis. Employment and Ethnicity are not independent')\n",
        "else:\n",
        "  print('Do no reject Null Hyothesis. Employment and Ethnicity are independent')\n"
      ],
      "execution_count": null,
      "outputs": [
        {
          "output_type": "stream",
          "text": [
            "Do no reject Null Hyothesis. Employment and Ethnicity are independent\n"
          ],
          "name": "stdout"
        }
      ]
    },
    {
      "cell_type": "markdown",
      "metadata": {
        "id": "DnAku00tPI2X"
      },
      "source": [
        "This shows that in there is no racial discrimination based on color or nature for employing people with a significance of 5%"
      ]
    },
    {
      "cell_type": "markdown",
      "metadata": {
        "id": "1xDMcAgn_ugo"
      },
      "source": [
        "###Hypothesis 4\n",
        "A statistician claims that the average total compensation of women is greater than average total compensation  of men. Can it be accepted at a significance level of 0.05"
      ]
    },
    {
      "cell_type": "code",
      "metadata": {
        "id": "i18shbYhVUtI"
      },
      "source": [
        "#H0 sample mean= pop mean\n",
        "#H1 sample mean < pop mean"
      ],
      "execution_count": null,
      "outputs": []
    },
    {
      "cell_type": "code",
      "metadata": {
        "id": "pYUM4wLYJkcM"
      },
      "source": [
        "men=random_sample1[random_sample1['Gender']=='M']\n",
        "men=men.sample(n=18,replace=True,random_state=1)\n",
        "women=random_sample1[random_sample1['Gender']=='F']"
      ],
      "execution_count": null,
      "outputs": []
    },
    {
      "cell_type": "code",
      "metadata": {
        "id": "NOF8w7SAKeED",
        "outputId": "527db6e1-1a69-4cf2-f2c9-9e57b11fad6a",
        "colab": {
          "base_uri": "https://localhost:8080/"
        }
      },
      "source": [
        "\n",
        "mean=men['CompTotal'].mean()\n",
        "alpha=0.1\n",
        "n=18\n",
        "dof=n-1\n",
        "sample_mean=women['CompTotal'].mean()\n",
        "critical_value=t.ppf(alpha,dof)\n",
        "test_value=(sample_mean-mean)/(men['CompTotal'].std()/np.sqrt(n))\n",
        "if test_value>critical_value:\n",
        "  print(\"Reject Null Hypothesis\")\n",
        "else:\n",
        "  print('Do not reject Null Hypothesis')"
      ],
      "execution_count": null,
      "outputs": [
        {
          "output_type": "stream",
          "text": [
            "Reject Null Hypothesis\n"
          ],
          "name": "stdout"
        }
      ]
    },
    {
      "cell_type": "markdown",
      "metadata": {
        "id": "gVDsSm8aRZ2L"
      },
      "source": [
        "The total compensation is still varies for women and men and men earn more than women"
      ]
    },
    {
      "cell_type": "markdown",
      "metadata": {
        "id": "fIMRH4yPW1GM"
      },
      "source": [
        "###Hypothesis 5\n",
        "A reseacher believes that mean age of women who participated in the survey is different from the mean age of the whole population. Can this claim be accepted in 0.05?"
      ]
    },
    {
      "cell_type": "code",
      "metadata": {
        "id": "CA-TjbnqSogI"
      },
      "source": [
        "#H0 sample mean= pop mean\n",
        "#H1 sample mean != pop mean"
      ],
      "execution_count": null,
      "outputs": []
    },
    {
      "cell_type": "code",
      "metadata": {
        "id": "5ZfiLnNFKeAR"
      },
      "source": [
        "women_age=random_sample1[random_sample1['Gender']=='F']['Age']"
      ],
      "execution_count": null,
      "outputs": []
    },
    {
      "cell_type": "code",
      "metadata": {
        "id": "xkUWNZdyKd8m"
      },
      "source": [
        "sample=women_age"
      ],
      "execution_count": null,
      "outputs": []
    },
    {
      "cell_type": "code",
      "metadata": {
        "id": "14OyU__dKd47",
        "outputId": "1d56128d-b7d3-43d7-d3a1-5ceff7d81041",
        "colab": {
          "base_uri": "https://localhost:8080/"
        }
      },
      "source": [
        "\n",
        "p_mean=random_sample1['Age'].mean()\n",
        "p_std=random_sample1['Age'].std()\n",
        "alpha=0.10\n",
        "n=45\n",
        "sample_mean=sample.mean()\n",
        "critical_value=norm.ppf(1-(alpha/2))\n",
        "test_value=(sample_mean-p_mean)/(p_std/np.sqrt(n))\n",
        "if(abs(test_value)>critical_value):\n",
        "  print('Reject Null Hypothesis')\n",
        "else:\n",
        "  print('Do not reject Null hypothesis')"
      ],
      "execution_count": null,
      "outputs": [
        {
          "output_type": "stream",
          "text": [
            "Reject Null Hypothesis\n"
          ],
          "name": "stdout"
        }
      ]
    },
    {
      "cell_type": "markdown",
      "metadata": {
        "id": "xuvqknxAdR4C"
      },
      "source": [
        "##Predicting Salaries of the entries in the survey."
      ]
    },
    {
      "cell_type": "code",
      "metadata": {
        "id": "lUiU32NzmtcB"
      },
      "source": [
        "data=dataset[dataset['CompFreq']=='Yearly']"
      ],
      "execution_count": null,
      "outputs": []
    },
    {
      "cell_type": "code",
      "metadata": {
        "id": "FdkimCEdlS-D"
      },
      "source": [
        "from sklearn import preprocessing\n",
        "scaler=preprocessing.LabelEncoder()\n",
        "data['Ethnicity']=scaler.fit_transform(data['Ethnicity'])\n",
        "data['JobSeek']=scaler.fit_transform(data['JobSeek'])\n",
        "data['UndergradMajor']=scaler.fit_transform(data['UndergradMajor'])\n",
        "data['Gender']=scaler.fit_transform(data['Gender'])\n",
        "data['Employment']=scaler.fit_transform(data['Employment'])"
      ],
      "execution_count": null,
      "outputs": []
    },
    {
      "cell_type": "code",
      "metadata": {
        "id": "qjRAO6_KnbaB"
      },
      "source": [
        "data.drop('CompFreq',axis=1,inplace=True)\n"
      ],
      "execution_count": null,
      "outputs": []
    },
    {
      "cell_type": "code",
      "metadata": {
        "id": "sfm4_UUFw4JM",
        "outputId": "8e493f3a-e4a5-443f-d68d-77bcec0951bb",
        "colab": {
          "base_uri": "https://localhost:8080/"
        }
      },
      "source": [
        "data['CompTotal'].median()"
      ],
      "execution_count": null,
      "outputs": [
        {
          "output_type": "execute_result",
          "data": {
            "text/plain": [
              "90000.0"
            ]
          },
          "metadata": {
            "tags": []
          },
          "execution_count": 99
        }
      ]
    },
    {
      "cell_type": "code",
      "metadata": {
        "id": "yhV3omAopKYQ"
      },
      "source": [
        "X=data.drop('WorkWeekHrs',axis=1)\n",
        "Y=data['WorkWeekHrs']"
      ],
      "execution_count": null,
      "outputs": []
    },
    {
      "cell_type": "code",
      "metadata": {
        "id": "stQYlH5xzsny",
        "outputId": "aebb3986-177f-4c87-8d34-e81c5d7ac741",
        "colab": {
          "base_uri": "https://localhost:8080/"
        }
      },
      "source": [
        "from sklearn.model_selection import train_test_split\n",
        "from sklearn.svm import SVR\n",
        "X_train, X_test, Y_train, Y_test = train_test_split(X, Y, test_size=0.30, random_state=42)\n",
        "# X_train=X_train.to_numpy().reshape(-1,1)\n",
        "# X_test=X_test.to_numpy().reshape(-1,1)\n",
        "regressor = SVR(kernel = 'poly',C=10)\n",
        "regressor.fit(X_train, Y_train)"
      ],
      "execution_count": null,
      "outputs": [
        {
          "output_type": "execute_result",
          "data": {
            "text/plain": [
              "SVR(C=10, cache_size=200, coef0=0.0, degree=3, epsilon=0.1, gamma='scale',\n",
              "    kernel='poly', max_iter=-1, shrinking=True, tol=0.001, verbose=False)"
            ]
          },
          "metadata": {
            "tags": []
          },
          "execution_count": 101
        }
      ]
    },
    {
      "cell_type": "code",
      "metadata": {
        "id": "wXGblmODKdwC"
      },
      "source": [
        "y_pred = regressor.predict(X_test)"
      ],
      "execution_count": null,
      "outputs": []
    },
    {
      "cell_type": "code",
      "metadata": {
        "id": "kl2h9Qowwxb1"
      },
      "source": [
        "from  sklearn.metrics import mean_squared_error\n",
        "mse=mean_squared_error(y_pred,Y_test)\n",
        "mse1=mean_squared_error(regressor.predict(X_train),Y_train)"
      ],
      "execution_count": null,
      "outputs": []
    },
    {
      "cell_type": "code",
      "metadata": {
        "id": "eM0LY2PlxDvf",
        "outputId": "b4da38c2-773d-4a3f-a9b4-8febdcccc05e",
        "colab": {
          "base_uri": "https://localhost:8080/"
        }
      },
      "source": [
        "print(np.sqrt(mse),np.sqrt(mse1))"
      ],
      "execution_count": null,
      "outputs": [
        {
          "output_type": "stream",
          "text": [
            "15.624746591229126 14.913850401271338\n"
          ],
          "name": "stdout"
        }
      ]
    },
    {
      "cell_type": "code",
      "metadata": {
        "id": "TQFvaHR38noz",
        "outputId": "63a6056f-55bf-4bd4-c2f7-62cc773129bd",
        "colab": {
          "base_uri": "https://localhost:8080/"
        }
      },
      "source": [
        "y_pred"
      ],
      "execution_count": null,
      "outputs": [
        {
          "output_type": "execute_result",
          "data": {
            "text/plain": [
              "array([40.1, 40.1, 40.1, ..., 40.1, 40.1, 40.1])"
            ]
          },
          "metadata": {
            "tags": []
          },
          "execution_count": 105
        }
      ]
    },
    {
      "cell_type": "code",
      "metadata": {
        "id": "4Y20qEXJ_70V"
      },
      "source": [
        "data_cluster=data_cluster1.drop('Employment',axis=1)\n"
      ],
      "execution_count": null,
      "outputs": []
    },
    {
      "cell_type": "code",
      "metadata": {
        "id": "XASh_yCHFlkY"
      },
      "source": [
        "list1=['Age', 'CompTotal', 'Ethnicity', 'JobSeek', 'UndergradMajor', 'CompFreq', 'WorkWeekHrs', 'Gender']"
      ],
      "execution_count": null,
      "outputs": []
    },
    {
      "cell_type": "code",
      "metadata": {
        "execution": {
          "iopub.execute_input": "2020-11-08T14:22:59.749021Z",
          "iopub.status.busy": "2020-11-08T14:22:59.748189Z",
          "iopub.status.idle": "2020-11-08T14:23:00.107790Z",
          "shell.execute_reply": "2020-11-08T14:23:00.107132Z"
        },
        "papermill": {
          "duration": 0.507487,
          "end_time": "2020-11-08T14:23:00.107929",
          "exception": false,
          "start_time": "2020-11-08T14:22:59.600442",
          "status": "completed"
        },
        "tags": [],
        "id": "Yiv-wufB-BUL"
      },
      "source": [
        "from sklearn.cluster import KMeans\n",
        "from sklearn import metrics\n",
        "from scipy.spatial.distance import cdist\n",
        "import numpy as np\n",
        "import matplotlib.pyplot as plt\n",
        "from sklearn.preprocessing import normalize\n",
        "from sklearn.preprocessing import StandardScaler"
      ],
      "execution_count": null,
      "outputs": []
    },
    {
      "cell_type": "code",
      "metadata": {
        "id": "dm4EeZilA0rR"
      },
      "source": [
        "from sklearn import preprocessing\n",
        "scaler=preprocessing.LabelEncoder()\n",
        "data_cluster['Ethnicity']=scaler.fit_transform(data_cluster['Ethnicity'])\n",
        "data_cluster['JobSeek']=scaler.fit_transform(data_cluster['JobSeek'])\n",
        "data_cluster['UndergradMajor']=scaler.fit_transform(data_cluster['UndergradMajor'])\n",
        "data_cluster['Gender']=scaler.fit_transform(data_cluster['Gender'])\n",
        "data_cluster['CompFreq']=scaler.fit_transform(data_cluster['CompFreq'])\n",
        "scaler=StandardScaler()\n",
        "\n",
        "data_cluster=scaler.fit_transform(data_cluster)\n"
      ],
      "execution_count": null,
      "outputs": []
    },
    {
      "cell_type": "code",
      "metadata": {
        "id": "KbFmN1jdFU4o"
      },
      "source": [
        "clustering_data=pd.DataFrame(data_cluster,columns=list1)\n"
      ],
      "execution_count": null,
      "outputs": []
    },
    {
      "cell_type": "code",
      "metadata": {
        "execution": {
          "iopub.execute_input": "2020-11-08T14:23:01.307413Z",
          "iopub.status.busy": "2020-11-08T14:23:01.304239Z",
          "iopub.status.idle": "2020-11-08T14:23:22.887625Z",
          "shell.execute_reply": "2020-11-08T14:23:22.886891Z"
        },
        "papermill": {
          "duration": 21.736177,
          "end_time": "2020-11-08T14:23:22.887753",
          "exception": false,
          "start_time": "2020-11-08T14:23:01.151576",
          "status": "completed"
        },
        "tags": [],
        "id": "C_eBledE-BUj"
      },
      "source": [
        "distortions = []\n",
        "inertias = []\n",
        "mapping1 = {}\n",
        "mapping2 = {}\n",
        "K = range(1,15)\n",
        "\n",
        "for k in K:\n",
        "    #Building and fitting the model\n",
        "    kmeanModel = KMeans(n_clusters=k).fit(clustering_data)\n",
        "    kmeanModel.fit(clustering_data)\n",
        "\n",
        "    distortions.append(sum(np.min(cdist(clustering_data, kmeanModel.cluster_centers_,\n",
        "                    'euclidean'),axis=1)) /clustering_data.shape[0])\n",
        "    inertias.append(kmeanModel.inertia_)\n",
        "\n",
        "    mapping1[k] = sum(np.min(cdist(clustering_data, kmeanModel.cluster_centers_,\n",
        "                'euclidean'),axis=1)) / clustering_data.shape[0]\n",
        "    mapping2[k] = kmeanModel.inertia_\n"
      ],
      "execution_count": null,
      "outputs": []
    },
    {
      "cell_type": "code",
      "metadata": {
        "execution": {
          "iopub.execute_input": "2020-11-08T14:23:23.182587Z",
          "iopub.status.busy": "2020-11-08T14:23:23.179790Z",
          "iopub.status.idle": "2020-11-08T14:23:23.707113Z",
          "shell.execute_reply": "2020-11-08T14:23:23.707662Z"
        },
        "papermill": {
          "duration": 0.679445,
          "end_time": "2020-11-08T14:23:23.707821",
          "exception": false,
          "start_time": "2020-11-08T14:23:23.028376",
          "status": "completed"
        },
        "tags": [],
        "id": "Pooakz5M-BUp",
        "outputId": "57de5386-56e3-4586-8360-07a62a841006",
        "colab": {
          "base_uri": "https://localhost:8080/",
          "height": 295
        }
      },
      "source": [
        "plt.plot(K, distortions, 'bx-')\n",
        "plt.xlabel('Values of K')\n",
        "plt.ylabel('Distortion')\n",
        "plt.title('The Elbow Method using Distortion')\n",
        "plt.show()"
      ],
      "execution_count": null,
      "outputs": [
        {
          "output_type": "display_data",
          "data": {
            "image/png": "[encoded data removed]",
            "text/plain": [
              "<Figure size 432x288 with 1 Axes>"
            ]
          },
          "metadata": {
            "tags": [],
            "needs_background": "light"
          }
        }
      ]
    },
    {
      "cell_type": "code",
      "metadata": {
        "execution": {
          "iopub.execute_input": "2020-11-08T14:23:24.002661Z",
          "iopub.status.busy": "2020-11-08T14:23:23.999999Z",
          "iopub.status.idle": "2020-11-08T14:23:25.595441Z",
          "shell.execute_reply": "2020-11-08T14:23:25.594591Z"
        },
        "papermill": {
          "duration": 1.744154,
          "end_time": "2020-11-08T14:23:25.595587",
          "exception": false,
          "start_time": "2020-11-08T14:23:23.851433",
          "status": "completed"
        },
        "tags": [],
        "id": "oBiYQ5AI-BUt"
      },
      "source": [
        "cluster=KMeans(n_clusters=10)\n",
        "clustering_data['New']=cluster.fit_predict(clustering_data)"
      ],
      "execution_count": null,
      "outputs": []
    },
    {
      "cell_type": "code",
      "metadata": {
        "id": "Hs1-8KnlJ4nX"
      },
      "source": [
        "X=clustering_data.drop('New',axis=1)\n",
        "Y=clustering_data['New']"
      ],
      "execution_count": null,
      "outputs": []
    },
    {
      "cell_type": "code",
      "metadata": {
        "id": "OnusNwJKHyHG",
        "outputId": "234afdb6-e92d-4cc8-8406-71d9e073e876",
        "colab": {
          "base_uri": "https://localhost:8080/"
        }
      },
      "source": [
        "from sklearn.model_selection import train_test_split\n",
        "X_train, X_test, y_train, y_test = train_test_split(X, Y, test_size = 0.20)\n",
        "from sklearn.naive_bayes import GaussianNB\n",
        "gnb = GaussianNB()\n",
        "y_pred = gnb.fit(X_train, y_train).predict(X_test)\n",
        "from sklearn import metrics\n",
        "print(\"Accuracy :\",metrics.accuracy_score(y_test,y_pred))"
      ],
      "execution_count": null,
      "outputs": [
        {
          "output_type": "stream",
          "text": [
            "Accuracy : 0.8455284552845529\n"
          ],
          "name": "stdout"
        }
      ]
    },
    {
      "cell_type": "code",
      "metadata": {
        "id": "reuQHfUbKBw9",
        "outputId": "2a630abf-7230-43b7-da53-8a7384bb2e3a",
        "colab": {
          "base_uri": "https://localhost:8080/",
          "height": 283
        }
      },
      "source": [
        "plt.scatter(X_test['WorkWeekHrs'],y_test,color='blue')\n",
        "plt.scatter(X_test['WorkWeekHrs'],y_pred,color='red')"
      ],
      "execution_count": null,
      "outputs": [
        {
          "output_type": "execute_result",
          "data": {
            "text/plain": [
              "<matplotlib.collections.PathCollection at 0x7f5a87b46dd8>"
            ]
          },
          "metadata": {
            "tags": []
          },
          "execution_count": 190
        },
        {
          "output_type": "display_data",
          "data": {
            "image/png": "[encoded data removed]",
            "text/plain": [
              "<Figure size 432x288 with 1 Axes>"
            ]
          },
          "metadata": {
            "tags": [],
            "needs_background": "light"
          }
        }
      ]
    },
    {
      "cell_type": "code",
      "metadata": {
        "id": "TlluYbbOKaQx",
        "outputId": "569ebd84-1e83-4307-89e8-812bee6b5efb",
        "colab": {
          "base_uri": "https://localhost:8080/",
          "height": 460
        }
      },
      "source": [
        "fig, axes = plt.subplots(figsize=(7,7))\n",
        "sns.scatterplot(x='WorkWeekHrs',y='New',data=clustering_data,hue='New',palette='Paired_r')"
      ],
      "execution_count": null,
      "outputs": [
        {
          "output_type": "execute_result",
          "data": {
            "text/plain": [
              "<matplotlib.axes._subplots.AxesSubplot at 0x7f5a87e3bf60>"
            ]
          },
          "metadata": {
            "tags": []
          },
          "execution_count": 196
        },
        {
          "output_type": "display_data",
          "data": {
            "image/png": "[encoded data removed]",
            "text/plain": [
              "<Figure size 504x504 with 1 Axes>"
            ]
          },
          "metadata": {
            "tags": [],
            "needs_background": "light"
          }
        }
      ]
    },
    {
      "cell_type": "code",
      "metadata": {
        "id": "LtUCcKpqMBpG",
        "outputId": "e06d7f31-e9ad-433d-fc11-efdd9bfd1a00",
        "colab": {
          "base_uri": "https://localhost:8080/",
          "height": 460
        }
      },
      "source": [
        "fig, axes = plt.subplots(figsize=(7,7))\n",
        "sns.scatterplot(x='Age',y='New',data=clustering_data,hue='New',palette='Paired_r')"
      ],
      "execution_count": null,
      "outputs": [
        {
          "output_type": "execute_result",
          "data": {
            "text/plain": [
              "<matplotlib.axes._subplots.AxesSubplot at 0x7f5a87e9e588>"
            ]
          },
          "metadata": {
            "tags": []
          },
          "execution_count": 197
        },
        {
          "output_type": "display_data",
          "data": {
            "image/png": "[encoded data removed]",
            "text/plain": [
              "<Figure size 504x504 with 1 Axes>"
            ]
          },
          "metadata": {
            "tags": [],
            "needs_background": "light"
          }
        }
      ]
    },
    {
      "cell_type": "code",
      "metadata": {
        "id": "CbxsE2tBK9Ci"
      },
      "source": [],
      "execution_count": null,
      "outputs": []
    }
  ]
}